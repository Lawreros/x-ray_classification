{
 "cells": [
  {
   "cell_type": "code",
   "execution_count": 1,
   "id": "281a2433",
   "metadata": {
    "_cell_guid": "b1076dfc-b9ad-4769-8c92-a6c4dae69d19",
    "_kg_hide-input": true,
    "_uuid": "8f2839f25d086af736a60e9eeb907d3b93b6e0e5",
    "execution": {
     "iopub.execute_input": "2022-05-21T17:22:26.729251Z",
     "iopub.status.busy": "2022-05-21T17:22:26.728803Z",
     "iopub.status.idle": "2022-05-21T17:22:26.740890Z",
     "shell.execute_reply": "2022-05-21T17:22:26.740071Z"
    },
    "papermill": {
     "duration": 0.030516,
     "end_time": "2022-05-21T17:22:26.742923",
     "exception": false,
     "start_time": "2022-05-21T17:22:26.712407",
     "status": "completed"
    },
    "scrolled": true,
    "tags": []
   },
   "outputs": [],
   "source": [
    "# This Python 3 environment comes with many helpful analytics libraries installed\n",
    "# It is defined by the kaggle/python Docker image: https://github.com/kaggle/docker-python\n",
    "# For example, here's several helpful packages to load\n",
    "\n",
    "import numpy as np # linear algebra\n",
    "import pandas as pd # data processing, CSV file I/O (e.g. pd.read_csv)\n",
    "import os\n",
    "\n",
    "# Input data files are available in the read-only \"../input/\" directory\n",
    "# For example, running this (by clicking run or pressing Shift+Enter) will list all files under the input directory\n",
    "\n",
    "# import os\n",
    "# for dirname, _, filenames in os.walk('/kaggle/input'):\n",
    "#     for filename in filenames:\n",
    "#         print(os.path.join(dirname, filename))\n",
    "\n",
    "# You can write up to 20GB to the current directory (/kaggle/working/) that gets preserved as output when you create a version using \"Save & Run All\" \n",
    "# You can also write temporary files to /kaggle/temp/, but they won't be saved outside of the current session"
   ]
  },
  {
   "cell_type": "markdown",
   "id": "8d23862c",
   "metadata": {
    "papermill": {
     "duration": 0.013815,
     "end_time": "2022-05-21T17:22:26.770447",
     "exception": false,
     "start_time": "2022-05-21T17:22:26.756632",
     "status": "completed"
    },
    "tags": []
   },
   "source": [
    "## Load in the relevant images for analysis"
   ]
  },
  {
   "cell_type": "code",
   "execution_count": 2,
   "id": "b93e8cfb",
   "metadata": {
    "execution": {
     "iopub.execute_input": "2022-05-21T17:22:26.798794Z",
     "iopub.status.busy": "2022-05-21T17:22:26.798455Z",
     "iopub.status.idle": "2022-05-21T17:22:28.834091Z",
     "shell.execute_reply": "2022-05-21T17:22:28.833115Z"
    },
    "papermill": {
     "duration": 2.052857,
     "end_time": "2022-05-21T17:22:28.836440",
     "exception": false,
     "start_time": "2022-05-21T17:22:26.783583",
     "status": "completed"
    },
    "tags": []
   },
   "outputs": [],
   "source": [
    "import pydicom\n",
    "import torch\n",
    "from tqdm import tqdm\n",
    "import time\n",
    "from matplotlib import pyplot as plt"
   ]
  },
  {
   "cell_type": "code",
   "execution_count": 3,
   "id": "f747f23c",
   "metadata": {
    "execution": {
     "iopub.execute_input": "2022-05-21T17:22:28.865120Z",
     "iopub.status.busy": "2022-05-21T17:22:28.864807Z",
     "iopub.status.idle": "2022-05-21T17:22:28.897974Z",
     "shell.execute_reply": "2022-05-21T17:22:28.897112Z"
    },
    "papermill": {
     "duration": 0.050005,
     "end_time": "2022-05-21T17:22:28.899966",
     "exception": false,
     "start_time": "2022-05-21T17:22:28.849961",
     "status": "completed"
    },
    "tags": []
   },
   "outputs": [
    {
     "data": {
      "text/html": [
       "<div>\n",
       "<style scoped>\n",
       "    .dataframe tbody tr th:only-of-type {\n",
       "        vertical-align: middle;\n",
       "    }\n",
       "\n",
       "    .dataframe tbody tr th {\n",
       "        vertical-align: top;\n",
       "    }\n",
       "\n",
       "    .dataframe thead th {\n",
       "        text-align: right;\n",
       "    }\n",
       "</style>\n",
       "<table border=\"1\" class=\"dataframe\">\n",
       "  <thead>\n",
       "    <tr style=\"text-align: right;\">\n",
       "      <th></th>\n",
       "      <th>SOPInstanceUID</th>\n",
       "      <th>Target</th>\n",
       "    </tr>\n",
       "  </thead>\n",
       "  <tbody>\n",
       "    <tr>\n",
       "      <th>0</th>\n",
       "      <td>1.2.826.0.1.3680043.8.498.10025629581362719970...</td>\n",
       "      <td>0</td>\n",
       "    </tr>\n",
       "    <tr>\n",
       "      <th>1</th>\n",
       "      <td>1.2.826.0.1.3680043.8.498.10036150326276641158...</td>\n",
       "      <td>15</td>\n",
       "    </tr>\n",
       "    <tr>\n",
       "      <th>2</th>\n",
       "      <td>1.2.826.0.1.3680043.8.498.10038426859954986240...</td>\n",
       "      <td>12</td>\n",
       "    </tr>\n",
       "    <tr>\n",
       "      <th>3</th>\n",
       "      <td>1.2.826.0.1.3680043.8.498.10050991192143676483...</td>\n",
       "      <td>14</td>\n",
       "    </tr>\n",
       "    <tr>\n",
       "      <th>4</th>\n",
       "      <td>1.2.826.0.1.3680043.8.498.10053309524595490852...</td>\n",
       "      <td>3</td>\n",
       "    </tr>\n",
       "    <tr>\n",
       "      <th>5</th>\n",
       "      <td>1.2.826.0.1.3680043.8.498.10053755320637729867...</td>\n",
       "      <td>3</td>\n",
       "    </tr>\n",
       "    <tr>\n",
       "      <th>6</th>\n",
       "      <td>1.2.826.0.1.3680043.8.498.10062189329714053601...</td>\n",
       "      <td>14</td>\n",
       "    </tr>\n",
       "    <tr>\n",
       "      <th>7</th>\n",
       "      <td>1.2.826.0.1.3680043.8.498.10065930002825553435...</td>\n",
       "      <td>13 20</td>\n",
       "    </tr>\n",
       "    <tr>\n",
       "      <th>8</th>\n",
       "      <td>1.2.826.0.1.3680043.8.498.10072001800484199846...</td>\n",
       "      <td>3</td>\n",
       "    </tr>\n",
       "    <tr>\n",
       "      <th>9</th>\n",
       "      <td>1.2.826.0.1.3680043.8.498.10077219503857952412...</td>\n",
       "      <td>3</td>\n",
       "    </tr>\n",
       "  </tbody>\n",
       "</table>\n",
       "</div>"
      ],
      "text/plain": [
       "                                      SOPInstanceUID  Target\n",
       "0  1.2.826.0.1.3680043.8.498.10025629581362719970...      0 \n",
       "1  1.2.826.0.1.3680043.8.498.10036150326276641158...     15 \n",
       "2  1.2.826.0.1.3680043.8.498.10038426859954986240...     12 \n",
       "3  1.2.826.0.1.3680043.8.498.10050991192143676483...     14 \n",
       "4  1.2.826.0.1.3680043.8.498.10053309524595490852...      3 \n",
       "5  1.2.826.0.1.3680043.8.498.10053755320637729867...      3 \n",
       "6  1.2.826.0.1.3680043.8.498.10062189329714053601...     14 \n",
       "7  1.2.826.0.1.3680043.8.498.10065930002825553435...  13 20 \n",
       "8  1.2.826.0.1.3680043.8.498.10072001800484199846...      3 \n",
       "9  1.2.826.0.1.3680043.8.498.10077219503857952412...      3 "
      ]
     },
     "execution_count": 3,
     "metadata": {},
     "output_type": "execute_result"
    }
   ],
   "source": [
    "# Load in the training data target values\n",
    "train_df = pd.read_csv('../input/unifesp-x-ray-body-part-classifier/train.csv')\n",
    "train_df.head(10)"
   ]
  },
  {
   "cell_type": "code",
   "execution_count": 4,
   "id": "0b95bbac",
   "metadata": {
    "execution": {
     "iopub.execute_input": "2022-05-21T17:22:28.929795Z",
     "iopub.status.busy": "2022-05-21T17:22:28.929482Z",
     "iopub.status.idle": "2022-05-21T17:22:28.939951Z",
     "shell.execute_reply": "2022-05-21T17:22:28.938969Z"
    },
    "papermill": {
     "duration": 0.027397,
     "end_time": "2022-05-21T17:22:28.941771",
     "exception": false,
     "start_time": "2022-05-21T17:22:28.914374",
     "status": "completed"
    },
    "tags": []
   },
   "outputs": [],
   "source": [
    "def dcmtag2table(folder, list_of_tags):\n",
    "    \"\"\"\n",
    "    Create a Pandas DataFrame with the <list_of_tags> DICOM tags\n",
    "    from the DICOM files in <folder>\n",
    "    \n",
    "    Parameters:\n",
    "        folder (str): path for the folder to be recursively walked through looking for DICOM files\n",
    "        list_of_tags (list of strings): a list of DICOM tags with no whitespaces\n",
    "        \n",
    "    Returns:\n",
    "        df (DataFrame): table of DICOM tags from the files in <folder>\n",
    "    \"\"\"\n",
    "    \n",
    "    list_of_tags = list_of_tags.copy()\n",
    "    items = []\n",
    "    table = []\n",
    "    filelist = []\n",
    "    print(\"Listing files...\")\n",
    "    start = time.time()\n",
    "    for root, dirs, files in os.walk(folder, topdown=False):\n",
    "        for name in files:\n",
    "            filelist.append(os.path.join(root,name)) #Get list of files that are present in the folder\n",
    "    \n",
    "    print(\"Time: \" + str(time.time() - start))\n",
    "    print(\"Reading files...\")\n",
    "    time.sleep(2)\n",
    "    for _f in tqdm(filelist):\n",
    "        try:\n",
    "            ds = pydicom.dcmread(_f, stop_before_pixels=True) #Try to read each of the files, if they aren't pydicom compatible, run <except>\n",
    "            items = [] # ^ The \"stop_before_pixels\" prevents the loading of the raw data, just metadata\n",
    "            items.append(_f)\n",
    "\n",
    "            for _tag in list_of_tags:\n",
    "                if _tag in ds:\n",
    "                    items.append(ds.data_element(_tag).value) #Gets the values for the paremeters defined in <list_of_tags>\n",
    "                else:\n",
    "                    items.append(\"Not found\")\n",
    "\n",
    "            table.append((items)) #make a table of the tag values\n",
    "        except:\n",
    "            print(\"Skipping non-DICOM: \" + _f)\n",
    "\n",
    "    \n",
    "    list_of_tags.insert(0, \"Filename\") #add \"Filename\" to <list_of_tags>\n",
    "    test = list(map(list, zip(*table)))\n",
    "    dictone = {}\n",
    "\n",
    "    for i, _tag in enumerate (list_of_tags):\n",
    "        dictone[_tag] = test[i]\n",
    "\n",
    "    df = pd.DataFrame(dictone)\n",
    "    time.sleep(2)\n",
    "    print(\"Finished.\")\n",
    "    return df\n",
    "    "
   ]
  },
  {
   "cell_type": "code",
   "execution_count": 5,
   "id": "aa09c112",
   "metadata": {
    "execution": {
     "iopub.execute_input": "2022-05-21T17:22:28.970954Z",
     "iopub.status.busy": "2022-05-21T17:22:28.970663Z",
     "iopub.status.idle": "2022-05-21T17:23:22.779468Z",
     "shell.execute_reply": "2022-05-21T17:23:22.778675Z"
    },
    "papermill": {
     "duration": 53.8267,
     "end_time": "2022-05-21T17:23:22.782393",
     "exception": false,
     "start_time": "2022-05-21T17:22:28.955693",
     "status": "completed"
    },
    "tags": []
   },
   "outputs": [
    {
     "name": "stdout",
     "output_type": "stream",
     "text": [
      "Listing files...\n",
      "Time: 18.155726194381714\n",
      "Reading files...\n"
     ]
    },
    {
     "name": "stderr",
     "output_type": "stream",
     "text": [
      "100%|██████████| 1738/1738 [00:31<00:00, 54.94it/s]\n"
     ]
    },
    {
     "name": "stdout",
     "output_type": "stream",
     "text": [
      "Finished.\n"
     ]
    }
   ],
   "source": [
    "tags = ['PhotometricInterpretation','BitsAllocated', 'SOPInstanceUID']\n",
    "dicom_tags_train =  dcmtag2table('../input/unifesp-x-ray-body-part-classifier/train', tags)"
   ]
  },
  {
   "cell_type": "code",
   "execution_count": 6,
   "id": "65f79221",
   "metadata": {
    "execution": {
     "iopub.execute_input": "2022-05-21T17:23:22.986157Z",
     "iopub.status.busy": "2022-05-21T17:23:22.985886Z",
     "iopub.status.idle": "2022-05-21T17:23:22.998634Z",
     "shell.execute_reply": "2022-05-21T17:23:22.997762Z"
    },
    "papermill": {
     "duration": 0.116967,
     "end_time": "2022-05-21T17:23:23.000886",
     "exception": false,
     "start_time": "2022-05-21T17:23:22.883919",
     "status": "completed"
    },
    "tags": []
   },
   "outputs": [
    {
     "data": {
      "text/html": [
       "<div>\n",
       "<style scoped>\n",
       "    .dataframe tbody tr th:only-of-type {\n",
       "        vertical-align: middle;\n",
       "    }\n",
       "\n",
       "    .dataframe tbody tr th {\n",
       "        vertical-align: top;\n",
       "    }\n",
       "\n",
       "    .dataframe thead th {\n",
       "        text-align: right;\n",
       "    }\n",
       "</style>\n",
       "<table border=\"1\" class=\"dataframe\">\n",
       "  <thead>\n",
       "    <tr style=\"text-align: right;\">\n",
       "      <th></th>\n",
       "      <th>Filename</th>\n",
       "      <th>PhotometricInterpretation</th>\n",
       "      <th>BitsAllocated</th>\n",
       "      <th>SOPInstanceUID</th>\n",
       "    </tr>\n",
       "  </thead>\n",
       "  <tbody>\n",
       "    <tr>\n",
       "      <th>0</th>\n",
       "      <td>../input/unifesp-x-ray-body-part-classifier/tr...</td>\n",
       "      <td>MONOCHROME1</td>\n",
       "      <td>16</td>\n",
       "      <td>1.2.826.0.1.3680043.8.498.71157989004260882669...</td>\n",
       "    </tr>\n",
       "    <tr>\n",
       "      <th>1</th>\n",
       "      <td>../input/unifesp-x-ray-body-part-classifier/tr...</td>\n",
       "      <td>MONOCHROME1</td>\n",
       "      <td>16</td>\n",
       "      <td>1.2.826.0.1.3680043.8.498.32467620439025796224...</td>\n",
       "    </tr>\n",
       "    <tr>\n",
       "      <th>2</th>\n",
       "      <td>../input/unifesp-x-ray-body-part-classifier/tr...</td>\n",
       "      <td>MONOCHROME1</td>\n",
       "      <td>16</td>\n",
       "      <td>1.2.826.0.1.3680043.8.498.74856220852423198555...</td>\n",
       "    </tr>\n",
       "    <tr>\n",
       "      <th>3</th>\n",
       "      <td>../input/unifesp-x-ray-body-part-classifier/tr...</td>\n",
       "      <td>MONOCHROME1</td>\n",
       "      <td>16</td>\n",
       "      <td>1.2.826.0.1.3680043.8.498.90865692473901867788...</td>\n",
       "    </tr>\n",
       "    <tr>\n",
       "      <th>4</th>\n",
       "      <td>../input/unifesp-x-ray-body-part-classifier/tr...</td>\n",
       "      <td>MONOCHROME1</td>\n",
       "      <td>16</td>\n",
       "      <td>1.2.826.0.1.3680043.8.498.44687741644515558201...</td>\n",
       "    </tr>\n",
       "  </tbody>\n",
       "</table>\n",
       "</div>"
      ],
      "text/plain": [
       "                                            Filename  \\\n",
       "0  ../input/unifesp-x-ray-body-part-classifier/tr...   \n",
       "1  ../input/unifesp-x-ray-body-part-classifier/tr...   \n",
       "2  ../input/unifesp-x-ray-body-part-classifier/tr...   \n",
       "3  ../input/unifesp-x-ray-body-part-classifier/tr...   \n",
       "4  ../input/unifesp-x-ray-body-part-classifier/tr...   \n",
       "\n",
       "  PhotometricInterpretation  BitsAllocated  \\\n",
       "0               MONOCHROME1             16   \n",
       "1               MONOCHROME1             16   \n",
       "2               MONOCHROME1             16   \n",
       "3               MONOCHROME1             16   \n",
       "4               MONOCHROME1             16   \n",
       "\n",
       "                                      SOPInstanceUID  \n",
       "0  1.2.826.0.1.3680043.8.498.71157989004260882669...  \n",
       "1  1.2.826.0.1.3680043.8.498.32467620439025796224...  \n",
       "2  1.2.826.0.1.3680043.8.498.74856220852423198555...  \n",
       "3  1.2.826.0.1.3680043.8.498.90865692473901867788...  \n",
       "4  1.2.826.0.1.3680043.8.498.44687741644515558201...  "
      ]
     },
     "execution_count": 6,
     "metadata": {},
     "output_type": "execute_result"
    }
   ],
   "source": [
    "dicom_tags_train.head(5)\n",
    "#plt.imshow(pydicom.dcmread(dicom_tags_train.Filename[0]).pixel_array,cmap = 'gray')\n",
    "#plt.show"
   ]
  },
  {
   "cell_type": "code",
   "execution_count": 7,
   "id": "2200a272",
   "metadata": {
    "execution": {
     "iopub.execute_input": "2022-05-21T17:23:23.205373Z",
     "iopub.status.busy": "2022-05-21T17:23:23.204780Z",
     "iopub.status.idle": "2022-05-21T17:23:23.238701Z",
     "shell.execute_reply": "2022-05-21T17:23:23.237359Z"
    },
    "papermill": {
     "duration": 0.128427,
     "end_time": "2022-05-21T17:23:23.240943",
     "exception": false,
     "start_time": "2022-05-21T17:23:23.112516",
     "status": "completed"
    },
    "tags": []
   },
   "outputs": [
    {
     "data": {
      "text/html": [
       "<div>\n",
       "<style scoped>\n",
       "    .dataframe tbody tr th:only-of-type {\n",
       "        vertical-align: middle;\n",
       "    }\n",
       "\n",
       "    .dataframe tbody tr th {\n",
       "        vertical-align: top;\n",
       "    }\n",
       "\n",
       "    .dataframe thead th {\n",
       "        text-align: right;\n",
       "    }\n",
       "</style>\n",
       "<table border=\"1\" class=\"dataframe\">\n",
       "  <thead>\n",
       "    <tr style=\"text-align: right;\">\n",
       "      <th></th>\n",
       "      <th>Filename</th>\n",
       "      <th>PhotometricInterpretation</th>\n",
       "      <th>BitsAllocated</th>\n",
       "      <th>SOPInstanceUID</th>\n",
       "      <th>Target</th>\n",
       "    </tr>\n",
       "  </thead>\n",
       "  <tbody>\n",
       "    <tr>\n",
       "      <th>0</th>\n",
       "      <td>../input/unifesp-x-ray-body-part-classifier/tr...</td>\n",
       "      <td>MONOCHROME1</td>\n",
       "      <td>16</td>\n",
       "      <td>1.2.826.0.1.3680043.8.498.71157989004260882669...</td>\n",
       "      <td>3</td>\n",
       "    </tr>\n",
       "    <tr>\n",
       "      <th>1</th>\n",
       "      <td>../input/unifesp-x-ray-body-part-classifier/tr...</td>\n",
       "      <td>MONOCHROME1</td>\n",
       "      <td>16</td>\n",
       "      <td>1.2.826.0.1.3680043.8.498.32467620439025796224...</td>\n",
       "      <td>4</td>\n",
       "    </tr>\n",
       "    <tr>\n",
       "      <th>2</th>\n",
       "      <td>../input/unifesp-x-ray-body-part-classifier/tr...</td>\n",
       "      <td>MONOCHROME1</td>\n",
       "      <td>16</td>\n",
       "      <td>1.2.826.0.1.3680043.8.498.74856220852423198555...</td>\n",
       "      <td>4</td>\n",
       "    </tr>\n",
       "    <tr>\n",
       "      <th>3</th>\n",
       "      <td>../input/unifesp-x-ray-body-part-classifier/tr...</td>\n",
       "      <td>MONOCHROME1</td>\n",
       "      <td>16</td>\n",
       "      <td>1.2.826.0.1.3680043.8.498.90865692473901867788...</td>\n",
       "      <td>7</td>\n",
       "    </tr>\n",
       "    <tr>\n",
       "      <th>4</th>\n",
       "      <td>../input/unifesp-x-ray-body-part-classifier/tr...</td>\n",
       "      <td>MONOCHROME1</td>\n",
       "      <td>16</td>\n",
       "      <td>1.2.826.0.1.3680043.8.498.44687741644515558201...</td>\n",
       "      <td>21</td>\n",
       "    </tr>\n",
       "  </tbody>\n",
       "</table>\n",
       "</div>"
      ],
      "text/plain": [
       "                                            Filename  \\\n",
       "0  ../input/unifesp-x-ray-body-part-classifier/tr...   \n",
       "1  ../input/unifesp-x-ray-body-part-classifier/tr...   \n",
       "2  ../input/unifesp-x-ray-body-part-classifier/tr...   \n",
       "3  ../input/unifesp-x-ray-body-part-classifier/tr...   \n",
       "4  ../input/unifesp-x-ray-body-part-classifier/tr...   \n",
       "\n",
       "  PhotometricInterpretation  BitsAllocated  \\\n",
       "0               MONOCHROME1             16   \n",
       "1               MONOCHROME1             16   \n",
       "2               MONOCHROME1             16   \n",
       "3               MONOCHROME1             16   \n",
       "4               MONOCHROME1             16   \n",
       "\n",
       "                                      SOPInstanceUID Target  \n",
       "0  1.2.826.0.1.3680043.8.498.71157989004260882669...     3   \n",
       "1  1.2.826.0.1.3680043.8.498.32467620439025796224...     4   \n",
       "2  1.2.826.0.1.3680043.8.498.74856220852423198555...     4   \n",
       "3  1.2.826.0.1.3680043.8.498.90865692473901867788...     7   \n",
       "4  1.2.826.0.1.3680043.8.498.44687741644515558201...    21   "
      ]
     },
     "execution_count": 7,
     "metadata": {},
     "output_type": "execute_result"
    }
   ],
   "source": [
    "# Add Target values to dicom_tags_train\n",
    "\n",
    "train = dicom_tags_train.merge(train_df, on = 'SOPInstanceUID')\n",
    "train.head(5)"
   ]
  },
  {
   "cell_type": "code",
   "execution_count": 8,
   "id": "2a70b191",
   "metadata": {
    "execution": {
     "iopub.execute_input": "2022-05-21T17:23:23.431019Z",
     "iopub.status.busy": "2022-05-21T17:23:23.430750Z",
     "iopub.status.idle": "2022-05-21T17:23:23.437410Z",
     "shell.execute_reply": "2022-05-21T17:23:23.436643Z"
    },
    "papermill": {
     "duration": 0.104038,
     "end_time": "2022-05-21T17:23:23.439282",
     "exception": false,
     "start_time": "2022-05-21T17:23:23.335244",
     "status": "completed"
    },
    "tags": []
   },
   "outputs": [
    {
     "data": {
      "text/plain": [
       "array(['MONOCHROME1', 'MONOCHROME2'], dtype=object)"
      ]
     },
     "execution_count": 8,
     "metadata": {},
     "output_type": "execute_result"
    }
   ],
   "source": [
    "train.PhotometricInterpretation.unique()"
   ]
  },
  {
   "cell_type": "markdown",
   "id": "e4678381",
   "metadata": {
    "papermill": {
     "duration": 0.096767,
     "end_time": "2022-05-21T17:23:23.633173",
     "exception": false,
     "start_time": "2022-05-21T17:23:23.536406",
     "status": "completed"
    },
    "tags": []
   },
   "source": [
    "# Define the model\n",
    "Try a few different network models in order to figure out what works best"
   ]
  },
  {
   "cell_type": "code",
   "execution_count": null,
   "id": "89772ded",
   "metadata": {
    "papermill": {
     "duration": 0.09046,
     "end_time": "2022-05-21T17:23:23.814498",
     "exception": false,
     "start_time": "2022-05-21T17:23:23.724038",
     "status": "completed"
    },
    "tags": []
   },
   "outputs": [],
   "source": []
  },
  {
   "cell_type": "code",
   "execution_count": null,
   "id": "d5d56fa9",
   "metadata": {
    "papermill": {
     "duration": 0.091925,
     "end_time": "2022-05-21T17:23:23.997401",
     "exception": false,
     "start_time": "2022-05-21T17:23:23.905476",
     "status": "completed"
    },
    "tags": []
   },
   "outputs": [],
   "source": []
  },
  {
   "cell_type": "markdown",
   "id": "91cb663f",
   "metadata": {
    "papermill": {
     "duration": 0.091092,
     "end_time": "2022-05-21T17:23:24.179547",
     "exception": false,
     "start_time": "2022-05-21T17:23:24.088455",
     "status": "completed"
    },
    "tags": []
   },
   "source": [
    "# Define the optimizer"
   ]
  },
  {
   "cell_type": "code",
   "execution_count": null,
   "id": "39271eba",
   "metadata": {
    "papermill": {
     "duration": 0.090132,
     "end_time": "2022-05-21T17:23:24.360250",
     "exception": false,
     "start_time": "2022-05-21T17:23:24.270118",
     "status": "completed"
    },
    "tags": []
   },
   "outputs": [],
   "source": []
  },
  {
   "cell_type": "code",
   "execution_count": null,
   "id": "eae9d85b",
   "metadata": {
    "papermill": {
     "duration": 0.091619,
     "end_time": "2022-05-21T17:23:24.541939",
     "exception": false,
     "start_time": "2022-05-21T17:23:24.450320",
     "status": "completed"
    },
    "tags": []
   },
   "outputs": [],
   "source": []
  },
  {
   "cell_type": "markdown",
   "id": "88e05395",
   "metadata": {
    "papermill": {
     "duration": 0.091977,
     "end_time": "2022-05-21T17:23:24.724066",
     "exception": false,
     "start_time": "2022-05-21T17:23:24.632089",
     "status": "completed"
    },
    "tags": []
   },
   "source": [
    "# Train the Network"
   ]
  },
  {
   "cell_type": "code",
   "execution_count": null,
   "id": "20288433",
   "metadata": {
    "papermill": {
     "duration": 0.090085,
     "end_time": "2022-05-21T17:23:24.905730",
     "exception": false,
     "start_time": "2022-05-21T17:23:24.815645",
     "status": "completed"
    },
    "tags": []
   },
   "outputs": [],
   "source": []
  },
  {
   "cell_type": "code",
   "execution_count": null,
   "id": "f70acf66",
   "metadata": {
    "papermill": {
     "duration": 0.091391,
     "end_time": "2022-05-21T17:23:25.089581",
     "exception": false,
     "start_time": "2022-05-21T17:23:24.998190",
     "status": "completed"
    },
    "tags": []
   },
   "outputs": [],
   "source": []
  },
  {
   "cell_type": "markdown",
   "id": "c06b246f",
   "metadata": {
    "papermill": {
     "duration": 0.090526,
     "end_time": "2022-05-21T17:23:25.270873",
     "exception": false,
     "start_time": "2022-05-21T17:23:25.180347",
     "status": "completed"
    },
    "tags": []
   },
   "source": [
    "# Test the Network"
   ]
  },
  {
   "cell_type": "code",
   "execution_count": null,
   "id": "e0be3e88",
   "metadata": {
    "papermill": {
     "duration": 0.094118,
     "end_time": "2022-05-21T17:23:25.455594",
     "exception": false,
     "start_time": "2022-05-21T17:23:25.361476",
     "status": "completed"
    },
    "tags": []
   },
   "outputs": [],
   "source": []
  }
 ],
 "metadata": {
  "kernelspec": {
   "display_name": "Python 3",
   "language": "python",
   "name": "python3"
  },
  "language_info": {
   "codemirror_mode": {
    "name": "ipython",
    "version": 3
   },
   "file_extension": ".py",
   "mimetype": "text/x-python",
   "name": "python",
   "nbconvert_exporter": "python",
   "pygments_lexer": "ipython3",
   "version": "3.7.12"
  },
  "papermill": {
   "default_parameters": {},
   "duration": 68.566226,
   "end_time": "2022-05-21T17:23:26.372198",
   "environment_variables": {},
   "exception": null,
   "input_path": "__notebook__.ipynb",
   "output_path": "__notebook__.ipynb",
   "parameters": {},
   "start_time": "2022-05-21T17:22:17.805972",
   "version": "2.3.4"
  }
 },
 "nbformat": 4,
 "nbformat_minor": 5
}

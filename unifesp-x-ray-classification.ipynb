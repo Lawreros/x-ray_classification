{
 "cells": [
  {
   "cell_type": "code",
   "execution_count": 1,
   "id": "1b202bcb",
   "metadata": {
    "_cell_guid": "b1076dfc-b9ad-4769-8c92-a6c4dae69d19",
    "_kg_hide-input": true,
    "_uuid": "8f2839f25d086af736a60e9eeb907d3b93b6e0e5",
    "execution": {
     "iopub.execute_input": "2022-05-27T20:22:13.220892Z",
     "iopub.status.busy": "2022-05-27T20:22:13.220546Z",
     "iopub.status.idle": "2022-05-27T20:22:13.232366Z",
     "shell.execute_reply": "2022-05-27T20:22:13.231335Z"
    },
    "papermill": {
     "duration": 0.041312,
     "end_time": "2022-05-27T20:22:13.234628",
     "exception": false,
     "start_time": "2022-05-27T20:22:13.193316",
     "status": "completed"
    },
    "scrolled": true,
    "tags": []
   },
   "outputs": [],
   "source": [
    "# This Python 3 environment comes with many helpful analytics libraries installed\n",
    "# It is defined by the kaggle/python Docker image: https://github.com/kaggle/docker-python\n",
    "# For example, here's several helpful packages to load\n",
    "\n",
    "import numpy as np # linear algebra\n",
    "import pandas as pd # data processing, CSV file I/O (e.g. pd.read_csv)\n",
    "import os\n",
    "\n",
    "# Input data files are available in the read-only \"../input/\" directory\n",
    "# For example, running this (by clicking run or pressing Shift+Enter) will list all files under the input directory\n",
    "\n",
    "# import os\n",
    "# for dirname, _, filenames in os.walk('/kaggle/input'):\n",
    "#     for filename in filenames:\n",
    "#         print(os.path.join(dirname, filename))\n",
    "\n",
    "# You can write up to 20GB to the current directory (/kaggle/working/) that gets preserved as output when you create a version using \"Save & Run All\" \n",
    "# You can also write temporary files to /kaggle/temp/, but they won't be saved outside of the current session"
   ]
  },
  {
   "cell_type": "markdown",
   "id": "e65b5410",
   "metadata": {
    "papermill": {
     "duration": 0.022442,
     "end_time": "2022-05-27T20:22:13.280288",
     "exception": false,
     "start_time": "2022-05-27T20:22:13.257846",
     "status": "completed"
    },
    "tags": []
   },
   "source": [
    "## Organize location and labels for relevant images"
   ]
  },
  {
   "cell_type": "code",
   "execution_count": 2,
   "id": "bc363169",
   "metadata": {
    "execution": {
     "iopub.execute_input": "2022-05-27T20:22:13.327372Z",
     "iopub.status.busy": "2022-05-27T20:22:13.327091Z",
     "iopub.status.idle": "2022-05-27T20:22:15.636978Z",
     "shell.execute_reply": "2022-05-27T20:22:15.635922Z"
    },
    "papermill": {
     "duration": 2.336889,
     "end_time": "2022-05-27T20:22:15.639928",
     "exception": false,
     "start_time": "2022-05-27T20:22:13.303039",
     "status": "completed"
    },
    "tags": []
   },
   "outputs": [],
   "source": [
    "import pydicom\n",
    "import torch\n",
    "from tqdm import tqdm\n",
    "import time\n",
    "from matplotlib import pyplot as plt"
   ]
  },
  {
   "cell_type": "code",
   "execution_count": 3,
   "id": "435cb22e",
   "metadata": {
    "execution": {
     "iopub.execute_input": "2022-05-27T20:22:15.688356Z",
     "iopub.status.busy": "2022-05-27T20:22:15.688046Z",
     "iopub.status.idle": "2022-05-27T20:22:15.725542Z",
     "shell.execute_reply": "2022-05-27T20:22:15.724454Z"
    },
    "papermill": {
     "duration": 0.06419,
     "end_time": "2022-05-27T20:22:15.728417",
     "exception": false,
     "start_time": "2022-05-27T20:22:15.664227",
     "status": "completed"
    },
    "tags": []
   },
   "outputs": [
    {
     "data": {
      "text/html": [
       "<div>\n",
       "<style scoped>\n",
       "    .dataframe tbody tr th:only-of-type {\n",
       "        vertical-align: middle;\n",
       "    }\n",
       "\n",
       "    .dataframe tbody tr th {\n",
       "        vertical-align: top;\n",
       "    }\n",
       "\n",
       "    .dataframe thead th {\n",
       "        text-align: right;\n",
       "    }\n",
       "</style>\n",
       "<table border=\"1\" class=\"dataframe\">\n",
       "  <thead>\n",
       "    <tr style=\"text-align: right;\">\n",
       "      <th></th>\n",
       "      <th>SOPInstanceUID</th>\n",
       "      <th>Target</th>\n",
       "    </tr>\n",
       "  </thead>\n",
       "  <tbody>\n",
       "    <tr>\n",
       "      <th>0</th>\n",
       "      <td>1.2.826.0.1.3680043.8.498.10025629581362719970...</td>\n",
       "      <td>0</td>\n",
       "    </tr>\n",
       "    <tr>\n",
       "      <th>1</th>\n",
       "      <td>1.2.826.0.1.3680043.8.498.10036150326276641158...</td>\n",
       "      <td>15</td>\n",
       "    </tr>\n",
       "    <tr>\n",
       "      <th>2</th>\n",
       "      <td>1.2.826.0.1.3680043.8.498.10038426859954986240...</td>\n",
       "      <td>12</td>\n",
       "    </tr>\n",
       "    <tr>\n",
       "      <th>3</th>\n",
       "      <td>1.2.826.0.1.3680043.8.498.10050991192143676483...</td>\n",
       "      <td>14</td>\n",
       "    </tr>\n",
       "    <tr>\n",
       "      <th>4</th>\n",
       "      <td>1.2.826.0.1.3680043.8.498.10053309524595490852...</td>\n",
       "      <td>3</td>\n",
       "    </tr>\n",
       "    <tr>\n",
       "      <th>5</th>\n",
       "      <td>1.2.826.0.1.3680043.8.498.10053755320637729867...</td>\n",
       "      <td>3</td>\n",
       "    </tr>\n",
       "    <tr>\n",
       "      <th>6</th>\n",
       "      <td>1.2.826.0.1.3680043.8.498.10062189329714053601...</td>\n",
       "      <td>14</td>\n",
       "    </tr>\n",
       "    <tr>\n",
       "      <th>7</th>\n",
       "      <td>1.2.826.0.1.3680043.8.498.10065930002825553435...</td>\n",
       "      <td>13 20</td>\n",
       "    </tr>\n",
       "    <tr>\n",
       "      <th>8</th>\n",
       "      <td>1.2.826.0.1.3680043.8.498.10072001800484199846...</td>\n",
       "      <td>3</td>\n",
       "    </tr>\n",
       "    <tr>\n",
       "      <th>9</th>\n",
       "      <td>1.2.826.0.1.3680043.8.498.10077219503857952412...</td>\n",
       "      <td>3</td>\n",
       "    </tr>\n",
       "  </tbody>\n",
       "</table>\n",
       "</div>"
      ],
      "text/plain": [
       "                                      SOPInstanceUID  Target\n",
       "0  1.2.826.0.1.3680043.8.498.10025629581362719970...      0 \n",
       "1  1.2.826.0.1.3680043.8.498.10036150326276641158...     15 \n",
       "2  1.2.826.0.1.3680043.8.498.10038426859954986240...     12 \n",
       "3  1.2.826.0.1.3680043.8.498.10050991192143676483...     14 \n",
       "4  1.2.826.0.1.3680043.8.498.10053309524595490852...      3 \n",
       "5  1.2.826.0.1.3680043.8.498.10053755320637729867...      3 \n",
       "6  1.2.826.0.1.3680043.8.498.10062189329714053601...     14 \n",
       "7  1.2.826.0.1.3680043.8.498.10065930002825553435...  13 20 \n",
       "8  1.2.826.0.1.3680043.8.498.10072001800484199846...      3 \n",
       "9  1.2.826.0.1.3680043.8.498.10077219503857952412...      3 "
      ]
     },
     "execution_count": 3,
     "metadata": {},
     "output_type": "execute_result"
    }
   ],
   "source": [
    "# Load in the training data target values\n",
    "train_df = pd.read_csv('../input/unifesp-x-ray-body-part-classifier/train.csv')\n",
    "train_df.head(10)"
   ]
  },
  {
   "cell_type": "code",
   "execution_count": 4,
   "id": "442f0f41",
   "metadata": {
    "execution": {
     "iopub.execute_input": "2022-05-27T20:22:15.779422Z",
     "iopub.status.busy": "2022-05-27T20:22:15.779142Z",
     "iopub.status.idle": "2022-05-27T20:22:15.792548Z",
     "shell.execute_reply": "2022-05-27T20:22:15.791811Z"
    },
    "papermill": {
     "duration": 0.04132,
     "end_time": "2022-05-27T20:22:15.794537",
     "exception": false,
     "start_time": "2022-05-27T20:22:15.753217",
     "status": "completed"
    },
    "tags": []
   },
   "outputs": [],
   "source": [
    "def dcmtag2table(folder, list_of_tags):\n",
    "    \"\"\"\n",
    "    Create a Pandas DataFrame with the <list_of_tags> DICOM tags\n",
    "    from the DICOM files in <folder>\n",
    "    \n",
    "    Parameters:\n",
    "        folder (str): path for the folder to be recursively walked through looking for DICOM files\n",
    "        list_of_tags (list of strings): a list of DICOM tags with no whitespaces\n",
    "        \n",
    "    Returns:\n",
    "        df (DataFrame): table of DICOM tags from the files in <folder>\n",
    "    \"\"\"\n",
    "    \n",
    "    list_of_tags = list_of_tags.copy()\n",
    "    items = []\n",
    "    table = []\n",
    "    filelist = []\n",
    "    print(\"Listing files...\")\n",
    "    start = time.time()\n",
    "    for root, dirs, files in os.walk(folder, topdown=False):\n",
    "        for name in files:\n",
    "            filelist.append(os.path.join(root,name)) #Get list of files that are present in the folder\n",
    "    \n",
    "    print(\"Time: \" + str(time.time() - start))\n",
    "    print(\"Reading files...\")\n",
    "    time.sleep(2)\n",
    "    for _f in tqdm(filelist):\n",
    "        try:\n",
    "            ds = pydicom.dcmread(_f, stop_before_pixels=True) #Try to read each of the files, if they aren't pydicom compatible, run <except>\n",
    "            items = [] # ^ The \"stop_before_pixels\" prevents the loading of the raw data, just metadata\n",
    "            items.append(_f)\n",
    "\n",
    "            for _tag in list_of_tags:\n",
    "                if _tag in ds:\n",
    "                    items.append(ds.data_element(_tag).value) #Gets the values for the paremeters defined in <list_of_tags>\n",
    "                else:\n",
    "                    items.append(\"Not found\")\n",
    "\n",
    "            table.append((items)) #make a table of the tag values\n",
    "        except:\n",
    "            print(\"Skipping non-DICOM: \" + _f)\n",
    "\n",
    "    \n",
    "    list_of_tags.insert(0, \"Filename\") #add \"Filename\" to <list_of_tags>\n",
    "    test = list(map(list, zip(*table)))\n",
    "    dictone = {}\n",
    "\n",
    "    for i, _tag in enumerate (list_of_tags):\n",
    "        dictone[_tag] = test[i]\n",
    "\n",
    "    df = pd.DataFrame(dictone)\n",
    "    time.sleep(2)\n",
    "    print(\"Finished.\")\n",
    "    return df\n",
    "    "
   ]
  },
  {
   "cell_type": "code",
   "execution_count": 5,
   "id": "9c738219",
   "metadata": {
    "execution": {
     "iopub.execute_input": "2022-05-27T20:22:15.842653Z",
     "iopub.status.busy": "2022-05-27T20:22:15.842249Z",
     "iopub.status.idle": "2022-05-27T20:23:09.745821Z",
     "shell.execute_reply": "2022-05-27T20:23:09.744662Z"
    },
    "papermill": {
     "duration": 53.930607,
     "end_time": "2022-05-27T20:23:09.748287",
     "exception": false,
     "start_time": "2022-05-27T20:22:15.817680",
     "status": "completed"
    },
    "tags": []
   },
   "outputs": [
    {
     "name": "stdout",
     "output_type": "stream",
     "text": [
      "Listing files...\n",
      "Time: 16.662697076797485\n",
      "Reading files...\n"
     ]
    },
    {
     "name": "stderr",
     "output_type": "stream",
     "text": [
      "100%|██████████| 1738/1738 [00:33<00:00, 52.32it/s]\n"
     ]
    },
    {
     "name": "stdout",
     "output_type": "stream",
     "text": [
      "Finished.\n"
     ]
    }
   ],
   "source": [
    "tags = ['PhotometricInterpretation','BitsAllocated', 'SOPInstanceUID']\n",
    "dicom_tags_train =  dcmtag2table('../input/unifesp-x-ray-body-part-classifier/train', tags)"
   ]
  },
  {
   "cell_type": "code",
   "execution_count": 6,
   "id": "2f24f42b",
   "metadata": {
    "execution": {
     "iopub.execute_input": "2022-05-27T20:23:10.022847Z",
     "iopub.status.busy": "2022-05-27T20:23:10.021938Z",
     "iopub.status.idle": "2022-05-27T20:23:10.033389Z",
     "shell.execute_reply": "2022-05-27T20:23:10.032591Z"
    },
    "papermill": {
     "duration": 0.15336,
     "end_time": "2022-05-27T20:23:10.035607",
     "exception": false,
     "start_time": "2022-05-27T20:23:09.882247",
     "status": "completed"
    },
    "tags": []
   },
   "outputs": [
    {
     "data": {
      "text/html": [
       "<div>\n",
       "<style scoped>\n",
       "    .dataframe tbody tr th:only-of-type {\n",
       "        vertical-align: middle;\n",
       "    }\n",
       "\n",
       "    .dataframe tbody tr th {\n",
       "        vertical-align: top;\n",
       "    }\n",
       "\n",
       "    .dataframe thead th {\n",
       "        text-align: right;\n",
       "    }\n",
       "</style>\n",
       "<table border=\"1\" class=\"dataframe\">\n",
       "  <thead>\n",
       "    <tr style=\"text-align: right;\">\n",
       "      <th></th>\n",
       "      <th>Filename</th>\n",
       "      <th>PhotometricInterpretation</th>\n",
       "      <th>BitsAllocated</th>\n",
       "      <th>SOPInstanceUID</th>\n",
       "    </tr>\n",
       "  </thead>\n",
       "  <tbody>\n",
       "    <tr>\n",
       "      <th>0</th>\n",
       "      <td>../input/unifesp-x-ray-body-part-classifier/tr...</td>\n",
       "      <td>MONOCHROME1</td>\n",
       "      <td>16</td>\n",
       "      <td>1.2.826.0.1.3680043.8.498.71157989004260882669...</td>\n",
       "    </tr>\n",
       "    <tr>\n",
       "      <th>1</th>\n",
       "      <td>../input/unifesp-x-ray-body-part-classifier/tr...</td>\n",
       "      <td>MONOCHROME1</td>\n",
       "      <td>16</td>\n",
       "      <td>1.2.826.0.1.3680043.8.498.32467620439025796224...</td>\n",
       "    </tr>\n",
       "    <tr>\n",
       "      <th>2</th>\n",
       "      <td>../input/unifesp-x-ray-body-part-classifier/tr...</td>\n",
       "      <td>MONOCHROME1</td>\n",
       "      <td>16</td>\n",
       "      <td>1.2.826.0.1.3680043.8.498.74856220852423198555...</td>\n",
       "    </tr>\n",
       "    <tr>\n",
       "      <th>3</th>\n",
       "      <td>../input/unifesp-x-ray-body-part-classifier/tr...</td>\n",
       "      <td>MONOCHROME1</td>\n",
       "      <td>16</td>\n",
       "      <td>1.2.826.0.1.3680043.8.498.90865692473901867788...</td>\n",
       "    </tr>\n",
       "    <tr>\n",
       "      <th>4</th>\n",
       "      <td>../input/unifesp-x-ray-body-part-classifier/tr...</td>\n",
       "      <td>MONOCHROME1</td>\n",
       "      <td>16</td>\n",
       "      <td>1.2.826.0.1.3680043.8.498.44687741644515558201...</td>\n",
       "    </tr>\n",
       "  </tbody>\n",
       "</table>\n",
       "</div>"
      ],
      "text/plain": [
       "                                            Filename  \\\n",
       "0  ../input/unifesp-x-ray-body-part-classifier/tr...   \n",
       "1  ../input/unifesp-x-ray-body-part-classifier/tr...   \n",
       "2  ../input/unifesp-x-ray-body-part-classifier/tr...   \n",
       "3  ../input/unifesp-x-ray-body-part-classifier/tr...   \n",
       "4  ../input/unifesp-x-ray-body-part-classifier/tr...   \n",
       "\n",
       "  PhotometricInterpretation  BitsAllocated  \\\n",
       "0               MONOCHROME1             16   \n",
       "1               MONOCHROME1             16   \n",
       "2               MONOCHROME1             16   \n",
       "3               MONOCHROME1             16   \n",
       "4               MONOCHROME1             16   \n",
       "\n",
       "                                      SOPInstanceUID  \n",
       "0  1.2.826.0.1.3680043.8.498.71157989004260882669...  \n",
       "1  1.2.826.0.1.3680043.8.498.32467620439025796224...  \n",
       "2  1.2.826.0.1.3680043.8.498.74856220852423198555...  \n",
       "3  1.2.826.0.1.3680043.8.498.90865692473901867788...  \n",
       "4  1.2.826.0.1.3680043.8.498.44687741644515558201...  "
      ]
     },
     "execution_count": 6,
     "metadata": {},
     "output_type": "execute_result"
    }
   ],
   "source": [
    "dicom_tags_train.head(5)\n",
    "#plt.imshow(pydicom.dcmread(dicom_tags_train.Filename[0]).pixel_array,cmap = 'gray')\n",
    "#plt.show"
   ]
  },
  {
   "cell_type": "code",
   "execution_count": 7,
   "id": "78cf3535",
   "metadata": {
    "execution": {
     "iopub.execute_input": "2022-05-27T20:23:10.306079Z",
     "iopub.status.busy": "2022-05-27T20:23:10.305764Z",
     "iopub.status.idle": "2022-05-27T20:23:10.338033Z",
     "shell.execute_reply": "2022-05-27T20:23:10.337431Z"
    },
    "papermill": {
     "duration": 0.170417,
     "end_time": "2022-05-27T20:23:10.340856",
     "exception": false,
     "start_time": "2022-05-27T20:23:10.170439",
     "status": "completed"
    },
    "tags": []
   },
   "outputs": [
    {
     "data": {
      "text/html": [
       "<div>\n",
       "<style scoped>\n",
       "    .dataframe tbody tr th:only-of-type {\n",
       "        vertical-align: middle;\n",
       "    }\n",
       "\n",
       "    .dataframe tbody tr th {\n",
       "        vertical-align: top;\n",
       "    }\n",
       "\n",
       "    .dataframe thead th {\n",
       "        text-align: right;\n",
       "    }\n",
       "</style>\n",
       "<table border=\"1\" class=\"dataframe\">\n",
       "  <thead>\n",
       "    <tr style=\"text-align: right;\">\n",
       "      <th></th>\n",
       "      <th>Filename</th>\n",
       "      <th>PhotometricInterpretation</th>\n",
       "      <th>BitsAllocated</th>\n",
       "      <th>SOPInstanceUID</th>\n",
       "      <th>Target</th>\n",
       "    </tr>\n",
       "  </thead>\n",
       "  <tbody>\n",
       "    <tr>\n",
       "      <th>0</th>\n",
       "      <td>../input/unifesp-x-ray-body-part-classifier/tr...</td>\n",
       "      <td>MONOCHROME1</td>\n",
       "      <td>16</td>\n",
       "      <td>1.2.826.0.1.3680043.8.498.71157989004260882669...</td>\n",
       "      <td>3</td>\n",
       "    </tr>\n",
       "    <tr>\n",
       "      <th>1</th>\n",
       "      <td>../input/unifesp-x-ray-body-part-classifier/tr...</td>\n",
       "      <td>MONOCHROME1</td>\n",
       "      <td>16</td>\n",
       "      <td>1.2.826.0.1.3680043.8.498.32467620439025796224...</td>\n",
       "      <td>4</td>\n",
       "    </tr>\n",
       "    <tr>\n",
       "      <th>2</th>\n",
       "      <td>../input/unifesp-x-ray-body-part-classifier/tr...</td>\n",
       "      <td>MONOCHROME1</td>\n",
       "      <td>16</td>\n",
       "      <td>1.2.826.0.1.3680043.8.498.74856220852423198555...</td>\n",
       "      <td>4</td>\n",
       "    </tr>\n",
       "    <tr>\n",
       "      <th>3</th>\n",
       "      <td>../input/unifesp-x-ray-body-part-classifier/tr...</td>\n",
       "      <td>MONOCHROME1</td>\n",
       "      <td>16</td>\n",
       "      <td>1.2.826.0.1.3680043.8.498.90865692473901867788...</td>\n",
       "      <td>7</td>\n",
       "    </tr>\n",
       "    <tr>\n",
       "      <th>4</th>\n",
       "      <td>../input/unifesp-x-ray-body-part-classifier/tr...</td>\n",
       "      <td>MONOCHROME1</td>\n",
       "      <td>16</td>\n",
       "      <td>1.2.826.0.1.3680043.8.498.44687741644515558201...</td>\n",
       "      <td>21</td>\n",
       "    </tr>\n",
       "  </tbody>\n",
       "</table>\n",
       "</div>"
      ],
      "text/plain": [
       "                                            Filename  \\\n",
       "0  ../input/unifesp-x-ray-body-part-classifier/tr...   \n",
       "1  ../input/unifesp-x-ray-body-part-classifier/tr...   \n",
       "2  ../input/unifesp-x-ray-body-part-classifier/tr...   \n",
       "3  ../input/unifesp-x-ray-body-part-classifier/tr...   \n",
       "4  ../input/unifesp-x-ray-body-part-classifier/tr...   \n",
       "\n",
       "  PhotometricInterpretation  BitsAllocated  \\\n",
       "0               MONOCHROME1             16   \n",
       "1               MONOCHROME1             16   \n",
       "2               MONOCHROME1             16   \n",
       "3               MONOCHROME1             16   \n",
       "4               MONOCHROME1             16   \n",
       "\n",
       "                                      SOPInstanceUID Target  \n",
       "0  1.2.826.0.1.3680043.8.498.71157989004260882669...     3   \n",
       "1  1.2.826.0.1.3680043.8.498.32467620439025796224...     4   \n",
       "2  1.2.826.0.1.3680043.8.498.74856220852423198555...     4   \n",
       "3  1.2.826.0.1.3680043.8.498.90865692473901867788...     7   \n",
       "4  1.2.826.0.1.3680043.8.498.44687741644515558201...    21   "
      ]
     },
     "execution_count": 7,
     "metadata": {},
     "output_type": "execute_result"
    }
   ],
   "source": [
    "# Add Target values to dicom_tags_train\n",
    "train = dicom_tags_train.merge(train_df, on = 'SOPInstanceUID')\n",
    "train.head(5)"
   ]
  },
  {
   "cell_type": "code",
   "execution_count": 8,
   "id": "864d38eb",
   "metadata": {
    "execution": {
     "iopub.execute_input": "2022-05-27T20:23:10.619400Z",
     "iopub.status.busy": "2022-05-27T20:23:10.618582Z",
     "iopub.status.idle": "2022-05-27T20:23:10.632457Z",
     "shell.execute_reply": "2022-05-27T20:23:10.631852Z"
    },
    "papermill": {
     "duration": 0.154384,
     "end_time": "2022-05-27T20:23:10.634747",
     "exception": false,
     "start_time": "2022-05-27T20:23:10.480363",
     "status": "completed"
    },
    "scrolled": true,
    "tags": []
   },
   "outputs": [
    {
     "data": {
      "text/plain": [
       "Dataset.file_meta -------------------------------\n",
       "(0002, 0000) File Meta Information Group Length  UL: 244\n",
       "(0002, 0001) File Meta Information Version       OB: b'\\x00\\x01'\n",
       "(0002, 0002) Media Storage SOP Class UID         UI: Computed Radiography Image Storage\n",
       "(0002, 0003) Media Storage SOP Instance UID      UI: 1.2.826.0.1.3680043.8.498.71782455619707465800640476833895211640\n",
       "(0002, 0010) Transfer Syntax UID                 UI: JPEG 2000 Image Compression (Lossless Only)\n",
       "(0002, 0012) Implementation Class UID            UI: 1.2.826.0.1.3680043.2.1143.107.104.103.115.3.0.10\n",
       "(0002, 0013) Implementation Version Name         SH: 'GDCM 3.0.10'\n",
       "(0002, 0016) Source Application Entity Title     AE: 'gdcmconv'\n",
       "-------------------------------------------------\n",
       "(0008, 0005) Specific Character Set              CS: 'ISO_IR 100'\n",
       "(0008, 0012) Instance Creation Date              DA: ''\n",
       "(0008, 0013) Instance Creation Time              TM: ''\n",
       "(0008, 0016) SOP Class UID                       UI: Computed Radiography Image Storage\n",
       "(0008, 0018) SOP Instance UID                    UI: 1.2.826.0.1.3680043.8.498.71782455619707465800640476833895211640\n",
       "(0008, 0020) Study Date                          DA: ''\n",
       "(0008, 0021) Series Date                         DA: ''\n",
       "(0008, 0030) Study Time                          TM: '121812'\n",
       "(0008, 0033) Content Time                        TM: ''\n",
       "(0008, 0050) Accession Number                    SH: '823'\n",
       "(0008, 0060) Modality                            CS: 'CR'\n",
       "(0008, 0070) Manufacturer                        LO: ''\n",
       "(0008, 0090) Referring Physician's Name          PN: ''\n",
       "(0008, 0100) Code Value                          SH: ''\n",
       "(0008, 1030) Study Description                   LO: 'XRAY'\n",
       "(0008, 103e) Series Description                  LO: 'XRAY'\n",
       "(0010, 0010) Patient's Name                      PN: ''\n",
       "(0010, 0020) Patient ID                          LO: '823'\n",
       "(0010, 0030) Patient's Birth Date                DA: ''\n",
       "(0010, 0040) Patient's Sex                       CS: ''\n",
       "(0010, 1010) Patient's Age                       AS: '70Y'\n",
       "(0012, 0062) Patient Identity Removed            CS: 'Yes'\n",
       "(0018, 0015) Body Part Examined                  CS: ''\n",
       "(0020, 000d) Study Instance UID                  UI: 1.2.826.0.1.3680043.8.498.12114717839551273186735405911602717151\n",
       "(0020, 000e) Series Instance UID                 UI: 1.2.826.0.1.3680043.8.498.12795355176800991139763309621452528800\n",
       "(0020, 0010) Study ID                            SH: '367'\n",
       "(0020, 0011) Series Number                       IS: '2'\n",
       "(0020, 0013) Instance Number                     IS: '1'\n",
       "(0028, 0002) Samples per Pixel                   US: 1\n",
       "(0028, 0004) Photometric Interpretation          CS: 'MONOCHROME2'\n",
       "(0028, 0010) Rows                                US: 282\n",
       "(0028, 0011) Columns                             US: 300\n",
       "(0028, 0100) Bits Allocated                      US: 8\n",
       "(0028, 0101) Bits Stored                         US: 8\n",
       "(0028, 0102) High Bit                            US: 7\n",
       "(0028, 0103) Pixel Representation                US: 0\n",
       "(0040, 0245) Performed Procedure Step Start Time TM: ''"
      ]
     },
     "execution_count": 8,
     "metadata": {},
     "output_type": "execute_result"
    }
   ],
   "source": [
    "# See Rescale Intercept and Slope for Monochrome2 data\n",
    "pydicom.dcmread(list(dicom_tags_train.Filename[dicom_tags_train.PhotometricInterpretation == \"MONOCHROME2\"])[5], stop_before_pixels=True)\n",
    "#pydicom.dcmread(dicom_tags_train.Filename[0], stop_before_pixels=True)"
   ]
  },
  {
   "cell_type": "code",
   "execution_count": 9,
   "id": "e4efc273",
   "metadata": {
    "execution": {
     "iopub.execute_input": "2022-05-27T20:23:10.919314Z",
     "iopub.status.busy": "2022-05-27T20:23:10.918765Z",
     "iopub.status.idle": "2022-05-27T20:23:11.318641Z",
     "shell.execute_reply": "2022-05-27T20:23:11.317551Z"
    },
    "papermill": {
     "duration": 0.544568,
     "end_time": "2022-05-27T20:23:11.321029",
     "exception": false,
     "start_time": "2022-05-27T20:23:10.776461",
     "status": "completed"
    },
    "tags": []
   },
   "outputs": [
    {
     "data": {
      "text/html": [
       "<div>\n",
       "<style scoped>\n",
       "    .dataframe tbody tr th:only-of-type {\n",
       "        vertical-align: middle;\n",
       "    }\n",
       "\n",
       "    .dataframe tbody tr th {\n",
       "        vertical-align: top;\n",
       "    }\n",
       "\n",
       "    .dataframe thead th {\n",
       "        text-align: right;\n",
       "    }\n",
       "</style>\n",
       "<table border=\"1\" class=\"dataframe\">\n",
       "  <thead>\n",
       "    <tr style=\"text-align: right;\">\n",
       "      <th></th>\n",
       "      <th>SOPInstanceUID</th>\n",
       "      <th>Target</th>\n",
       "      <th>Abdomen</th>\n",
       "      <th>Ankle</th>\n",
       "      <th>Cervical Spine</th>\n",
       "      <th>Chest</th>\n",
       "      <th>Clavicles</th>\n",
       "      <th>Elbow</th>\n",
       "      <th>Feet</th>\n",
       "      <th>Finger</th>\n",
       "      <th>...</th>\n",
       "      <th>Lower Leg</th>\n",
       "      <th>Lumbar Spine</th>\n",
       "      <th>Others</th>\n",
       "      <th>Pelvis</th>\n",
       "      <th>Shoulder</th>\n",
       "      <th>Sinus</th>\n",
       "      <th>Skull</th>\n",
       "      <th>Thigh</th>\n",
       "      <th>Thoracic Spine</th>\n",
       "      <th>Wrist</th>\n",
       "    </tr>\n",
       "  </thead>\n",
       "  <tbody>\n",
       "    <tr>\n",
       "      <th>0</th>\n",
       "      <td>1.2.826.0.1.3680043.8.498.10025629581362719970...</td>\n",
       "      <td>[0, ]</td>\n",
       "      <td>1</td>\n",
       "      <td>0</td>\n",
       "      <td>0</td>\n",
       "      <td>0</td>\n",
       "      <td>0</td>\n",
       "      <td>0</td>\n",
       "      <td>0</td>\n",
       "      <td>0</td>\n",
       "      <td>...</td>\n",
       "      <td>0</td>\n",
       "      <td>0</td>\n",
       "      <td>0</td>\n",
       "      <td>0</td>\n",
       "      <td>0</td>\n",
       "      <td>0</td>\n",
       "      <td>0</td>\n",
       "      <td>0</td>\n",
       "      <td>0</td>\n",
       "      <td>0</td>\n",
       "    </tr>\n",
       "    <tr>\n",
       "      <th>1</th>\n",
       "      <td>1.2.826.0.1.3680043.8.498.10036150326276641158...</td>\n",
       "      <td>[15, ]</td>\n",
       "      <td>0</td>\n",
       "      <td>0</td>\n",
       "      <td>0</td>\n",
       "      <td>0</td>\n",
       "      <td>0</td>\n",
       "      <td>0</td>\n",
       "      <td>0</td>\n",
       "      <td>0</td>\n",
       "      <td>...</td>\n",
       "      <td>0</td>\n",
       "      <td>0</td>\n",
       "      <td>0</td>\n",
       "      <td>1</td>\n",
       "      <td>0</td>\n",
       "      <td>0</td>\n",
       "      <td>0</td>\n",
       "      <td>0</td>\n",
       "      <td>0</td>\n",
       "      <td>0</td>\n",
       "    </tr>\n",
       "    <tr>\n",
       "      <th>2</th>\n",
       "      <td>1.2.826.0.1.3680043.8.498.10038426859954986240...</td>\n",
       "      <td>[12, ]</td>\n",
       "      <td>0</td>\n",
       "      <td>0</td>\n",
       "      <td>0</td>\n",
       "      <td>0</td>\n",
       "      <td>0</td>\n",
       "      <td>0</td>\n",
       "      <td>0</td>\n",
       "      <td>0</td>\n",
       "      <td>...</td>\n",
       "      <td>1</td>\n",
       "      <td>0</td>\n",
       "      <td>0</td>\n",
       "      <td>0</td>\n",
       "      <td>0</td>\n",
       "      <td>0</td>\n",
       "      <td>0</td>\n",
       "      <td>0</td>\n",
       "      <td>0</td>\n",
       "      <td>0</td>\n",
       "    </tr>\n",
       "    <tr>\n",
       "      <th>3</th>\n",
       "      <td>1.2.826.0.1.3680043.8.498.10050991192143676483...</td>\n",
       "      <td>[14, ]</td>\n",
       "      <td>0</td>\n",
       "      <td>0</td>\n",
       "      <td>0</td>\n",
       "      <td>0</td>\n",
       "      <td>0</td>\n",
       "      <td>0</td>\n",
       "      <td>0</td>\n",
       "      <td>0</td>\n",
       "      <td>...</td>\n",
       "      <td>0</td>\n",
       "      <td>0</td>\n",
       "      <td>1</td>\n",
       "      <td>0</td>\n",
       "      <td>0</td>\n",
       "      <td>0</td>\n",
       "      <td>0</td>\n",
       "      <td>0</td>\n",
       "      <td>0</td>\n",
       "      <td>0</td>\n",
       "    </tr>\n",
       "    <tr>\n",
       "      <th>4</th>\n",
       "      <td>1.2.826.0.1.3680043.8.498.10053309524595490852...</td>\n",
       "      <td>[3, ]</td>\n",
       "      <td>0</td>\n",
       "      <td>0</td>\n",
       "      <td>0</td>\n",
       "      <td>1</td>\n",
       "      <td>0</td>\n",
       "      <td>0</td>\n",
       "      <td>0</td>\n",
       "      <td>0</td>\n",
       "      <td>...</td>\n",
       "      <td>0</td>\n",
       "      <td>0</td>\n",
       "      <td>0</td>\n",
       "      <td>0</td>\n",
       "      <td>0</td>\n",
       "      <td>0</td>\n",
       "      <td>0</td>\n",
       "      <td>0</td>\n",
       "      <td>0</td>\n",
       "      <td>0</td>\n",
       "    </tr>\n",
       "  </tbody>\n",
       "</table>\n",
       "<p>5 rows × 24 columns</p>\n",
       "</div>"
      ],
      "text/plain": [
       "                                      SOPInstanceUID  Target  Abdomen  Ankle  \\\n",
       "0  1.2.826.0.1.3680043.8.498.10025629581362719970...   [0, ]        1      0   \n",
       "1  1.2.826.0.1.3680043.8.498.10036150326276641158...  [15, ]        0      0   \n",
       "2  1.2.826.0.1.3680043.8.498.10038426859954986240...  [12, ]        0      0   \n",
       "3  1.2.826.0.1.3680043.8.498.10050991192143676483...  [14, ]        0      0   \n",
       "4  1.2.826.0.1.3680043.8.498.10053309524595490852...   [3, ]        0      0   \n",
       "\n",
       "   Cervical Spine  Chest  Clavicles  Elbow  Feet  Finger  ...  Lower Leg  \\\n",
       "0               0      0          0      0     0       0  ...          0   \n",
       "1               0      0          0      0     0       0  ...          0   \n",
       "2               0      0          0      0     0       0  ...          1   \n",
       "3               0      0          0      0     0       0  ...          0   \n",
       "4               0      1          0      0     0       0  ...          0   \n",
       "\n",
       "   Lumbar Spine  Others  Pelvis  Shoulder  Sinus  Skull  Thigh  \\\n",
       "0             0       0       0         0      0      0      0   \n",
       "1             0       0       1         0      0      0      0   \n",
       "2             0       0       0         0      0      0      0   \n",
       "3             0       1       0         0      0      0      0   \n",
       "4             0       0       0         0      0      0      0   \n",
       "\n",
       "   Thoracic Spine  Wrist  \n",
       "0               0      0  \n",
       "1               0      0  \n",
       "2               0      0  \n",
       "3               0      0  \n",
       "4               0      0  \n",
       "\n",
       "[5 rows x 24 columns]"
      ]
     },
     "execution_count": 9,
     "metadata": {},
     "output_type": "execute_result"
    }
   ],
   "source": [
    "bodyparts = {\n",
    "0 :'Abdomen',\n",
    "1 :'Ankle',\n",
    "2 :'Cervical Spine',\n",
    "3 :'Chest',\n",
    "4 :'Clavicles',\n",
    "5 :'Elbow',\n",
    "6 :'Feet',\n",
    "7 :'Finger',\n",
    "8 :'Forearm',\n",
    "9 :'Hand',\n",
    "10 :'Hip',\n",
    "11 :'Knee',\n",
    "12 :'Lower Leg',\n",
    "13 :'Lumbar Spine',\n",
    "14 :'Others',\n",
    "15 :'Pelvis',\n",
    "16 :'Shoulder',\n",
    "17 :'Sinus',\n",
    "18 :'Skull',\n",
    "19 :'Thigh' ,\n",
    "20 :'Thoracic Spine',\n",
    "21 :'Wrist',\n",
    "}\n",
    "\n",
    "reverse_train_labels = dict((v,k) for k,v in bodyparts.items())\n",
    "\n",
    "def fill_targets(row):\n",
    "    row.Target = np.array(row.Target.split(\" \"))\n",
    "    for num in row.Target:\n",
    "        if num != '':\n",
    "            name = bodyparts[int(num)]\n",
    "            row.loc[name]=1\n",
    "    return row\n",
    "\n",
    "for key in bodyparts.keys():\n",
    "    train_df[bodyparts[key]] = 0\n",
    "\n",
    "train_labels = train_df.apply(fill_targets, axis=1)\n",
    "train_labels.head()"
   ]
  },
  {
   "cell_type": "code",
   "execution_count": 10,
   "id": "afdf2336",
   "metadata": {
    "execution": {
     "iopub.execute_input": "2022-05-27T20:23:11.616555Z",
     "iopub.status.busy": "2022-05-27T20:23:11.615418Z",
     "iopub.status.idle": "2022-05-27T20:23:11.644674Z",
     "shell.execute_reply": "2022-05-27T20:23:11.643623Z"
    },
    "papermill": {
     "duration": 0.176789,
     "end_time": "2022-05-27T20:23:11.647196",
     "exception": false,
     "start_time": "2022-05-27T20:23:11.470407",
     "status": "completed"
    },
    "tags": []
   },
   "outputs": [
    {
     "data": {
      "text/html": [
       "<div>\n",
       "<style scoped>\n",
       "    .dataframe tbody tr th:only-of-type {\n",
       "        vertical-align: middle;\n",
       "    }\n",
       "\n",
       "    .dataframe tbody tr th {\n",
       "        vertical-align: top;\n",
       "    }\n",
       "\n",
       "    .dataframe thead th {\n",
       "        text-align: right;\n",
       "    }\n",
       "</style>\n",
       "<table border=\"1\" class=\"dataframe\">\n",
       "  <thead>\n",
       "    <tr style=\"text-align: right;\">\n",
       "      <th></th>\n",
       "      <th>Filename</th>\n",
       "      <th>PhotometricInterpretation</th>\n",
       "      <th>BitsAllocated</th>\n",
       "      <th>SOPInstanceUID</th>\n",
       "      <th>Target</th>\n",
       "      <th>Abdomen</th>\n",
       "      <th>Ankle</th>\n",
       "      <th>Cervical Spine</th>\n",
       "      <th>Chest</th>\n",
       "      <th>Clavicles</th>\n",
       "      <th>...</th>\n",
       "      <th>Lower Leg</th>\n",
       "      <th>Lumbar Spine</th>\n",
       "      <th>Others</th>\n",
       "      <th>Pelvis</th>\n",
       "      <th>Shoulder</th>\n",
       "      <th>Sinus</th>\n",
       "      <th>Skull</th>\n",
       "      <th>Thigh</th>\n",
       "      <th>Thoracic Spine</th>\n",
       "      <th>Wrist</th>\n",
       "    </tr>\n",
       "  </thead>\n",
       "  <tbody>\n",
       "    <tr>\n",
       "      <th>0</th>\n",
       "      <td>../input/unifesp-x-ray-body-part-classifier/tr...</td>\n",
       "      <td>MONOCHROME1</td>\n",
       "      <td>16</td>\n",
       "      <td>1.2.826.0.1.3680043.8.498.71157989004260882669...</td>\n",
       "      <td>[3, ]</td>\n",
       "      <td>0</td>\n",
       "      <td>0</td>\n",
       "      <td>0</td>\n",
       "      <td>1</td>\n",
       "      <td>0</td>\n",
       "      <td>...</td>\n",
       "      <td>0</td>\n",
       "      <td>0</td>\n",
       "      <td>0</td>\n",
       "      <td>0</td>\n",
       "      <td>0</td>\n",
       "      <td>0</td>\n",
       "      <td>0</td>\n",
       "      <td>0</td>\n",
       "      <td>0</td>\n",
       "      <td>0</td>\n",
       "    </tr>\n",
       "    <tr>\n",
       "      <th>1</th>\n",
       "      <td>../input/unifesp-x-ray-body-part-classifier/tr...</td>\n",
       "      <td>MONOCHROME1</td>\n",
       "      <td>16</td>\n",
       "      <td>1.2.826.0.1.3680043.8.498.32467620439025796224...</td>\n",
       "      <td>[4, ]</td>\n",
       "      <td>0</td>\n",
       "      <td>0</td>\n",
       "      <td>0</td>\n",
       "      <td>0</td>\n",
       "      <td>1</td>\n",
       "      <td>...</td>\n",
       "      <td>0</td>\n",
       "      <td>0</td>\n",
       "      <td>0</td>\n",
       "      <td>0</td>\n",
       "      <td>0</td>\n",
       "      <td>0</td>\n",
       "      <td>0</td>\n",
       "      <td>0</td>\n",
       "      <td>0</td>\n",
       "      <td>0</td>\n",
       "    </tr>\n",
       "    <tr>\n",
       "      <th>2</th>\n",
       "      <td>../input/unifesp-x-ray-body-part-classifier/tr...</td>\n",
       "      <td>MONOCHROME1</td>\n",
       "      <td>16</td>\n",
       "      <td>1.2.826.0.1.3680043.8.498.74856220852423198555...</td>\n",
       "      <td>[4, ]</td>\n",
       "      <td>0</td>\n",
       "      <td>0</td>\n",
       "      <td>0</td>\n",
       "      <td>0</td>\n",
       "      <td>1</td>\n",
       "      <td>...</td>\n",
       "      <td>0</td>\n",
       "      <td>0</td>\n",
       "      <td>0</td>\n",
       "      <td>0</td>\n",
       "      <td>0</td>\n",
       "      <td>0</td>\n",
       "      <td>0</td>\n",
       "      <td>0</td>\n",
       "      <td>0</td>\n",
       "      <td>0</td>\n",
       "    </tr>\n",
       "    <tr>\n",
       "      <th>3</th>\n",
       "      <td>../input/unifesp-x-ray-body-part-classifier/tr...</td>\n",
       "      <td>MONOCHROME1</td>\n",
       "      <td>16</td>\n",
       "      <td>1.2.826.0.1.3680043.8.498.90865692473901867788...</td>\n",
       "      <td>[7, ]</td>\n",
       "      <td>0</td>\n",
       "      <td>0</td>\n",
       "      <td>0</td>\n",
       "      <td>0</td>\n",
       "      <td>0</td>\n",
       "      <td>...</td>\n",
       "      <td>0</td>\n",
       "      <td>0</td>\n",
       "      <td>0</td>\n",
       "      <td>0</td>\n",
       "      <td>0</td>\n",
       "      <td>0</td>\n",
       "      <td>0</td>\n",
       "      <td>0</td>\n",
       "      <td>0</td>\n",
       "      <td>0</td>\n",
       "    </tr>\n",
       "    <tr>\n",
       "      <th>4</th>\n",
       "      <td>../input/unifesp-x-ray-body-part-classifier/tr...</td>\n",
       "      <td>MONOCHROME1</td>\n",
       "      <td>16</td>\n",
       "      <td>1.2.826.0.1.3680043.8.498.44687741644515558201...</td>\n",
       "      <td>[21, ]</td>\n",
       "      <td>0</td>\n",
       "      <td>0</td>\n",
       "      <td>0</td>\n",
       "      <td>0</td>\n",
       "      <td>0</td>\n",
       "      <td>...</td>\n",
       "      <td>0</td>\n",
       "      <td>0</td>\n",
       "      <td>0</td>\n",
       "      <td>0</td>\n",
       "      <td>0</td>\n",
       "      <td>0</td>\n",
       "      <td>0</td>\n",
       "      <td>0</td>\n",
       "      <td>0</td>\n",
       "      <td>1</td>\n",
       "    </tr>\n",
       "  </tbody>\n",
       "</table>\n",
       "<p>5 rows × 27 columns</p>\n",
       "</div>"
      ],
      "text/plain": [
       "                                            Filename  \\\n",
       "0  ../input/unifesp-x-ray-body-part-classifier/tr...   \n",
       "1  ../input/unifesp-x-ray-body-part-classifier/tr...   \n",
       "2  ../input/unifesp-x-ray-body-part-classifier/tr...   \n",
       "3  ../input/unifesp-x-ray-body-part-classifier/tr...   \n",
       "4  ../input/unifesp-x-ray-body-part-classifier/tr...   \n",
       "\n",
       "  PhotometricInterpretation  BitsAllocated  \\\n",
       "0               MONOCHROME1             16   \n",
       "1               MONOCHROME1             16   \n",
       "2               MONOCHROME1             16   \n",
       "3               MONOCHROME1             16   \n",
       "4               MONOCHROME1             16   \n",
       "\n",
       "                                      SOPInstanceUID  Target  Abdomen  Ankle  \\\n",
       "0  1.2.826.0.1.3680043.8.498.71157989004260882669...   [3, ]        0      0   \n",
       "1  1.2.826.0.1.3680043.8.498.32467620439025796224...   [4, ]        0      0   \n",
       "2  1.2.826.0.1.3680043.8.498.74856220852423198555...   [4, ]        0      0   \n",
       "3  1.2.826.0.1.3680043.8.498.90865692473901867788...   [7, ]        0      0   \n",
       "4  1.2.826.0.1.3680043.8.498.44687741644515558201...  [21, ]        0      0   \n",
       "\n",
       "   Cervical Spine  Chest  Clavicles  ...  Lower Leg  Lumbar Spine  Others  \\\n",
       "0               0      1          0  ...          0             0       0   \n",
       "1               0      0          1  ...          0             0       0   \n",
       "2               0      0          1  ...          0             0       0   \n",
       "3               0      0          0  ...          0             0       0   \n",
       "4               0      0          0  ...          0             0       0   \n",
       "\n",
       "   Pelvis  Shoulder  Sinus  Skull  Thigh  Thoracic Spine  Wrist  \n",
       "0       0         0      0      0      0               0      0  \n",
       "1       0         0      0      0      0               0      0  \n",
       "2       0         0      0      0      0               0      0  \n",
       "3       0         0      0      0      0               0      0  \n",
       "4       0         0      0      0      0               0      1  \n",
       "\n",
       "[5 rows x 27 columns]"
      ]
     },
     "execution_count": 10,
     "metadata": {},
     "output_type": "execute_result"
    }
   ],
   "source": [
    "train = dicom_tags_train.merge(train_labels, on = 'SOPInstanceUID')\n",
    "train.head()"
   ]
  },
  {
   "cell_type": "markdown",
   "id": "9c345622",
   "metadata": {
    "papermill": {
     "duration": 0.141355,
     "end_time": "2022-05-27T20:23:11.931857",
     "exception": false,
     "start_time": "2022-05-27T20:23:11.790502",
     "status": "completed"
    },
    "tags": []
   },
   "source": [
    "# Explore Images"
   ]
  },
  {
   "cell_type": "code",
   "execution_count": null,
   "id": "111a6f4d",
   "metadata": {
    "papermill": {
     "duration": 0.140872,
     "end_time": "2022-05-27T20:23:12.217646",
     "exception": false,
     "start_time": "2022-05-27T20:23:12.076774",
     "status": "completed"
    },
    "tags": []
   },
   "outputs": [],
   "source": []
  },
  {
   "cell_type": "markdown",
   "id": "a5215071",
   "metadata": {
    "papermill": {
     "duration": 0.136094,
     "end_time": "2022-05-27T20:23:12.490590",
     "exception": false,
     "start_time": "2022-05-27T20:23:12.354496",
     "status": "completed"
    },
    "tags": []
   },
   "source": [
    "# Create Data Loader"
   ]
  },
  {
   "cell_type": "code",
   "execution_count": 11,
   "id": "ee639d94",
   "metadata": {
    "execution": {
     "iopub.execute_input": "2022-05-27T20:23:12.766749Z",
     "iopub.status.busy": "2022-05-27T20:23:12.766126Z",
     "iopub.status.idle": "2022-05-27T20:23:12.771170Z",
     "shell.execute_reply": "2022-05-27T20:23:12.770385Z"
    },
    "papermill": {
     "duration": 0.144953,
     "end_time": "2022-05-27T20:23:12.773339",
     "exception": false,
     "start_time": "2022-05-27T20:23:12.628386",
     "status": "completed"
    },
    "tags": []
   },
   "outputs": [],
   "source": [
    "class DataLoader(torch.utils.data.Dataset): #torch....Dataset characterizes a dataset for Pytorch\n",
    "    def __init__(self, in_dir):\n",
    "        # Make function incorporating dcmtag2table and the steps required to organize data\n",
    "        pass\n",
    "    \n",
    "    def __getitem__(self, index):\n",
    "        # 'Generates one sample of data'\n",
    "        \n",
    "        # returns <input> and <target>, so the image and the vector of classification\n",
    "        \n",
    "        pass\n",
    "        "
   ]
  },
  {
   "cell_type": "markdown",
   "id": "3e99f09f",
   "metadata": {
    "papermill": {
     "duration": 0.137389,
     "end_time": "2022-05-27T20:23:13.048184",
     "exception": false,
     "start_time": "2022-05-27T20:23:12.910795",
     "status": "completed"
    },
    "tags": []
   },
   "source": [
    "# Define the model\n",
    "Try a few different network models in order to figure out what works best"
   ]
  },
  {
   "cell_type": "code",
   "execution_count": 12,
   "id": "b205565d",
   "metadata": {
    "execution": {
     "iopub.execute_input": "2022-05-27T20:23:13.321278Z",
     "iopub.status.busy": "2022-05-27T20:23:13.320257Z",
     "iopub.status.idle": "2022-05-27T20:23:13.325243Z",
     "shell.execute_reply": "2022-05-27T20:23:13.324597Z"
    },
    "papermill": {
     "duration": 0.142064,
     "end_time": "2022-05-27T20:23:13.326940",
     "exception": false,
     "start_time": "2022-05-27T20:23:13.184876",
     "status": "completed"
    },
    "tags": []
   },
   "outputs": [],
   "source": [
    "class Model_v1(torch.nn.Module):\n",
    "    def __init__(self):\n",
    "        super().__init__()\n",
    "        # Define the different layers\n",
    "        \n",
    "        \n",
    "        \n",
    "        pass\n",
    "    \n",
    "    def forward(self, x):\n",
    "        # Forward pass information\n",
    "        \n",
    "        pass"
   ]
  },
  {
   "cell_type": "code",
   "execution_count": null,
   "id": "5556932b",
   "metadata": {
    "papermill": {
     "duration": 0.134057,
     "end_time": "2022-05-27T20:23:13.595475",
     "exception": false,
     "start_time": "2022-05-27T20:23:13.461418",
     "status": "completed"
    },
    "tags": []
   },
   "outputs": [],
   "source": []
  },
  {
   "cell_type": "markdown",
   "id": "2f61209e",
   "metadata": {
    "papermill": {
     "duration": 0.136423,
     "end_time": "2022-05-27T20:23:13.868228",
     "exception": false,
     "start_time": "2022-05-27T20:23:13.731805",
     "status": "completed"
    },
    "tags": []
   },
   "source": [
    "# Define the optimizer"
   ]
  },
  {
   "cell_type": "code",
   "execution_count": null,
   "id": "8086fb9d",
   "metadata": {
    "papermill": {
     "duration": 0.136009,
     "end_time": "2022-05-27T20:23:14.140263",
     "exception": false,
     "start_time": "2022-05-27T20:23:14.004254",
     "status": "completed"
    },
    "tags": []
   },
   "outputs": [],
   "source": []
  },
  {
   "cell_type": "code",
   "execution_count": null,
   "id": "b373f2ea",
   "metadata": {
    "papermill": {
     "duration": 0.136524,
     "end_time": "2022-05-27T20:23:14.414852",
     "exception": false,
     "start_time": "2022-05-27T20:23:14.278328",
     "status": "completed"
    },
    "tags": []
   },
   "outputs": [],
   "source": []
  },
  {
   "cell_type": "markdown",
   "id": "b7c12e15",
   "metadata": {
    "papermill": {
     "duration": 0.135648,
     "end_time": "2022-05-27T20:23:14.689871",
     "exception": false,
     "start_time": "2022-05-27T20:23:14.554223",
     "status": "completed"
    },
    "tags": []
   },
   "source": [
    "# Train the Network"
   ]
  },
  {
   "cell_type": "code",
   "execution_count": null,
   "id": "d7d64636",
   "metadata": {
    "papermill": {
     "duration": 0.138367,
     "end_time": "2022-05-27T20:23:14.970231",
     "exception": false,
     "start_time": "2022-05-27T20:23:14.831864",
     "status": "completed"
    },
    "tags": []
   },
   "outputs": [],
   "source": []
  },
  {
   "cell_type": "code",
   "execution_count": null,
   "id": "6de12455",
   "metadata": {
    "papermill": {
     "duration": 0.141285,
     "end_time": "2022-05-27T20:23:15.250225",
     "exception": false,
     "start_time": "2022-05-27T20:23:15.108940",
     "status": "completed"
    },
    "tags": []
   },
   "outputs": [],
   "source": []
  },
  {
   "cell_type": "markdown",
   "id": "cd8066ba",
   "metadata": {
    "papermill": {
     "duration": 0.134176,
     "end_time": "2022-05-27T20:23:15.520273",
     "exception": false,
     "start_time": "2022-05-27T20:23:15.386097",
     "status": "completed"
    },
    "tags": []
   },
   "source": [
    "# Test the Network"
   ]
  },
  {
   "cell_type": "code",
   "execution_count": null,
   "id": "df63211c",
   "metadata": {
    "papermill": {
     "duration": 0.138149,
     "end_time": "2022-05-27T20:23:15.794759",
     "exception": false,
     "start_time": "2022-05-27T20:23:15.656610",
     "status": "completed"
    },
    "tags": []
   },
   "outputs": [],
   "source": []
  }
 ],
 "metadata": {
  "kernelspec": {
   "display_name": "Python 3",
   "language": "python",
   "name": "python3"
  },
  "language_info": {
   "codemirror_mode": {
    "name": "ipython",
    "version": 3
   },
   "file_extension": ".py",
   "mimetype": "text/x-python",
   "name": "python",
   "nbconvert_exporter": "python",
   "pygments_lexer": "ipython3",
   "version": "3.7.12"
  },
  "papermill": {
   "default_parameters": {},
   "duration": 74.471483,
   "end_time": "2022-05-27T20:23:16.753786",
   "environment_variables": {},
   "exception": null,
   "input_path": "__notebook__.ipynb",
   "output_path": "__notebook__.ipynb",
   "parameters": {},
   "start_time": "2022-05-27T20:22:02.282303",
   "version": "2.3.4"
  }
 },
 "nbformat": 4,
 "nbformat_minor": 5
}

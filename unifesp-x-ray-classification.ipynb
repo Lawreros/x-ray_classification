{
 "cells": [
  {
   "cell_type": "code",
   "execution_count": 1,
   "id": "99ef64af",
   "metadata": {
    "_cell_guid": "b1076dfc-b9ad-4769-8c92-a6c4dae69d19",
    "_kg_hide-input": true,
    "_uuid": "8f2839f25d086af736a60e9eeb907d3b93b6e0e5",
    "execution": {
     "iopub.execute_input": "2022-06-04T22:48:13.954252Z",
     "iopub.status.busy": "2022-06-04T22:48:13.953250Z",
     "iopub.status.idle": "2022-06-04T22:48:13.964493Z",
     "shell.execute_reply": "2022-06-04T22:48:13.963785Z"
    },
    "papermill": {
     "duration": 0.045418,
     "end_time": "2022-06-04T22:48:13.966509",
     "exception": false,
     "start_time": "2022-06-04T22:48:13.921091",
     "status": "completed"
    },
    "scrolled": true,
    "tags": []
   },
   "outputs": [],
   "source": [
    "# This Python 3 environment comes with many helpful analytics libraries installed\n",
    "# It is defined by the kaggle/python Docker image: https://github.com/kaggle/docker-python\n",
    "# For example, here's several helpful packages to load\n",
    "\n",
    "import numpy as np # linear algebra\n",
    "import pandas as pd # data processing, CSV file I/O (e.g. pd.read_csv)\n",
    "import os\n",
    "\n",
    "# Input data files are available in the read-only \"../input/\" directory\n",
    "# For example, running this (by clicking run or pressing Shift+Enter) will list all files under the input directory\n",
    "\n",
    "# import os\n",
    "# for dirname, _, filenames in os.walk('/kaggle/input'):\n",
    "#     for filename in filenames:\n",
    "#         print(os.path.join(dirname, filename))\n",
    "\n",
    "# You can write up to 20GB to the current directory (/kaggle/working/) that gets preserved as output when you create a version using \"Save & Run All\" \n",
    "# You can also write temporary files to /kaggle/temp/, but they won't be saved outside of the current session"
   ]
  },
  {
   "cell_type": "markdown",
   "id": "baf28fe1",
   "metadata": {
    "papermill": {
     "duration": 0.028668,
     "end_time": "2022-06-04T22:48:14.024645",
     "exception": false,
     "start_time": "2022-06-04T22:48:13.995977",
     "status": "completed"
    },
    "tags": []
   },
   "source": [
    "## Organize location and labels for relevant images"
   ]
  },
  {
   "cell_type": "code",
   "execution_count": 2,
   "id": "e964613f",
   "metadata": {
    "execution": {
     "iopub.execute_input": "2022-06-04T22:48:14.085133Z",
     "iopub.status.busy": "2022-06-04T22:48:14.084574Z",
     "iopub.status.idle": "2022-06-04T22:48:16.179573Z",
     "shell.execute_reply": "2022-06-04T22:48:16.178438Z"
    },
    "papermill": {
     "duration": 2.127941,
     "end_time": "2022-06-04T22:48:16.182339",
     "exception": false,
     "start_time": "2022-06-04T22:48:14.054398",
     "status": "completed"
    },
    "tags": []
   },
   "outputs": [],
   "source": [
    "import pydicom\n",
    "import torch\n",
    "from torchvision import transforms, models\n",
    "from tqdm import tqdm\n",
    "import time\n",
    "from matplotlib import pyplot as plt"
   ]
  },
  {
   "cell_type": "code",
   "execution_count": 3,
   "id": "1ab92dbf",
   "metadata": {
    "execution": {
     "iopub.execute_input": "2022-06-04T22:48:16.243770Z",
     "iopub.status.busy": "2022-06-04T22:48:16.243460Z",
     "iopub.status.idle": "2022-06-04T22:48:16.256493Z",
     "shell.execute_reply": "2022-06-04T22:48:16.255845Z"
    },
    "papermill": {
     "duration": 0.04554,
     "end_time": "2022-06-04T22:48:16.258576",
     "exception": false,
     "start_time": "2022-06-04T22:48:16.213036",
     "status": "completed"
    },
    "tags": []
   },
   "outputs": [],
   "source": [
    "def dcmtag2table(folder, list_of_tags):\n",
    "    \"\"\"\n",
    "    Create a Pandas DataFrame with the <list_of_tags> DICOM tags\n",
    "    from the DICOM files in <folder>\n",
    "    \n",
    "    Parameters:\n",
    "        folder (str): path for the folder to be recursively walked through looking for DICOM files\n",
    "        list_of_tags (list of strings): a list of DICOM tags with no whitespaces\n",
    "        \n",
    "    Returns:\n",
    "        df (DataFrame): table of DICOM tags from the files in <folder>\n",
    "    \"\"\"\n",
    "    \n",
    "    list_of_tags = list_of_tags.copy()\n",
    "    items = []\n",
    "    table = []\n",
    "    filelist = []\n",
    "    print(\"Listing files...\")\n",
    "    start = time.time()\n",
    "    for root, dirs, files in os.walk(folder, topdown=False):\n",
    "        for name in files:\n",
    "            filelist.append(os.path.join(root,name)) #Get list of files that are present in the folder\n",
    "    \n",
    "    print(\"Time: \" + str(time.time() - start))\n",
    "    print(\"Reading files...\")\n",
    "    time.sleep(2)\n",
    "    for _f in tqdm(filelist):\n",
    "        try:\n",
    "            ds = pydicom.dcmread(_f, stop_before_pixels=True) #Try to read each of the files, if they aren't pydicom compatible, run <except>\n",
    "            items = [] # ^ The \"stop_before_pixels\" prevents the loading of the raw data, just metadata\n",
    "            items.append(_f)\n",
    "\n",
    "            for _tag in list_of_tags:\n",
    "                if _tag in ds:\n",
    "                    items.append(ds.data_element(_tag).value) #Gets the values for the paremeters defined in <list_of_tags>\n",
    "                else:\n",
    "                    items.append(\"Not found\")\n",
    "\n",
    "            table.append((items)) #make a table of the tag values\n",
    "        except:\n",
    "            print(\"Skipping non-DICOM: \" + _f)\n",
    "\n",
    "    \n",
    "    list_of_tags.insert(0, \"Filename\") #add \"Filename\" to <list_of_tags>\n",
    "    test = list(map(list, zip(*table)))\n",
    "    dictone = {}\n",
    "\n",
    "    for i, _tag in enumerate (list_of_tags):\n",
    "        dictone[_tag] = test[i]\n",
    "\n",
    "    df = pd.DataFrame(dictone)\n",
    "    time.sleep(2)\n",
    "    print(\"Finished.\")\n",
    "    return df\n",
    "    "
   ]
  },
  {
   "cell_type": "code",
   "execution_count": 4,
   "id": "f3084f83",
   "metadata": {
    "execution": {
     "iopub.execute_input": "2022-06-04T22:48:16.318902Z",
     "iopub.status.busy": "2022-06-04T22:48:16.318362Z",
     "iopub.status.idle": "2022-06-04T22:49:00.402432Z",
     "shell.execute_reply": "2022-06-04T22:49:00.401394Z"
    },
    "papermill": {
     "duration": 44.11702,
     "end_time": "2022-06-04T22:49:00.404623",
     "exception": false,
     "start_time": "2022-06-04T22:48:16.287603",
     "status": "completed"
    },
    "tags": []
   },
   "outputs": [
    {
     "name": "stdout",
     "output_type": "stream",
     "text": [
      "Listing files...\n",
      "Time: 11.372487306594849\n",
      "Reading files...\n"
     ]
    },
    {
     "name": "stderr",
     "output_type": "stream",
     "text": [
      "100%|██████████| 1738/1738 [00:28<00:00, 60.58it/s]\n"
     ]
    },
    {
     "name": "stdout",
     "output_type": "stream",
     "text": [
      "Finished.\n"
     ]
    }
   ],
   "source": [
    "tags = ['PhotometricInterpretation','BitsAllocated', 'SOPInstanceUID']\n",
    "dicom_tags_train =  dcmtag2table('../input/unifesp-x-ray-body-part-classifier/train', tags)"
   ]
  },
  {
   "cell_type": "code",
   "execution_count": 5,
   "id": "81de4527",
   "metadata": {
    "execution": {
     "iopub.execute_input": "2022-06-04T22:49:00.652306Z",
     "iopub.status.busy": "2022-06-04T22:49:00.651552Z",
     "iopub.status.idle": "2022-06-04T22:49:00.655550Z",
     "shell.execute_reply": "2022-06-04T22:49:00.654689Z"
    },
    "papermill": {
     "duration": 0.129871,
     "end_time": "2022-06-04T22:49:00.657525",
     "exception": false,
     "start_time": "2022-06-04T22:49:00.527654",
     "status": "completed"
    },
    "tags": []
   },
   "outputs": [],
   "source": [
    "# Add Target values to dicom_tags_train\n",
    "# train = dicom_tags_train.merge(train_df, on = 'SOPInstanceUID')\n",
    "# train.head(5)"
   ]
  },
  {
   "cell_type": "code",
   "execution_count": 6,
   "id": "06aeb0e4",
   "metadata": {
    "execution": {
     "iopub.execute_input": "2022-06-04T22:49:00.906922Z",
     "iopub.status.busy": "2022-06-04T22:49:00.906637Z",
     "iopub.status.idle": "2022-06-04T22:49:00.910750Z",
     "shell.execute_reply": "2022-06-04T22:49:00.909717Z"
    },
    "papermill": {
     "duration": 0.129353,
     "end_time": "2022-06-04T22:49:00.912870",
     "exception": false,
     "start_time": "2022-06-04T22:49:00.783517",
     "status": "completed"
    },
    "scrolled": true,
    "tags": []
   },
   "outputs": [],
   "source": [
    "# # See Rescale Intercept and Slope for Monochrome2 data\n",
    "# pydicom.dcmread(list(dicom_tags_train.Filename[dicom_tags_train.PhotometricInterpretation == \"MONOCHROME2\"])[5], stop_before_pixels=True)\n",
    "# #pydicom.dcmread(dicom_tags_train.Filename[0], stop_before_pixels=True)"
   ]
  },
  {
   "cell_type": "code",
   "execution_count": 7,
   "id": "84dac644",
   "metadata": {
    "execution": {
     "iopub.execute_input": "2022-06-04T22:49:01.158638Z",
     "iopub.status.busy": "2022-06-04T22:49:01.158358Z",
     "iopub.status.idle": "2022-06-04T22:49:01.164129Z",
     "shell.execute_reply": "2022-06-04T22:49:01.162767Z"
    },
    "papermill": {
     "duration": 0.130538,
     "end_time": "2022-06-04T22:49:01.166236",
     "exception": false,
     "start_time": "2022-06-04T22:49:01.035698",
     "status": "completed"
    },
    "tags": []
   },
   "outputs": [],
   "source": [
    "# bodyparts = {\n",
    "# 0 :'Abdomen',\n",
    "# 1 :'Ankle',\n",
    "# 2 :'Cervical Spine',\n",
    "# 3 :'Chest',\n",
    "# 4 :'Clavicles',\n",
    "# 5 :'Elbow',\n",
    "# 6 :'Feet',\n",
    "# 7 :'Finger',\n",
    "# 8 :'Forearm',\n",
    "# 9 :'Hand',\n",
    "# 10 :'Hip',\n",
    "# 11 :'Knee',\n",
    "# 12 :'Lower Leg',\n",
    "# 13 :'Lumbar Spine',\n",
    "# 14 :'Others',\n",
    "# 15 :'Pelvis',\n",
    "# 16 :'Shoulder',\n",
    "# 17 :'Sinus',\n",
    "# 18 :'Skull',\n",
    "# 19 :'Thigh' ,\n",
    "# 20 :'Thoracic Spine',\n",
    "# 21 :'Wrist',\n",
    "# }\n",
    "\n",
    "# reverse_train_labels = dict((v,k) for k,v in bodyparts.items())\n",
    "\n",
    "# def fill_targets(row):\n",
    "#     row.Target = np.array(row.Target.split(\" \"))\n",
    "#     for num in row.Target:\n",
    "#         if num != '':\n",
    "#             name = bodyparts[int(num)]\n",
    "#             row.loc[name]=1\n",
    "#     return row\n",
    "\n",
    "# for key in bodyparts.keys():\n",
    "#     train_df[bodyparts[key]] = 0\n",
    "\n",
    "# train_labels = train_df.apply(fill_targets, axis=1)\n",
    "# train_labels.head()"
   ]
  },
  {
   "cell_type": "code",
   "execution_count": 8,
   "id": "606dacf4",
   "metadata": {
    "execution": {
     "iopub.execute_input": "2022-06-04T22:49:01.410596Z",
     "iopub.status.busy": "2022-06-04T22:49:01.409907Z",
     "iopub.status.idle": "2022-06-04T22:49:01.415014Z",
     "shell.execute_reply": "2022-06-04T22:49:01.414330Z"
    },
    "papermill": {
     "duration": 0.129402,
     "end_time": "2022-06-04T22:49:01.417094",
     "exception": false,
     "start_time": "2022-06-04T22:49:01.287692",
     "status": "completed"
    },
    "tags": []
   },
   "outputs": [],
   "source": [
    "# train = dicom_tags_train.merge(train_labels, on = 'SOPInstanceUID')\n",
    "# train.head()"
   ]
  },
  {
   "cell_type": "code",
   "execution_count": 9,
   "id": "9746fae5",
   "metadata": {
    "execution": {
     "iopub.execute_input": "2022-06-04T22:49:01.662332Z",
     "iopub.status.busy": "2022-06-04T22:49:01.662071Z",
     "iopub.status.idle": "2022-06-04T22:49:01.677157Z",
     "shell.execute_reply": "2022-06-04T22:49:01.676222Z"
    },
    "papermill": {
     "duration": 0.14152,
     "end_time": "2022-06-04T22:49:01.679473",
     "exception": false,
     "start_time": "2022-06-04T22:49:01.537953",
     "status": "completed"
    },
    "tags": []
   },
   "outputs": [],
   "source": [
    "def fill_targets(row):\n",
    "    bodyparts = {\n",
    "        0 :'Abdomen',\n",
    "        1 :'Ankle',\n",
    "        2 :'Cervical Spine',\n",
    "        3 :'Chest',\n",
    "        4 :'Clavicles',\n",
    "        5 :'Elbow',\n",
    "        6 :'Feet',\n",
    "        7 :'Finger',\n",
    "        8 :'Forearm',\n",
    "        9 :'Hand',\n",
    "        10 :'Hip',\n",
    "        11 :'Knee',\n",
    "        12 :'Lower Leg',\n",
    "        13 :'Lumbar Spine',\n",
    "        14 :'Others',\n",
    "        15 :'Pelvis',\n",
    "        16 :'Shoulder',\n",
    "        17 :'Sinus',\n",
    "        18 :'Skull',\n",
    "        19 :'Thigh' ,\n",
    "        20 :'Thoracic Spine',\n",
    "        21 :'Wrist',\n",
    "    }\n",
    "    \n",
    "    row.Target = np.array(row.Target.split(\" \"))\n",
    "    for num in row.Target:\n",
    "        if num != '':\n",
    "            name = bodyparts[int(num)]\n",
    "            row.loc[name]=1\n",
    "    return row\n",
    "\n",
    "\n",
    "def image_prep(in_dir, lab_f=False):\n",
    "    \"\"\"\n",
    "    Function to prepare the pandas table for use in the DataLoader\n",
    "    \n",
    "    inputs:\n",
    "        in_dir [path]: location of the input directory containing your data\n",
    "        lab_f [path]: location of the csv containing the training labels, set as False if using with testing data\n",
    "        \n",
    "    output:\n",
    "        img_tab [DataFrame]: Relevant information about the dataset being used\n",
    "    \"\"\"\n",
    "    \n",
    "    # Key for labels\n",
    "    bodyparts = {\n",
    "        0 :'Abdomen',\n",
    "        1 :'Ankle',\n",
    "        2 :'Cervical Spine',\n",
    "        3 :'Chest',\n",
    "        4 :'Clavicles',\n",
    "        5 :'Elbow',\n",
    "        6 :'Feet',\n",
    "        7 :'Finger',\n",
    "        8 :'Forearm',\n",
    "        9 :'Hand',\n",
    "        10 :'Hip',\n",
    "        11 :'Knee',\n",
    "        12 :'Lower Leg',\n",
    "        13 :'Lumbar Spine',\n",
    "        14 :'Others',\n",
    "        15 :'Pelvis',\n",
    "        16 :'Shoulder',\n",
    "        17 :'Sinus',\n",
    "        18 :'Skull',\n",
    "        19 :'Thigh' ,\n",
    "        20 :'Thoracic Spine',\n",
    "        21 :'Wrist',\n",
    "    }\n",
    "\n",
    "    reverse_train_labels = dict((v,k) for k,v in bodyparts.items())\n",
    "    \n",
    "    # Relevant tags for inclusion in returned dataframe:\n",
    "    tags = ['PhotometricInterpretation','BitsAllocated', 'SOPInstanceUID']\n",
    "\n",
    "    dicom_tags =  dcmtag2table(in_dir, tags)\n",
    "    \n",
    "    # Load in the training labels if present:\n",
    "    if lab_f:\n",
    "        lab_df = pd.read_csv(lab_f)\n",
    "        for key in bodyparts.keys():\n",
    "            lab_df[bodyparts[key]] = 0\n",
    "            \n",
    "        dicom_labels = lab_df.apply(fill_targets, axis=1)\n",
    "\n",
    "        img_df = dicom_tags.merge(dicom_labels, on = 'SOPInstanceUID')\n",
    "    else:\n",
    "        img_df = dicom_tags\n",
    "    \n",
    "    return img_df"
   ]
  },
  {
   "cell_type": "markdown",
   "id": "e666701b",
   "metadata": {
    "papermill": {
     "duration": 0.120534,
     "end_time": "2022-06-04T22:49:01.923447",
     "exception": false,
     "start_time": "2022-06-04T22:49:01.802913",
     "status": "completed"
    },
    "tags": []
   },
   "source": [
    "# Create Dataset and DataLoader"
   ]
  },
  {
   "cell_type": "code",
   "execution_count": 10,
   "id": "bc18b6c7",
   "metadata": {
    "execution": {
     "iopub.execute_input": "2022-06-04T22:49:02.172118Z",
     "iopub.status.busy": "2022-06-04T22:49:02.171572Z",
     "iopub.status.idle": "2022-06-04T22:49:02.181538Z",
     "shell.execute_reply": "2022-06-04T22:49:02.180830Z"
    },
    "papermill": {
     "duration": 0.136638,
     "end_time": "2022-06-04T22:49:02.183762",
     "exception": false,
     "start_time": "2022-06-04T22:49:02.047124",
     "status": "completed"
    },
    "tags": []
   },
   "outputs": [],
   "source": [
    "class img_dataset(torch.utils.data.Dataset): #torch....Dataset characterizes a dataset for Pytorch\n",
    "    def __init__(self, in_dir, lab_f):\n",
    "        # Make function incorporating dcmtag2table and the steps required to organize data\n",
    "        self.data = image_prep(in_dir, lab_f)\n",
    "        \n",
    "        self.preprocess = transforms.Compose([\n",
    "            transforms.Resize(256),\n",
    "            transforms.CenterCrop(224),\n",
    "            #transforms.ToTensor(),\n",
    "            transforms.Normalize(mean=[0.485, 0.456, 0.406], std=[0.229,0.234,0.225]),\n",
    "        ])\n",
    "            \n",
    "    def __len__(self):\n",
    "        return len(self.data.Filename)\n",
    "    \n",
    "    \n",
    "    def __getitem__(self, idx):\n",
    "        # 'Generates one sample of data'\n",
    "        \n",
    "        # This is where I get a filename and load it using: self.data.Filename[idx]\n",
    "        # Look at: https://pytorch.org/tutorials/beginner/basics/data_tutorial.html\n",
    "        f_path = self.data.Filename.iloc[idx]\n",
    "        \n",
    "        dcm = pydicom.dcmread(f_path)\n",
    "        img = dcm.pixel_array\n",
    "        \n",
    "        # randomize whether it is using Monochrome1 or Monochrome2\n",
    "        if np.random.choice([0,1]):\n",
    "            img = np.invert(img)\n",
    "        \n",
    "        # TODO: Add some sort of normalization step aside from this?\n",
    "        img = img/img.max()\n",
    "        \n",
    "        img = torch.from_numpy(img)\n",
    "        #print(img.repeat(3,1,1).size())\n",
    "        X = self.preprocess(img.repeat(3,1,1))\n",
    "        # For some reason, ResNet only takes doubles\n",
    "        X = X.double()\n",
    "        \n",
    "        # Get the label information\n",
    "        Y = torch.tensor(self.data.iloc[idx,5:])\n",
    "        Y = Y.double()\n",
    "        \n",
    "        # returns <input> and <target>, so the image and the vector of classification\n",
    "        \n",
    "        return X, Y\n",
    "    "
   ]
  },
  {
   "cell_type": "code",
   "execution_count": 11,
   "id": "1d9d0c37",
   "metadata": {
    "execution": {
     "iopub.execute_input": "2022-06-04T22:49:02.430149Z",
     "iopub.status.busy": "2022-06-04T22:49:02.429228Z",
     "iopub.status.idle": "2022-06-04T22:49:12.654164Z",
     "shell.execute_reply": "2022-06-04T22:49:12.653010Z"
    },
    "papermill": {
     "duration": 10.351046,
     "end_time": "2022-06-04T22:49:12.656693",
     "exception": false,
     "start_time": "2022-06-04T22:49:02.305647",
     "status": "completed"
    },
    "tags": []
   },
   "outputs": [
    {
     "name": "stdout",
     "output_type": "stream",
     "text": [
      "Listing files...\n",
      "Time: 1.882129192352295\n",
      "Reading files...\n"
     ]
    },
    {
     "name": "stderr",
     "output_type": "stream",
     "text": [
      "100%|██████████| 1738/1738 [00:03<00:00, 457.59it/s]\n"
     ]
    },
    {
     "name": "stdout",
     "output_type": "stream",
     "text": [
      "Finished.\n"
     ]
    }
   ],
   "source": [
    "from torch.utils.data import DataLoader\n",
    "\n",
    "train_dataloader = DataLoader(\n",
    "    img_dataset('../input/unifesp-x-ray-body-part-classifier/train','../input/unifesp-x-ray-body-part-classifier/train.csv'),\n",
    "    batch_size = 64,\n",
    "    shuffle = True\n",
    ")"
   ]
  },
  {
   "cell_type": "markdown",
   "id": "a11f1094",
   "metadata": {
    "papermill": {
     "duration": 0.13802,
     "end_time": "2022-06-04T22:49:12.932785",
     "exception": false,
     "start_time": "2022-06-04T22:49:12.794765",
     "status": "completed"
    },
    "tags": []
   },
   "source": [
    "# Explore Images"
   ]
  },
  {
   "cell_type": "code",
   "execution_count": 12,
   "id": "e2a825e5",
   "metadata": {
    "execution": {
     "iopub.execute_input": "2022-06-04T22:49:13.209394Z",
     "iopub.status.busy": "2022-06-04T22:49:13.208826Z",
     "iopub.status.idle": "2022-06-04T22:49:23.152350Z",
     "shell.execute_reply": "2022-06-04T22:49:23.151436Z"
    },
    "papermill": {
     "duration": 10.083533,
     "end_time": "2022-06-04T22:49:23.155086",
     "exception": false,
     "start_time": "2022-06-04T22:49:13.071553",
     "status": "completed"
    },
    "tags": []
   },
   "outputs": [
    {
     "name": "stdout",
     "output_type": "stream",
     "text": [
      "Listing files...\n",
      "Time: 1.9386897087097168\n",
      "Reading files...\n"
     ]
    },
    {
     "name": "stderr",
     "output_type": "stream",
     "text": [
      "100%|██████████| 1738/1738 [00:03<00:00, 479.49it/s]\n"
     ]
    },
    {
     "name": "stdout",
     "output_type": "stream",
     "text": [
      "Finished.\n"
     ]
    }
   ],
   "source": [
    "source = img_dataset('../input/unifesp-x-ray-body-part-classifier/train','../input/unifesp-x-ray-body-part-classifier/train.csv')"
   ]
  },
  {
   "cell_type": "code",
   "execution_count": 13,
   "id": "47c1df6c",
   "metadata": {
    "execution": {
     "iopub.execute_input": "2022-06-04T22:49:23.460479Z",
     "iopub.status.busy": "2022-06-04T22:49:23.459968Z",
     "iopub.status.idle": "2022-06-04T22:49:36.341605Z",
     "shell.execute_reply": "2022-06-04T22:49:36.340612Z"
    },
    "papermill": {
     "duration": 13.038376,
     "end_time": "2022-06-04T22:49:36.344160",
     "exception": false,
     "start_time": "2022-06-04T22:49:23.305784",
     "status": "completed"
    },
    "scrolled": true,
    "tags": []
   },
   "outputs": [
    {
     "name": "stderr",
     "output_type": "stream",
     "text": [
      "/opt/conda/lib/python3.7/site-packages/pydicom/pixel_data_handlers/pillow_handler.py:239: UserWarning: The (0028,0101) 'Bits Stored' value (15-bit) doesn't match the JPEG 2000 data (16-bit). It's recommended that you change the 'Bits Stored' value\n",
      "  f\"The (0028,0101) 'Bits Stored' value ({bits_stored}-bit) \"\n"
     ]
    },
    {
     "name": "stdout",
     "output_type": "stream",
     "text": [
      "torch.Size([3, 224, 224])\n",
      "torch.Size([3, 224, 224])\n",
      "torch.Size([3, 224, 224])\n",
      "torch.Size([3, 224, 224])\n"
     ]
    }
   ],
   "source": [
    "for i in range(4):\n",
    "    X,Y = source.__getitem__(i)\n",
    "    print(X.size())"
   ]
  },
  {
   "cell_type": "code",
   "execution_count": 14,
   "id": "faa1b403",
   "metadata": {
    "execution": {
     "iopub.execute_input": "2022-06-04T22:49:36.652259Z",
     "iopub.status.busy": "2022-06-04T22:49:36.651718Z",
     "iopub.status.idle": "2022-06-04T22:49:36.663287Z",
     "shell.execute_reply": "2022-06-04T22:49:36.662598Z"
    },
    "papermill": {
     "duration": 0.16808,
     "end_time": "2022-06-04T22:49:36.665194",
     "exception": false,
     "start_time": "2022-06-04T22:49:36.497114",
     "status": "completed"
    },
    "tags": []
   },
   "outputs": [
    {
     "data": {
      "text/plain": [
       "tensor([[[[ 1.1813,  1.1307,  1.2079,  ...,  1.8990,  1.9558,  1.9677],\n",
       "          [ 1.1365,  1.1078,  1.2453,  ...,  1.9069,  1.9606,  1.9929],\n",
       "          [ 1.1559,  1.1729,  1.1921,  ...,  1.9481,  1.9992,  1.9689],\n",
       "          ...,\n",
       "          [ 0.0611, -0.0029, -0.1101,  ...,  1.6530,  1.7187,  1.7168],\n",
       "          [-0.0401, -0.0672, -0.1119,  ...,  1.6994,  1.7449,  1.6089],\n",
       "          [-0.0872, -0.1138, -0.0524,  ...,  1.6790,  1.7630,  1.7203]],\n",
       "\n",
       "         [[ 1.2800,  1.2304,  1.3060,  ...,  1.9823,  2.0380,  2.0496],\n",
       "          [ 1.2361,  1.2081,  1.3426,  ...,  1.9901,  2.0426,  2.0742],\n",
       "          [ 1.2551,  1.2718,  1.2906,  ...,  2.0304,  2.0805,  2.0507],\n",
       "          ...,\n",
       "          [ 0.1837,  0.1210,  0.0162,  ...,  1.7416,  1.8059,  1.8040],\n",
       "          [ 0.0847,  0.0582,  0.0144,  ...,  1.7870,  1.8315,  1.6985],\n",
       "          [ 0.0386,  0.0126,  0.0727,  ...,  1.7670,  1.8492,  1.8075]],\n",
       "\n",
       "         [[ 1.5534,  1.5019,  1.5804,  ...,  2.2838,  2.3417,  2.3538],\n",
       "          [ 1.5078,  1.4786,  1.6185,  ...,  2.2919,  2.3465,  2.3794],\n",
       "          [ 1.5276,  1.5449,  1.5644,  ...,  2.3339,  2.3859,  2.3550],\n",
       "          ...,\n",
       "          [ 0.4133,  0.3481,  0.2391,  ...,  2.0335,  2.1003,  2.0984],\n",
       "          [ 0.3103,  0.2828,  0.2372,  ...,  2.0807,  2.1270,  1.9886],\n",
       "          [ 0.2624,  0.2353,  0.2978,  ...,  2.0599,  2.1454,  2.1020]]]],\n",
       "       dtype=torch.float64)"
      ]
     },
     "execution_count": 14,
     "metadata": {},
     "output_type": "execute_result"
    }
   ],
   "source": [
    "X.unsqueeze(0)"
   ]
  },
  {
   "cell_type": "code",
   "execution_count": 15,
   "id": "291da58d",
   "metadata": {
    "execution": {
     "iopub.execute_input": "2022-06-04T22:49:36.973293Z",
     "iopub.status.busy": "2022-06-04T22:49:36.972693Z",
     "iopub.status.idle": "2022-06-04T22:49:37.186869Z",
     "shell.execute_reply": "2022-06-04T22:49:37.186195Z"
    },
    "papermill": {
     "duration": 0.371154,
     "end_time": "2022-06-04T22:49:37.189451",
     "exception": false,
     "start_time": "2022-06-04T22:49:36.818297",
     "status": "completed"
    },
    "tags": []
   },
   "outputs": [
    {
     "data": {
      "image/png": "[encoded data removed]",
      "text/plain": [
       "<Figure size 432x288 with 1 Axes>"
      ]
     },
     "metadata": {
      "needs_background": "light"
     },
     "output_type": "display_data"
    }
   ],
   "source": [
    "plt.imshow(X[2,:,:], cmap = 'gray')\n",
    "plt.show()"
   ]
  },
  {
   "cell_type": "markdown",
   "id": "ad869aca",
   "metadata": {
    "papermill": {
     "duration": 0.156221,
     "end_time": "2022-06-04T22:49:37.503387",
     "exception": false,
     "start_time": "2022-06-04T22:49:37.347166",
     "status": "completed"
    },
    "tags": []
   },
   "source": [
    "# Define the model\n",
    "Try a few different network models in order to figure out what works best"
   ]
  },
  {
   "cell_type": "code",
   "execution_count": 16,
   "id": "ec6c0fdc",
   "metadata": {
    "execution": {
     "iopub.execute_input": "2022-06-04T22:49:37.820090Z",
     "iopub.status.busy": "2022-06-04T22:49:37.819787Z",
     "iopub.status.idle": "2022-06-04T22:49:46.570447Z",
     "shell.execute_reply": "2022-06-04T22:49:46.569644Z"
    },
    "papermill": {
     "duration": 8.911061,
     "end_time": "2022-06-04T22:49:46.572897",
     "exception": false,
     "start_time": "2022-06-04T22:49:37.661836",
     "status": "completed"
    },
    "tags": []
   },
   "outputs": [
    {
     "name": "stderr",
     "output_type": "stream",
     "text": [
      "Downloading: \"https://download.pytorch.org/models/resnext50_32x4d-7cdf4587.pth\" to /root/.cache/torch/hub/checkpoints/resnext50_32x4d-7cdf4587.pth\n"
     ]
    },
    {
     "data": {
      "application/vnd.jupyter.widget-view+json": {
       "model_id": "942adc4523794f708ab034bff6581d53",
       "version_major": 2,
       "version_minor": 0
      },
      "text/plain": [
       "  0%|          | 0.00/95.8M [00:00<?, ?B/s]"
      ]
     },
     "metadata": {},
     "output_type": "display_data"
    }
   ],
   "source": [
    "class Model_v1(torch.nn.Module):\n",
    "    def __init__(self):\n",
    "        super().__init__()\n",
    "        # Define the different layers\n",
    "        resnet = models.resnext50_32x4d(pretrained=True)\n",
    "        resnet.fc = torch.nn.Sequential(\n",
    "            torch.nn.Dropout(p=0.2),\n",
    "            torch.nn.Linear(in_features=resnet.fc.in_features, out_features=22)\n",
    "        )\n",
    "        self.base_model = resnet\n",
    "        self.sigm = torch.nn.Sigmoid()\n",
    "    \n",
    "    def forward(self, x):\n",
    "        # Forward pass information\n",
    "        return self.sigm(self.base_model(x))\n",
    "\n",
    "# For some reason I need to set the weights of ResNet to double, even though they are originally float32\n",
    "model = Model_v1().double()"
   ]
  },
  {
   "cell_type": "code",
   "execution_count": 17,
   "id": "f5eed632",
   "metadata": {
    "execution": {
     "iopub.execute_input": "2022-06-04T22:49:46.889266Z",
     "iopub.status.busy": "2022-06-04T22:49:46.888987Z",
     "iopub.status.idle": "2022-06-04T22:49:46.892593Z",
     "shell.execute_reply": "2022-06-04T22:49:46.891590Z"
    },
    "papermill": {
     "duration": 0.163268,
     "end_time": "2022-06-04T22:49:46.894779",
     "exception": false,
     "start_time": "2022-06-04T22:49:46.731511",
     "status": "completed"
    },
    "tags": []
   },
   "outputs": [],
   "source": [
    "# for i in model.parameters():\n",
    "#     print(i.dtype)"
   ]
  },
  {
   "cell_type": "code",
   "execution_count": 18,
   "id": "3f199e40",
   "metadata": {
    "execution": {
     "iopub.execute_input": "2022-06-04T22:49:47.210029Z",
     "iopub.status.busy": "2022-06-04T22:49:47.209755Z",
     "iopub.status.idle": "2022-06-04T22:49:47.213148Z",
     "shell.execute_reply": "2022-06-04T22:49:47.212228Z"
    },
    "papermill": {
     "duration": 0.162886,
     "end_time": "2022-06-04T22:49:47.215123",
     "exception": false,
     "start_time": "2022-06-04T22:49:47.052237",
     "status": "completed"
    },
    "tags": []
   },
   "outputs": [],
   "source": [
    "# image, label = [ x[0] for x in iter(train_dataloader).next() ]\n",
    "# image.double().dtype"
   ]
  },
  {
   "cell_type": "markdown",
   "id": "d8b88245",
   "metadata": {
    "papermill": {
     "duration": 0.154987,
     "end_time": "2022-06-04T22:49:47.525879",
     "exception": false,
     "start_time": "2022-06-04T22:49:47.370892",
     "status": "completed"
    },
    "tags": []
   },
   "source": [
    "# Define the optimizer"
   ]
  },
  {
   "cell_type": "code",
   "execution_count": 19,
   "id": "389a016f",
   "metadata": {
    "execution": {
     "iopub.execute_input": "2022-06-04T22:49:47.840195Z",
     "iopub.status.busy": "2022-06-04T22:49:47.839865Z",
     "iopub.status.idle": "2022-06-04T22:49:47.845327Z",
     "shell.execute_reply": "2022-06-04T22:49:47.844429Z"
    },
    "papermill": {
     "duration": 0.165224,
     "end_time": "2022-06-04T22:49:47.847662",
     "exception": false,
     "start_time": "2022-06-04T22:49:47.682438",
     "status": "completed"
    },
    "tags": []
   },
   "outputs": [],
   "source": [
    "criterion = torch.nn.BCELoss()\n",
    "\n",
    "optimizer = torch.optim.Adam(model.parameters(), lr=1e-3)"
   ]
  },
  {
   "cell_type": "code",
   "execution_count": null,
   "id": "548e9ada",
   "metadata": {
    "papermill": {
     "duration": 0.159823,
     "end_time": "2022-06-04T22:49:48.163867",
     "exception": false,
     "start_time": "2022-06-04T22:49:48.004044",
     "status": "completed"
    },
    "tags": []
   },
   "outputs": [],
   "source": []
  },
  {
   "cell_type": "markdown",
   "id": "d741ef56",
   "metadata": {
    "papermill": {
     "duration": 0.155783,
     "end_time": "2022-06-04T22:49:48.475127",
     "exception": false,
     "start_time": "2022-06-04T22:49:48.319344",
     "status": "completed"
    },
    "tags": []
   },
   "source": [
    "# Performance metrics"
   ]
  },
  {
   "cell_type": "code",
   "execution_count": 20,
   "id": "b96cde7e",
   "metadata": {
    "execution": {
     "iopub.execute_input": "2022-06-04T22:49:48.792515Z",
     "iopub.status.busy": "2022-06-04T22:49:48.792210Z",
     "iopub.status.idle": "2022-06-04T22:49:49.790258Z",
     "shell.execute_reply": "2022-06-04T22:49:49.789333Z"
    },
    "papermill": {
     "duration": 1.160802,
     "end_time": "2022-06-04T22:49:49.792949",
     "exception": false,
     "start_time": "2022-06-04T22:49:48.632147",
     "status": "completed"
    },
    "tags": []
   },
   "outputs": [],
   "source": [
    "from sklearn.metrics import precision_score, recall_score, f1_score\n",
    "\n",
    "def calculate_metrics(pred, target, threshold=0.5):\n",
    "    pred = np.array(pred > threshold, dtype=float)\n",
    "    return {'micro/precision': precision_score(y_true=target, y_pred=pred, average='micro'),\n",
    "            'micro/recall': recall_score(y_true=target, y_pred=pred, average='micro'),\n",
    "            'micro/f1': f1_score(y_true=target, y_pred=pred, average='micro'),\n",
    "            'macro/precision': precision_score(y_true=target, y_pred=pred, average='macro'),\n",
    "            'macro/recall': recall_score(y_true=target, y_pred=pred, average='macro'),\n",
    "            'macro/f1': f1_score(y_true=target, y_pred=pred, average='macro'),\n",
    "            'samples/precision': precision_score(y_true=target, y_pred=pred, average='samples'),\n",
    "            'samples/recall': recall_score(y_true=target, y_pred=pred, average='samples'),\n",
    "            'samples/f1': f1_score(y_true=target, y_pred=pred, average='samples'),\n",
    "            }"
   ]
  },
  {
   "cell_type": "markdown",
   "id": "c78d5699",
   "metadata": {
    "papermill": {
     "duration": 0.158296,
     "end_time": "2022-06-04T22:49:50.111467",
     "exception": false,
     "start_time": "2022-06-04T22:49:49.953171",
     "status": "completed"
    },
    "tags": []
   },
   "source": [
    "# Train the Network"
   ]
  },
  {
   "cell_type": "code",
   "execution_count": 21,
   "id": "c34c9c93",
   "metadata": {
    "execution": {
     "iopub.execute_input": "2022-06-04T22:49:50.429223Z",
     "iopub.status.busy": "2022-06-04T22:49:50.428938Z",
     "iopub.status.idle": "2022-06-05T09:37:50.132593Z",
     "shell.execute_reply": "2022-06-05T09:37:50.128567Z"
    },
    "papermill": {
     "duration": 38880.087881,
     "end_time": "2022-06-05T09:37:50.358935",
     "exception": false,
     "start_time": "2022-06-04T22:49:50.271054",
     "status": "completed"
    },
    "tags": []
   },
   "outputs": [
    {
     "name": "stderr",
     "output_type": "stream",
     "text": [
      "  0%|          | 0/28 [00:00<?, ?it/s]/opt/conda/lib/python3.7/site-packages/pydicom/pixel_data_handlers/pillow_handler.py:239: UserWarning: The (0028,0101) 'Bits Stored' value (15-bit) doesn't match the JPEG 2000 data (16-bit). It's recommended that you change the 'Bits Stored' value\n",
      "  f\"The (0028,0101) 'Bits Stored' value ({bits_stored}-bit) \"\n",
      "/opt/conda/lib/python3.7/site-packages/pydicom/pixel_data_handlers/pillow_handler.py:239: UserWarning: The (0028,0101) 'Bits Stored' value (10-bit) doesn't match the JPEG 2000 data (16-bit). It's recommended that you change the 'Bits Stored' value\n",
      "  f\"The (0028,0101) 'Bits Stored' value ({bits_stored}-bit) \"\n",
      " 86%|████████▌ | 24/28 [1:38:08<15:44, 236.16s/it]/opt/conda/lib/python3.7/site-packages/pydicom/pixel_data_handlers/pillow_handler.py:239: UserWarning: The (0028,0101) 'Bits Stored' value (12-bit) doesn't match the JPEG 2000 data (16-bit). It's recommended that you change the 'Bits Stored' value\n",
      "  f\"The (0028,0101) 'Bits Stored' value ({bits_stored}-bit) \"\n",
      "100%|██████████| 28/28 [1:51:00<00:00, 237.89s/it]\n"
     ]
    },
    {
     "name": "stdout",
     "output_type": "stream",
     "text": [
      "epoch: 0 iter:  0 train: loss:0.112\n"
     ]
    },
    {
     "name": "stderr",
     "output_type": "stream",
     "text": [
      "100%|██████████| 28/28 [1:47:39<00:00, 230.70s/it]\n"
     ]
    },
    {
     "name": "stdout",
     "output_type": "stream",
     "text": [
      "epoch: 1 iter:  0 train: loss:0.055\n"
     ]
    },
    {
     "name": "stderr",
     "output_type": "stream",
     "text": [
      "100%|██████████| 28/28 [1:48:07<00:00, 231.70s/it]\n"
     ]
    },
    {
     "name": "stdout",
     "output_type": "stream",
     "text": [
      "epoch: 2 iter:  0 train: loss:0.041\n"
     ]
    },
    {
     "name": "stderr",
     "output_type": "stream",
     "text": [
      "100%|██████████| 28/28 [1:48:01<00:00, 231.49s/it]\n"
     ]
    },
    {
     "name": "stdout",
     "output_type": "stream",
     "text": [
      "epoch: 3 iter:  0 train: loss:0.035\n"
     ]
    },
    {
     "name": "stderr",
     "output_type": "stream",
     "text": [
      "100%|██████████| 28/28 [1:46:24<00:00, 228.03s/it]\n"
     ]
    },
    {
     "name": "stdout",
     "output_type": "stream",
     "text": [
      "epoch: 4 iter:  0 train: loss:0.031\n"
     ]
    },
    {
     "name": "stderr",
     "output_type": "stream",
     "text": [
      "100%|██████████| 28/28 [1:46:44<00:00, 228.74s/it]"
     ]
    },
    {
     "name": "stdout",
     "output_type": "stream",
     "text": [
      "epoch: 5 iter:  0 train: loss:0.031\n"
     ]
    },
    {
     "name": "stderr",
     "output_type": "stream",
     "text": [
      "\n"
     ]
    }
   ],
   "source": [
    "epoch = 0\n",
    "max_epoch_number = 5\n",
    "iteration = 0\n",
    "test_freq = 5 #how often to print status reports\n",
    "\n",
    "while True:\n",
    "    batch_losses = []\n",
    "    for imgs, targets in tqdm(train_dataloader):\n",
    "        #imgs, targets = imgs.to(device), targets.to(device)\n",
    "        \n",
    "        optimizer.zero_grad()\n",
    "        \n",
    "        model_result = model(imgs)\n",
    "        loss = criterion(model_result, targets)#.type(torch.float))\n",
    "        \n",
    "        batch_loss_value = loss.item()\n",
    "        loss.backward()\n",
    "        optimizer.step()\n",
    "        \n",
    "        batch_losses.append(batch_loss_value)\n",
    "        \n",
    "#         if iteration % test_freq == 0:\n",
    "#             model.eval()\n",
    "#             with torch.no_grad():\n",
    "#                 model_result = []\n",
    "#                 targets = []\n",
    "#                 for imgs, batch_targets in test_dataloader:\n",
    "#                     imgs = imgs.to(device)\n",
    "#                     model_batch_result = model(imgs)\n",
    "#                     model_result.extend(model_batch_result.cpu().numpy())\n",
    "#                     targets.extend(batch_targets.cpu().numpy())\n",
    "\n",
    "#             result = calculate_metrics(np.array(model_result), np.array(targets))\n",
    "#             print(\"epoch:{:2d} iter:{:3d} test: \"\n",
    "#                   \"micro f1: {:.3f} \"\n",
    "#                   \"macro f1: {:.3f} \"\n",
    "#                   \"samples f1: {:.3f}\".format(epoch, iteration,\n",
    "#                                               result['micro/f1'],\n",
    "#                                               result['macro/f1'],\n",
    "#                                               result['samples/f1']))\n",
    "\n",
    "#             model.train()\n",
    "#         iteration += 1\n",
    "\n",
    "    loss_value = np.mean(batch_losses)\n",
    "    print(\"epoch:{:2d} iter:{:3d} train: loss:{:.3f}\".format(epoch, iteration, loss_value))\n",
    "#     if epoch % save_freq == 0:\n",
    "#         checkpoint_save(model, save_path, epoch)\n",
    "    epoch += 1\n",
    "    if max_epoch_number < epoch:\n",
    "        break"
   ]
  },
  {
   "cell_type": "code",
   "execution_count": null,
   "id": "80778602",
   "metadata": {
    "papermill": {
     "duration": 0.234716,
     "end_time": "2022-06-05T09:37:50.831173",
     "exception": false,
     "start_time": "2022-06-05T09:37:50.596457",
     "status": "completed"
    },
    "tags": []
   },
   "outputs": [],
   "source": []
  },
  {
   "cell_type": "markdown",
   "id": "53c774bf",
   "metadata": {
    "papermill": {
     "duration": 0.227045,
     "end_time": "2022-06-05T09:37:51.287694",
     "exception": false,
     "start_time": "2022-06-05T09:37:51.060649",
     "status": "completed"
    },
    "tags": []
   },
   "source": [
    "# Test the Network"
   ]
  },
  {
   "cell_type": "code",
   "execution_count": null,
   "id": "d7676cc7",
   "metadata": {
    "papermill": {
     "duration": 0.228622,
     "end_time": "2022-06-05T09:37:51.745197",
     "exception": false,
     "start_time": "2022-06-05T09:37:51.516575",
     "status": "completed"
    },
    "tags": []
   },
   "outputs": [],
   "source": []
  }
 ],
 "metadata": {
  "kernelspec": {
   "display_name": "Python 3",
   "language": "python",
   "name": "python3"
  },
  "language_info": {
   "codemirror_mode": {
    "name": "ipython",
    "version": 3
   },
   "file_extension": ".py",
   "mimetype": "text/x-python",
   "name": "python",
   "nbconvert_exporter": "python",
   "pygments_lexer": "ipython3",
   "version": "3.7.12"
  },
  "papermill": {
   "default_parameters": {},
   "duration": 38990.896178,
   "end_time": "2022-06-05T09:37:54.776547",
   "environment_variables": {},
   "exception": null,
   "input_path": "__notebook__.ipynb",
   "output_path": "__notebook__.ipynb",
   "parameters": {},
   "start_time": "2022-06-04T22:48:03.880369",
   "version": "2.3.4"
  },
  "widgets": {
   "application/vnd.jupyter.widget-state+json": {
    "state": {
     "0a896213572e4b8c8916e1dc31ca78d0": {
      "model_module": "@jupyter-widgets/controls",
      "model_module_version": "1.5.0",
      "model_name": "FloatProgressModel",
      "state": {
       "_dom_classes": [],
       "_model_module": "@jupyter-widgets/controls",
       "_model_module_version": "1.5.0",
       "_model_name": "FloatProgressModel",
       "_view_count": null,
       "_view_module": "@jupyter-widgets/controls",
       "_view_module_version": "1.5.0",
       "_view_name": "ProgressView",
       "bar_style": "success",
       "description": "",
       "description_tooltip": null,
       "layout": "IPY_MODEL_e52ec9b4476e4c08b3abb6ac4b8b71db",
       "max": 100441675.0,
       "min": 0.0,
       "orientation": "horizontal",
       "style": "IPY_MODEL_e16caf67dc2c40069f2800acbe57ce95",
       "value": 100441675.0
      }
     },
     "35d5916a542f48e196f6ca44bac8fa78": {
      "model_module": "@jupyter-widgets/controls",
      "model_module_version": "1.5.0",
      "model_name": "DescriptionStyleModel",
      "state": {
       "_model_module": "@jupyter-widgets/controls",
       "_model_module_version": "1.5.0",
       "_model_name": "DescriptionStyleModel",
       "_view_count": null,
       "_view_module": "@jupyter-widgets/base",
       "_view_module_version": "1.2.0",
       "_view_name": "StyleView",
       "description_width": ""
      }
     },
     "580569daeae943758c7c66851e8c4490": {
      "model_module": "@jupyter-widgets/controls",
      "model_module_version": "1.5.0",
      "model_name": "HTMLModel",
      "state": {
       "_dom_classes": [],
       "_model_module": "@jupyter-widgets/controls",
       "_model_module_version": "1.5.0",
       "_model_name": "HTMLModel",
       "_view_count": null,
       "_view_module": "@jupyter-widgets/controls",
       "_view_module_version": "1.5.0",
       "_view_name": "HTMLView",
       "description": "",
       "description_tooltip": null,
       "layout": "IPY_MODEL_b3bfcd71a7a24e9aad2e61f607b26c5b",
       "placeholder": "​",
       "style": "IPY_MODEL_6f1a10248294478a9e184e8bd32b40d0",
       "value": "100%"
      }
     },
     "6f1a10248294478a9e184e8bd32b40d0": {
      "model_module": "@jupyter-widgets/controls",
      "model_module_version": "1.5.0",
      "model_name": "DescriptionStyleModel",
      "state": {
       "_model_module": "@jupyter-widgets/controls",
       "_model_module_version": "1.5.0",
       "_model_name": "DescriptionStyleModel",
       "_view_count": null,
       "_view_module": "@jupyter-widgets/base",
       "_view_module_version": "1.2.0",
       "_view_name": "StyleView",
       "description_width": ""
      }
     },
     "942adc4523794f708ab034bff6581d53": {
      "model_module": "@jupyter-widgets/controls",
      "model_module_version": "1.5.0",
      "model_name": "HBoxModel",
      "state": {
       "_dom_classes": [],
       "_model_module": "@jupyter-widgets/controls",
       "_model_module_version": "1.5.0",
       "_model_name": "HBoxModel",
       "_view_count": null,
       "_view_module": "@jupyter-widgets/controls",
       "_view_module_version": "1.5.0",
       "_view_name": "HBoxView",
       "box_style": "",
       "children": [
        "IPY_MODEL_580569daeae943758c7c66851e8c4490",
        "IPY_MODEL_0a896213572e4b8c8916e1dc31ca78d0",
        "IPY_MODEL_b13331280b5142a183200cad5c40d6b3"
       ],
       "layout": "IPY_MODEL_a5c087e6c8af42f0a7d3658966ad31b1"
      }
     },
     "a5c087e6c8af42f0a7d3658966ad31b1": {
      "model_module": "@jupyter-widgets/base",
      "model_module_version": "1.2.0",
      "model_name": "LayoutModel",
      "state": {
       "_model_module": "@jupyter-widgets/base",
       "_model_module_version": "1.2.0",
       "_model_name": "LayoutModel",
       "_view_count": null,
       "_view_module": "@jupyter-widgets/base",
       "_view_module_version": "1.2.0",
       "_view_name": "LayoutView",
       "align_content": null,
       "align_items": null,
       "align_self": null,
       "border": null,
       "bottom": null,
       "display": null,
       "flex": null,
       "flex_flow": null,
       "grid_area": null,
       "grid_auto_columns": null,
       "grid_auto_flow": null,
       "grid_auto_rows": null,
       "grid_column": null,
       "grid_gap": null,
       "grid_row": null,
       "grid_template_areas": null,
       "grid_template_columns": null,
       "grid_template_rows": null,
       "height": null,
       "justify_content": null,
       "justify_items": null,
       "left": null,
       "margin": null,
       "max_height": null,
       "max_width": null,
       "min_height": null,
       "min_width": null,
       "object_fit": null,
       "object_position": null,
       "order": null,
       "overflow": null,
       "overflow_x": null,
       "overflow_y": null,
       "padding": null,
       "right": null,
       "top": null,
       "visibility": null,
       "width": null
      }
     },
     "b13331280b5142a183200cad5c40d6b3": {
      "model_module": "@jupyter-widgets/controls",
      "model_module_version": "1.5.0",
      "model_name": "HTMLModel",
      "state": {
       "_dom_classes": [],
       "_model_module": "@jupyter-widgets/controls",
       "_model_module_version": "1.5.0",
       "_model_name": "HTMLModel",
       "_view_count": null,
       "_view_module": "@jupyter-widgets/controls",
       "_view_module_version": "1.5.0",
       "_view_name": "HTMLView",
       "description": "",
       "description_tooltip": null,
       "layout": "IPY_MODEL_d81feadf8f2f426f9ff728eb87cc61cf",
       "placeholder": "​",
       "style": "IPY_MODEL_35d5916a542f48e196f6ca44bac8fa78",
       "value": " 95.8M/95.8M [00:07&lt;00:00, 23.7MB/s]"
      }
     },
     "b3bfcd71a7a24e9aad2e61f607b26c5b": {
      "model_module": "@jupyter-widgets/base",
      "model_module_version": "1.2.0",
      "model_name": "LayoutModel",
      "state": {
       "_model_module": "@jupyter-widgets/base",
       "_model_module_version": "1.2.0",
       "_model_name": "LayoutModel",
       "_view_count": null,
       "_view_module": "@jupyter-widgets/base",
       "_view_module_version": "1.2.0",
       "_view_name": "LayoutView",
       "align_content": null,
       "align_items": null,
       "align_self": null,
       "border": null,
       "bottom": null,
       "display": null,
       "flex": null,
       "flex_flow": null,
       "grid_area": null,
       "grid_auto_columns": null,
       "grid_auto_flow": null,
       "grid_auto_rows": null,
       "grid_column": null,
       "grid_gap": null,
       "grid_row": null,
       "grid_template_areas": null,
       "grid_template_columns": null,
       "grid_template_rows": null,
       "height": null,
       "justify_content": null,
       "justify_items": null,
       "left": null,
       "margin": null,
       "max_height": null,
       "max_width": null,
       "min_height": null,
       "min_width": null,
       "object_fit": null,
       "object_position": null,
       "order": null,
       "overflow": null,
       "overflow_x": null,
       "overflow_y": null,
       "padding": null,
       "right": null,
       "top": null,
       "visibility": null,
       "width": null
      }
     },
     "d81feadf8f2f426f9ff728eb87cc61cf": {
      "model_module": "@jupyter-widgets/base",
      "model_module_version": "1.2.0",
      "model_name": "LayoutModel",
      "state": {
       "_model_module": "@jupyter-widgets/base",
       "_model_module_version": "1.2.0",
       "_model_name": "LayoutModel",
       "_view_count": null,
       "_view_module": "@jupyter-widgets/base",
       "_view_module_version": "1.2.0",
       "_view_name": "LayoutView",
       "align_content": null,
       "align_items": null,
       "align_self": null,
       "border": null,
       "bottom": null,
       "display": null,
       "flex": null,
       "flex_flow": null,
       "grid_area": null,
       "grid_auto_columns": null,
       "grid_auto_flow": null,
       "grid_auto_rows": null,
       "grid_column": null,
       "grid_gap": null,
       "grid_row": null,
       "grid_template_areas": null,
       "grid_template_columns": null,
       "grid_template_rows": null,
       "height": null,
       "justify_content": null,
       "justify_items": null,
       "left": null,
       "margin": null,
       "max_height": null,
       "max_width": null,
       "min_height": null,
       "min_width": null,
       "object_fit": null,
       "object_position": null,
       "order": null,
       "overflow": null,
       "overflow_x": null,
       "overflow_y": null,
       "padding": null,
       "right": null,
       "top": null,
       "visibility": null,
       "width": null
      }
     },
     "e16caf67dc2c40069f2800acbe57ce95": {
      "model_module": "@jupyter-widgets/controls",
      "model_module_version": "1.5.0",
      "model_name": "ProgressStyleModel",
      "state": {
       "_model_module": "@jupyter-widgets/controls",
       "_model_module_version": "1.5.0",
       "_model_name": "ProgressStyleModel",
       "_view_count": null,
       "_view_module": "@jupyter-widgets/base",
       "_view_module_version": "1.2.0",
       "_view_name": "StyleView",
       "bar_color": null,
       "description_width": ""
      }
     },
     "e52ec9b4476e4c08b3abb6ac4b8b71db": {
      "model_module": "@jupyter-widgets/base",
      "model_module_version": "1.2.0",
      "model_name": "LayoutModel",
      "state": {
       "_model_module": "@jupyter-widgets/base",
       "_model_module_version": "1.2.0",
       "_model_name": "LayoutModel",
       "_view_count": null,
       "_view_module": "@jupyter-widgets/base",
       "_view_module_version": "1.2.0",
       "_view_name": "LayoutView",
       "align_content": null,
       "align_items": null,
       "align_self": null,
       "border": null,
       "bottom": null,
       "display": null,
       "flex": null,
       "flex_flow": null,
       "grid_area": null,
       "grid_auto_columns": null,
       "grid_auto_flow": null,
       "grid_auto_rows": null,
       "grid_column": null,
       "grid_gap": null,
       "grid_row": null,
       "grid_template_areas": null,
       "grid_template_columns": null,
       "grid_template_rows": null,
       "height": null,
       "justify_content": null,
       "justify_items": null,
       "left": null,
       "margin": null,
       "max_height": null,
       "max_width": null,
       "min_height": null,
       "min_width": null,
       "object_fit": null,
       "object_position": null,
       "order": null,
       "overflow": null,
       "overflow_x": null,
       "overflow_y": null,
       "padding": null,
       "right": null,
       "top": null,
       "visibility": null,
       "width": null
      }
     }
    },
    "version_major": 2,
    "version_minor": 0
   }
  }
 },
 "nbformat": 4,
 "nbformat_minor": 5
}

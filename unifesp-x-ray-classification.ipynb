{
 "cells": [
  {
   "cell_type": "code",
   "execution_count": 1,
   "id": "b21077dc",
   "metadata": {
    "_cell_guid": "b1076dfc-b9ad-4769-8c92-a6c4dae69d19",
    "_kg_hide-input": true,
    "_uuid": "8f2839f25d086af736a60e9eeb907d3b93b6e0e5",
    "execution": {
     "iopub.execute_input": "2022-06-14T02:46:17.340250Z",
     "iopub.status.busy": "2022-06-14T02:46:17.339855Z",
     "iopub.status.idle": "2022-06-14T02:46:17.351446Z",
     "shell.execute_reply": "2022-06-14T02:46:17.350840Z"
    },
    "papermill": {
     "duration": 0.067849,
     "end_time": "2022-06-14T02:46:17.353332",
     "exception": false,
     "start_time": "2022-06-14T02:46:17.285483",
     "status": "completed"
    },
    "scrolled": true,
    "tags": []
   },
   "outputs": [],
   "source": [
    "# This Python 3 environment comes with many helpful analytics libraries installed\n",
    "# It is defined by the kaggle/python Docker image: https://github.com/kaggle/docker-python\n",
    "# For example, here's several helpful packages to load\n",
    "\n",
    "import numpy as np # linear algebra\n",
    "import pandas as pd # data processing, CSV file I/O (e.g. pd.read_csv)\n",
    "import os\n",
    "\n",
    "# You can write up to 20GB to the current directory (/kaggle/working/) that gets preserved as output when you create a version using \"Save & Run All\" \n",
    "# You can also write temporary files to /kaggle/temp/, but they won't be saved outside of the current session"
   ]
  },
  {
   "cell_type": "markdown",
   "id": "651637fb",
   "metadata": {
    "papermill": {
     "duration": 0.051046,
     "end_time": "2022-06-14T02:46:17.455764",
     "exception": false,
     "start_time": "2022-06-14T02:46:17.404718",
     "status": "completed"
    },
    "tags": []
   },
   "source": [
    "## Organize location and labels for relevant images"
   ]
  },
  {
   "cell_type": "code",
   "execution_count": 2,
   "id": "3a550b0d",
   "metadata": {
    "execution": {
     "iopub.execute_input": "2022-06-14T02:46:17.560461Z",
     "iopub.status.busy": "2022-06-14T02:46:17.560208Z",
     "iopub.status.idle": "2022-06-14T02:46:19.750068Z",
     "shell.execute_reply": "2022-06-14T02:46:19.749240Z"
    },
    "papermill": {
     "duration": 2.244736,
     "end_time": "2022-06-14T02:46:19.752403",
     "exception": false,
     "start_time": "2022-06-14T02:46:17.507667",
     "status": "completed"
    },
    "tags": []
   },
   "outputs": [],
   "source": [
    "import pydicom\n",
    "import imageio\n",
    "import torch\n",
    "from torch.utils.data import DataLoader\n",
    "from torchvision import transforms, models\n",
    "from tqdm import tqdm\n",
    "import time\n",
    "from matplotlib import pyplot as plt"
   ]
  },
  {
   "cell_type": "markdown",
   "id": "34b41340",
   "metadata": {
    "papermill": {
     "duration": 0.051003,
     "end_time": "2022-06-14T02:46:19.858138",
     "exception": false,
     "start_time": "2022-06-14T02:46:19.807135",
     "status": "completed"
    },
    "tags": []
   },
   "source": [
    "# DATA AS DICOM"
   ]
  },
  {
   "cell_type": "code",
   "execution_count": 3,
   "id": "e78e9e90",
   "metadata": {
    "execution": {
     "iopub.execute_input": "2022-06-14T02:46:19.962672Z",
     "iopub.status.busy": "2022-06-14T02:46:19.962396Z",
     "iopub.status.idle": "2022-06-14T02:46:19.968849Z",
     "shell.execute_reply": "2022-06-14T02:46:19.967971Z"
    },
    "papermill": {
     "duration": 0.06111,
     "end_time": "2022-06-14T02:46:19.970822",
     "exception": false,
     "start_time": "2022-06-14T02:46:19.909712",
     "status": "completed"
    },
    "tags": []
   },
   "outputs": [],
   "source": [
    "# def dcmtag2table(folder, list_of_tags):\n",
    "#     \"\"\"\n",
    "#     Create a Pandas DataFrame with the <list_of_tags> DICOM tags\n",
    "#     from the DICOM files in <folder>\n",
    "    \n",
    "#     Parameters:\n",
    "#         folder (str): path for the folder to be recursively walked through looking for DICOM files\n",
    "#         list_of_tags (list of strings): a list of DICOM tags with no whitespaces\n",
    "        \n",
    "#     Returns:\n",
    "#         df (DataFrame): table of DICOM tags from the files in <folder>\n",
    "#     \"\"\"\n",
    "    \n",
    "#     list_of_tags = list_of_tags.copy()\n",
    "#     items = []\n",
    "#     table = []\n",
    "#     filelist = []\n",
    "#     print(\"Listing files...\")\n",
    "#     start = time.time()\n",
    "#     for root, dirs, files in os.walk(folder, topdown=False):\n",
    "#         for name in files:\n",
    "#             filelist.append(os.path.join(root,name)) #Get list of files that are present in the folder\n",
    "    \n",
    "#     print(\"Time: \" + str(time.time() - start))\n",
    "#     print(\"Reading files...\")\n",
    "#     time.sleep(2)\n",
    "#     for _f in tqdm(filelist):\n",
    "#         try:\n",
    "#             ds = pydicom.dcmread(_f, stop_before_pixels=True) #Try to read each of the files, if they aren't pydicom compatible, run <except>\n",
    "#             items = [] # ^ The \"stop_before_pixels\" prevents the loading of the raw data, just metadata\n",
    "#             items.append(_f)\n",
    "\n",
    "#             for _tag in list_of_tags:\n",
    "#                 if _tag in ds:\n",
    "#                     items.append(ds.data_element(_tag).value) #Gets the values for the paremeters defined in <list_of_tags>\n",
    "#                 else:\n",
    "#                     items.append(\"Not found\")\n",
    "\n",
    "#             table.append((items)) #make a table of the tag values\n",
    "#         except:\n",
    "#             print(\"Skipping non-DICOM: \" + _f)\n",
    "\n",
    "    \n",
    "#     list_of_tags.insert(0, \"Filename\") #add \"Filename\" to <list_of_tags>\n",
    "#     test = list(map(list, zip(*table)))\n",
    "#     dictone = {}\n",
    "\n",
    "#     for i, _tag in enumerate (list_of_tags):\n",
    "#         dictone[_tag] = test[i]\n",
    "\n",
    "#     df = pd.DataFrame(dictone)\n",
    "#     time.sleep(2)\n",
    "#     print(\"Finished.\")\n",
    "#     return df\n",
    "    "
   ]
  },
  {
   "cell_type": "code",
   "execution_count": 4,
   "id": "79072783",
   "metadata": {
    "execution": {
     "iopub.execute_input": "2022-06-14T02:46:20.075795Z",
     "iopub.status.busy": "2022-06-14T02:46:20.075324Z",
     "iopub.status.idle": "2022-06-14T02:46:20.078265Z",
     "shell.execute_reply": "2022-06-14T02:46:20.077736Z"
    },
    "papermill": {
     "duration": 0.057366,
     "end_time": "2022-06-14T02:46:20.079972",
     "exception": false,
     "start_time": "2022-06-14T02:46:20.022606",
     "status": "completed"
    },
    "tags": []
   },
   "outputs": [],
   "source": [
    "# tags = ['PhotometricInterpretation','BitsAllocated', 'SOPInstanceUID']\n",
    "# dicom_tags_train =  dcmtag2table('../input/unifesp-x-ray-body-part-classifier/train', tags)"
   ]
  },
  {
   "cell_type": "code",
   "execution_count": 5,
   "id": "fa2036c1",
   "metadata": {
    "execution": {
     "iopub.execute_input": "2022-06-14T02:46:20.183980Z",
     "iopub.status.busy": "2022-06-14T02:46:20.183524Z",
     "iopub.status.idle": "2022-06-14T02:46:20.190463Z",
     "shell.execute_reply": "2022-06-14T02:46:20.189905Z"
    },
    "papermill": {
     "duration": 0.061061,
     "end_time": "2022-06-14T02:46:20.192301",
     "exception": false,
     "start_time": "2022-06-14T02:46:20.131240",
     "status": "completed"
    },
    "tags": []
   },
   "outputs": [],
   "source": [
    "# def fill_targets(row):\n",
    "#     bodyparts = {\n",
    "#         0 :'Abdomen',\n",
    "#         1 :'Ankle',\n",
    "#         2 :'Cervical Spine',\n",
    "#         3 :'Chest',\n",
    "#         4 :'Clavicles',\n",
    "#         5 :'Elbow',\n",
    "#         6 :'Feet',\n",
    "#         7 :'Finger',\n",
    "#         8 :'Forearm',\n",
    "#         9 :'Hand',\n",
    "#         10 :'Hip',\n",
    "#         11 :'Knee',\n",
    "#         12 :'Lower Leg',\n",
    "#         13 :'Lumbar Spine',\n",
    "#         14 :'Others',\n",
    "#         15 :'Pelvis',\n",
    "#         16 :'Shoulder',\n",
    "#         17 :'Sinus',\n",
    "#         18 :'Skull',\n",
    "#         19 :'Thigh' ,\n",
    "#         20 :'Thoracic Spine',\n",
    "#         21 :'Wrist',\n",
    "#     }\n",
    "    \n",
    "#     row.Target = np.array(row.Target.split(\" \"))\n",
    "#     for num in row.Target:\n",
    "#         if num != '':\n",
    "#             name = bodyparts[int(num)]\n",
    "#             row.loc[name]=1\n",
    "#     return row\n",
    "\n",
    "\n",
    "# def image_prep(in_dir, lab_f=False):\n",
    "#     \"\"\"\n",
    "#     Function to prepare the pandas table for use in the DataLoader\n",
    "    \n",
    "#     inputs:\n",
    "#         in_dir [path]: location of the input directory containing your data\n",
    "#         lab_f [path]: location of the csv containing the training labels, set as False if using with testing data\n",
    "        \n",
    "#     output:\n",
    "#         img_tab [DataFrame]: Relevant information about the dataset being used\n",
    "#     \"\"\"\n",
    "    \n",
    "#     # Key for labels\n",
    "#     bodyparts = {\n",
    "#         0 :'Abdomen',\n",
    "#         1 :'Ankle',\n",
    "#         2 :'Cervical Spine',\n",
    "#         3 :'Chest',\n",
    "#         4 :'Clavicles',\n",
    "#         5 :'Elbow',\n",
    "#         6 :'Feet',\n",
    "#         7 :'Finger',\n",
    "#         8 :'Forearm',\n",
    "#         9 :'Hand',\n",
    "#         10 :'Hip',\n",
    "#         11 :'Knee',\n",
    "#         12 :'Lower Leg',\n",
    "#         13 :'Lumbar Spine',\n",
    "#         14 :'Others',\n",
    "#         15 :'Pelvis',\n",
    "#         16 :'Shoulder',\n",
    "#         17 :'Sinus',\n",
    "#         18 :'Skull',\n",
    "#         19 :'Thigh' ,\n",
    "#         20 :'Thoracic Spine',\n",
    "#         21 :'Wrist',\n",
    "#     }\n",
    "\n",
    "#     reverse_train_labels = dict((v,k) for k,v in bodyparts.items())\n",
    "    \n",
    "#     # Relevant tags for inclusion in returned dataframe:\n",
    "#     tags = ['PhotometricInterpretation','BitsAllocated', 'SOPInstanceUID']\n",
    "\n",
    "#     dicom_tags =  dcmtag2table(in_dir, tags)\n",
    "    \n",
    "#     # Load in the training labels if present:\n",
    "#     if lab_f:\n",
    "#         lab_df = pd.read_csv(lab_f)\n",
    "#         for key in bodyparts.keys():\n",
    "#             lab_df[bodyparts[key]] = 0\n",
    "            \n",
    "#         dicom_labels = lab_df.apply(fill_targets, axis=1)\n",
    "\n",
    "#         img_df = dicom_tags.merge(dicom_labels, on = 'SOPInstanceUID')\n",
    "#     else:\n",
    "#         img_df = dicom_tags\n",
    "    \n",
    "#     return img_df"
   ]
  },
  {
   "cell_type": "markdown",
   "id": "e4982961",
   "metadata": {
    "papermill": {
     "duration": 0.050852,
     "end_time": "2022-06-14T02:46:20.294578",
     "exception": false,
     "start_time": "2022-06-14T02:46:20.243726",
     "status": "completed"
    },
    "tags": []
   },
   "source": [
    "# Create Dataset and DataLoader"
   ]
  },
  {
   "cell_type": "code",
   "execution_count": 6,
   "id": "a61e7643",
   "metadata": {
    "execution": {
     "iopub.execute_input": "2022-06-14T02:46:20.398198Z",
     "iopub.status.busy": "2022-06-14T02:46:20.397694Z",
     "iopub.status.idle": "2022-06-14T02:46:20.403133Z",
     "shell.execute_reply": "2022-06-14T02:46:20.402559Z"
    },
    "papermill": {
     "duration": 0.05948,
     "end_time": "2022-06-14T02:46:20.405039",
     "exception": false,
     "start_time": "2022-06-14T02:46:20.345559",
     "status": "completed"
    },
    "tags": []
   },
   "outputs": [],
   "source": [
    "## IMAGE DATASET FOR DICOM DATA\n",
    "\n",
    "# class img_dataset(torch.utils.data.Dataset): #torch....Dataset characterizes a dataset for Pytorch\n",
    "#     def __init__(self, in_dir, lab_f):\n",
    "#         # Make function incorporating dcmtag2table and the steps required to organize data\n",
    "#         self.data = image_prep(in_dir, lab_f)\n",
    "        \n",
    "#         self.preprocess = transforms.Compose([\n",
    "#             transforms.Resize(256),\n",
    "#             transforms.CenterCrop(224),\n",
    "#             #transforms.ToTensor(),\n",
    "#             transforms.Normalize(mean=[0.485, 0.456, 0.406], std=[0.229,0.234,0.225]),\n",
    "#         ])\n",
    "            \n",
    "#     def __len__(self):\n",
    "#         return len(self.data.Filename)\n",
    "    \n",
    "    \n",
    "#     def __getitem__(self, idx):\n",
    "#         # 'Generates one sample of data'\n",
    "        \n",
    "#         # This is where I get a filename and load it using: self.data.Filename[idx]\n",
    "#         # Look at: https://pytorch.org/tutorials/beginner/basics/data_tutorial.html\n",
    "#         f_path = self.data.Filename.iloc[idx]\n",
    "        \n",
    "#         dcm = pydicom.dcmread(f_path)\n",
    "#         img = dcm.pixel_array\n",
    "        \n",
    "#         # randomize whether it is using Monochrome1 or Monochrome2\n",
    "#         if np.random.choice([0,1]):\n",
    "#             img = np.invert(img)\n",
    "        \n",
    "#         # TODO: Add some sort of normalization step aside from this?\n",
    "#         img = img/img.max()\n",
    "        \n",
    "#         img = torch.from_numpy(img)\n",
    "#         #print(img.repeat(3,1,1).size())\n",
    "#         X = self.preprocess(img.repeat(3,1,1))\n",
    "#         # For some reason, ResNet only takes doubles\n",
    "#         X = X.double()\n",
    "        \n",
    "#         # Get the label information\n",
    "#         Y = torch.tensor(self.data.iloc[idx,5:])\n",
    "#         Y = Y.double()\n",
    "        \n",
    "#         # returns <input> and <target>, so the image and the vector of classification\n",
    "        \n",
    "#         return X, Y\n",
    "    "
   ]
  },
  {
   "cell_type": "code",
   "execution_count": 7,
   "id": "06381574",
   "metadata": {
    "execution": {
     "iopub.execute_input": "2022-06-14T02:46:20.509409Z",
     "iopub.status.busy": "2022-06-14T02:46:20.508938Z",
     "iopub.status.idle": "2022-06-14T02:46:20.512234Z",
     "shell.execute_reply": "2022-06-14T02:46:20.511488Z"
    },
    "papermill": {
     "duration": 0.057487,
     "end_time": "2022-06-14T02:46:20.514013",
     "exception": false,
     "start_time": "2022-06-14T02:46:20.456526",
     "status": "completed"
    },
    "tags": []
   },
   "outputs": [],
   "source": [
    "# train_dataloader = DataLoader(\n",
    "#     img_dataset('../input/unifesp-x-ray-body-part-classifier/train','../input/unifesp-x-ray-body-part-classifier/train.csv'),\n",
    "#     batch_size = 64,\n",
    "#     shuffle = True\n",
    "# )"
   ]
  },
  {
   "cell_type": "markdown",
   "id": "697e8876",
   "metadata": {
    "papermill": {
     "duration": 0.051003,
     "end_time": "2022-06-14T02:46:20.615991",
     "exception": false,
     "start_time": "2022-06-14T02:46:20.564988",
     "status": "completed"
    },
    "tags": []
   },
   "source": [
    "# Explore Images"
   ]
  },
  {
   "cell_type": "code",
   "execution_count": 8,
   "id": "9a5868db",
   "metadata": {
    "execution": {
     "iopub.execute_input": "2022-06-14T02:46:20.719549Z",
     "iopub.status.busy": "2022-06-14T02:46:20.719099Z",
     "iopub.status.idle": "2022-06-14T02:46:20.722327Z",
     "shell.execute_reply": "2022-06-14T02:46:20.721811Z"
    },
    "papermill": {
     "duration": 0.057043,
     "end_time": "2022-06-14T02:46:20.724163",
     "exception": false,
     "start_time": "2022-06-14T02:46:20.667120",
     "status": "completed"
    },
    "tags": []
   },
   "outputs": [],
   "source": [
    "# source = img_dataset('../input/unifesp-x-ray-body-part-classifier/train','../input/unifesp-x-ray-body-part-classifier/train.csv')"
   ]
  },
  {
   "cell_type": "code",
   "execution_count": 9,
   "id": "47629ce1",
   "metadata": {
    "execution": {
     "iopub.execute_input": "2022-06-14T02:46:20.828939Z",
     "iopub.status.busy": "2022-06-14T02:46:20.828639Z",
     "iopub.status.idle": "2022-06-14T02:46:20.831543Z",
     "shell.execute_reply": "2022-06-14T02:46:20.831014Z"
    },
    "papermill": {
     "duration": 0.057675,
     "end_time": "2022-06-14T02:46:20.833370",
     "exception": false,
     "start_time": "2022-06-14T02:46:20.775695",
     "status": "completed"
    },
    "scrolled": true,
    "tags": []
   },
   "outputs": [],
   "source": [
    "# for i in range(4):\n",
    "#     X,Y = source.__getitem__(i)\n",
    "#     print(X.size())"
   ]
  },
  {
   "cell_type": "code",
   "execution_count": 10,
   "id": "fda6df09",
   "metadata": {
    "execution": {
     "iopub.execute_input": "2022-06-14T02:46:20.937949Z",
     "iopub.status.busy": "2022-06-14T02:46:20.937407Z",
     "iopub.status.idle": "2022-06-14T02:46:20.940490Z",
     "shell.execute_reply": "2022-06-14T02:46:20.939946Z"
    },
    "papermill": {
     "duration": 0.057133,
     "end_time": "2022-06-14T02:46:20.942233",
     "exception": false,
     "start_time": "2022-06-14T02:46:20.885100",
     "status": "completed"
    },
    "tags": []
   },
   "outputs": [],
   "source": [
    "# X.unsqueeze(0)"
   ]
  },
  {
   "cell_type": "code",
   "execution_count": 11,
   "id": "abdcdc98",
   "metadata": {
    "execution": {
     "iopub.execute_input": "2022-06-14T02:46:21.046073Z",
     "iopub.status.busy": "2022-06-14T02:46:21.045534Z",
     "iopub.status.idle": "2022-06-14T02:46:21.048473Z",
     "shell.execute_reply": "2022-06-14T02:46:21.047934Z"
    },
    "papermill": {
     "duration": 0.056905,
     "end_time": "2022-06-14T02:46:21.050234",
     "exception": false,
     "start_time": "2022-06-14T02:46:20.993329",
     "status": "completed"
    },
    "tags": []
   },
   "outputs": [],
   "source": [
    "# plt.imshow(X[2,:,:], cmap = 'gray')\n",
    "# plt.show()"
   ]
  },
  {
   "cell_type": "markdown",
   "id": "07a95660",
   "metadata": {
    "papermill": {
     "duration": 0.050476,
     "end_time": "2022-06-14T02:46:21.152613",
     "exception": false,
     "start_time": "2022-06-14T02:46:21.102137",
     "status": "completed"
    },
    "tags": []
   },
   "source": [
    "# DATA AS PNG"
   ]
  },
  {
   "cell_type": "code",
   "execution_count": 12,
   "id": "485df1b4",
   "metadata": {
    "execution": {
     "iopub.execute_input": "2022-06-14T02:46:21.256387Z",
     "iopub.status.busy": "2022-06-14T02:46:21.255864Z",
     "iopub.status.idle": "2022-06-14T02:46:21.364039Z",
     "shell.execute_reply": "2022-06-14T02:46:21.363435Z"
    },
    "papermill": {
     "duration": 0.163119,
     "end_time": "2022-06-14T02:46:21.366553",
     "exception": false,
     "start_time": "2022-06-14T02:46:21.203434",
     "status": "completed"
    },
    "tags": []
   },
   "outputs": [
    {
     "data": {
      "text/html": [
       "<div>\n",
       "<style scoped>\n",
       "    .dataframe tbody tr th:only-of-type {\n",
       "        vertical-align: middle;\n",
       "    }\n",
       "\n",
       "    .dataframe tbody tr th {\n",
       "        vertical-align: top;\n",
       "    }\n",
       "\n",
       "    .dataframe thead th {\n",
       "        text-align: right;\n",
       "    }\n",
       "</style>\n",
       "<table border=\"1\" class=\"dataframe\">\n",
       "  <thead>\n",
       "    <tr style=\"text-align: right;\">\n",
       "      <th></th>\n",
       "      <th>SOPInstanceUID</th>\n",
       "      <th>Target</th>\n",
       "      <th>MultiImageType</th>\n",
       "      <th>ImageType</th>\n",
       "      <th>ImageType1</th>\n",
       "      <th>InstanceCreationDate</th>\n",
       "      <th>InstanceCreationTime</th>\n",
       "      <th>SOPClassUID</th>\n",
       "      <th>StudyDate</th>\n",
       "      <th>SeriesDate</th>\n",
       "      <th>...</th>\n",
       "      <th>WindowWidth</th>\n",
       "      <th>ImageType2</th>\n",
       "      <th>KVP</th>\n",
       "      <th>DistanceSourceToDetector</th>\n",
       "      <th>DistanceSourceToPatient</th>\n",
       "      <th>ExposureTime</th>\n",
       "      <th>XRayTubeCurrent</th>\n",
       "      <th>AcquisitionNumber</th>\n",
       "      <th>ImageType3</th>\n",
       "      <th>image_path</th>\n",
       "    </tr>\n",
       "  </thead>\n",
       "  <tbody>\n",
       "    <tr>\n",
       "      <th>0</th>\n",
       "      <td>1.2.826.0.1.3680043.8.498.10025629581362719970...</td>\n",
       "      <td>0</td>\n",
       "      <td>1.0</td>\n",
       "      <td>ORIGINAL</td>\n",
       "      <td>PRIMARY</td>\n",
       "      <td>NaN</td>\n",
       "      <td>NaN</td>\n",
       "      <td>1.2.840.10008.5.1.4.1.1.1</td>\n",
       "      <td>NaN</td>\n",
       "      <td>NaN</td>\n",
       "      <td>...</td>\n",
       "      <td>NaN</td>\n",
       "      <td>NaN</td>\n",
       "      <td>NaN</td>\n",
       "      <td>NaN</td>\n",
       "      <td>NaN</td>\n",
       "      <td>NaN</td>\n",
       "      <td>NaN</td>\n",
       "      <td>NaN</td>\n",
       "      <td>NaN</td>\n",
       "      <td>./images/train/1.2.826.0.1.3680043.8.498.10025...</td>\n",
       "    </tr>\n",
       "    <tr>\n",
       "      <th>1</th>\n",
       "      <td>1.2.826.0.1.3680043.8.498.10036150326276641158...</td>\n",
       "      <td>15</td>\n",
       "      <td>1.0</td>\n",
       "      <td>ORIGINAL</td>\n",
       "      <td>PRIMARY</td>\n",
       "      <td>NaN</td>\n",
       "      <td>NaN</td>\n",
       "      <td>1.2.840.10008.5.1.4.1.1.1</td>\n",
       "      <td>NaN</td>\n",
       "      <td>NaN</td>\n",
       "      <td>...</td>\n",
       "      <td>NaN</td>\n",
       "      <td>NaN</td>\n",
       "      <td>NaN</td>\n",
       "      <td>NaN</td>\n",
       "      <td>NaN</td>\n",
       "      <td>NaN</td>\n",
       "      <td>NaN</td>\n",
       "      <td>NaN</td>\n",
       "      <td>NaN</td>\n",
       "      <td>./images/train/1.2.826.0.1.3680043.8.498.10036...</td>\n",
       "    </tr>\n",
       "    <tr>\n",
       "      <th>2</th>\n",
       "      <td>1.2.826.0.1.3680043.8.498.10038426859954986240...</td>\n",
       "      <td>12</td>\n",
       "      <td>1.0</td>\n",
       "      <td>ORIGINAL</td>\n",
       "      <td>PRIMARY</td>\n",
       "      <td>NaN</td>\n",
       "      <td>NaN</td>\n",
       "      <td>1.2.840.10008.5.1.4.1.1.1</td>\n",
       "      <td>NaN</td>\n",
       "      <td>NaN</td>\n",
       "      <td>...</td>\n",
       "      <td>NaN</td>\n",
       "      <td>NaN</td>\n",
       "      <td>NaN</td>\n",
       "      <td>NaN</td>\n",
       "      <td>NaN</td>\n",
       "      <td>NaN</td>\n",
       "      <td>NaN</td>\n",
       "      <td>NaN</td>\n",
       "      <td>NaN</td>\n",
       "      <td>./images/train/1.2.826.0.1.3680043.8.498.10038...</td>\n",
       "    </tr>\n",
       "    <tr>\n",
       "      <th>3</th>\n",
       "      <td>1.2.826.0.1.3680043.8.498.10050991192143676483...</td>\n",
       "      <td>14</td>\n",
       "      <td>NaN</td>\n",
       "      <td>NaN</td>\n",
       "      <td>NaN</td>\n",
       "      <td>NaN</td>\n",
       "      <td>NaN</td>\n",
       "      <td>1.2.840.10008.5.1.4.1.1.1</td>\n",
       "      <td>NaN</td>\n",
       "      <td>NaN</td>\n",
       "      <td>...</td>\n",
       "      <td>NaN</td>\n",
       "      <td>NaN</td>\n",
       "      <td>NaN</td>\n",
       "      <td>NaN</td>\n",
       "      <td>NaN</td>\n",
       "      <td>NaN</td>\n",
       "      <td>NaN</td>\n",
       "      <td>NaN</td>\n",
       "      <td>NaN</td>\n",
       "      <td>./images/train/1.2.826.0.1.3680043.8.498.10050...</td>\n",
       "    </tr>\n",
       "    <tr>\n",
       "      <th>4</th>\n",
       "      <td>1.2.826.0.1.3680043.8.498.10053309524595490852...</td>\n",
       "      <td>3</td>\n",
       "      <td>1.0</td>\n",
       "      <td>ORIGINAL</td>\n",
       "      <td>PRIMARY</td>\n",
       "      <td>NaN</td>\n",
       "      <td>NaN</td>\n",
       "      <td>1.2.840.10008.5.1.4.1.1.1</td>\n",
       "      <td>NaN</td>\n",
       "      <td>NaN</td>\n",
       "      <td>...</td>\n",
       "      <td>NaN</td>\n",
       "      <td>NaN</td>\n",
       "      <td>NaN</td>\n",
       "      <td>NaN</td>\n",
       "      <td>NaN</td>\n",
       "      <td>NaN</td>\n",
       "      <td>NaN</td>\n",
       "      <td>NaN</td>\n",
       "      <td>NaN</td>\n",
       "      <td>./images/train/1.2.826.0.1.3680043.8.498.10053...</td>\n",
       "    </tr>\n",
       "    <tr>\n",
       "      <th>...</th>\n",
       "      <td>...</td>\n",
       "      <td>...</td>\n",
       "      <td>...</td>\n",
       "      <td>...</td>\n",
       "      <td>...</td>\n",
       "      <td>...</td>\n",
       "      <td>...</td>\n",
       "      <td>...</td>\n",
       "      <td>...</td>\n",
       "      <td>...</td>\n",
       "      <td>...</td>\n",
       "      <td>...</td>\n",
       "      <td>...</td>\n",
       "      <td>...</td>\n",
       "      <td>...</td>\n",
       "      <td>...</td>\n",
       "      <td>...</td>\n",
       "      <td>...</td>\n",
       "      <td>...</td>\n",
       "      <td>...</td>\n",
       "      <td>...</td>\n",
       "    </tr>\n",
       "    <tr>\n",
       "      <th>1733</th>\n",
       "      <td>1.2.826.0.1.3680043.8.498.99711016467406172920...</td>\n",
       "      <td>14</td>\n",
       "      <td>1.0</td>\n",
       "      <td>ORIGINAL</td>\n",
       "      <td>PRIMARY</td>\n",
       "      <td>NaN</td>\n",
       "      <td>NaN</td>\n",
       "      <td>1.2.840.10008.5.1.4.1.1.1</td>\n",
       "      <td>NaN</td>\n",
       "      <td>NaN</td>\n",
       "      <td>...</td>\n",
       "      <td>NaN</td>\n",
       "      <td>NaN</td>\n",
       "      <td>NaN</td>\n",
       "      <td>NaN</td>\n",
       "      <td>NaN</td>\n",
       "      <td>NaN</td>\n",
       "      <td>NaN</td>\n",
       "      <td>NaN</td>\n",
       "      <td>NaN</td>\n",
       "      <td>./images/train/1.2.826.0.1.3680043.8.498.99711...</td>\n",
       "    </tr>\n",
       "    <tr>\n",
       "      <th>1734</th>\n",
       "      <td>1.2.826.0.1.3680043.8.498.99727280485333900933...</td>\n",
       "      <td>11</td>\n",
       "      <td>1.0</td>\n",
       "      <td>ORIGINAL</td>\n",
       "      <td>PRIMARY</td>\n",
       "      <td>NaN</td>\n",
       "      <td>NaN</td>\n",
       "      <td>1.2.840.10008.5.1.4.1.1.1</td>\n",
       "      <td>NaN</td>\n",
       "      <td>NaN</td>\n",
       "      <td>...</td>\n",
       "      <td>NaN</td>\n",
       "      <td>NaN</td>\n",
       "      <td>NaN</td>\n",
       "      <td>NaN</td>\n",
       "      <td>NaN</td>\n",
       "      <td>NaN</td>\n",
       "      <td>NaN</td>\n",
       "      <td>NaN</td>\n",
       "      <td>NaN</td>\n",
       "      <td>./images/train/1.2.826.0.1.3680043.8.498.99727...</td>\n",
       "    </tr>\n",
       "    <tr>\n",
       "      <th>1735</th>\n",
       "      <td>1.2.826.0.1.3680043.8.498.99935008698914755885...</td>\n",
       "      <td>3</td>\n",
       "      <td>1.0</td>\n",
       "      <td>ORIGINAL</td>\n",
       "      <td>PRIMARY</td>\n",
       "      <td>NaN</td>\n",
       "      <td>NaN</td>\n",
       "      <td>1.2.840.10008.5.1.4.1.1.1</td>\n",
       "      <td>NaN</td>\n",
       "      <td>NaN</td>\n",
       "      <td>...</td>\n",
       "      <td>NaN</td>\n",
       "      <td>NaN</td>\n",
       "      <td>NaN</td>\n",
       "      <td>NaN</td>\n",
       "      <td>NaN</td>\n",
       "      <td>NaN</td>\n",
       "      <td>NaN</td>\n",
       "      <td>NaN</td>\n",
       "      <td>NaN</td>\n",
       "      <td>./images/train/1.2.826.0.1.3680043.8.498.99935...</td>\n",
       "    </tr>\n",
       "    <tr>\n",
       "      <th>1736</th>\n",
       "      <td>1.2.826.0.1.3680043.8.498.99969671777553755311...</td>\n",
       "      <td>2</td>\n",
       "      <td>1.0</td>\n",
       "      <td>ORIGINAL</td>\n",
       "      <td>PRIMARY</td>\n",
       "      <td>NaN</td>\n",
       "      <td>NaN</td>\n",
       "      <td>1.2.840.10008.5.1.4.1.1.1</td>\n",
       "      <td>NaN</td>\n",
       "      <td>NaN</td>\n",
       "      <td>...</td>\n",
       "      <td>NaN</td>\n",
       "      <td>NaN</td>\n",
       "      <td>NaN</td>\n",
       "      <td>NaN</td>\n",
       "      <td>NaN</td>\n",
       "      <td>NaN</td>\n",
       "      <td>NaN</td>\n",
       "      <td>NaN</td>\n",
       "      <td>NaN</td>\n",
       "      <td>./images/train/1.2.826.0.1.3680043.8.498.99969...</td>\n",
       "    </tr>\n",
       "    <tr>\n",
       "      <th>1737</th>\n",
       "      <td>1.2.826.0.1.3680043.8.498.99979421603039894766...</td>\n",
       "      <td>2</td>\n",
       "      <td>1.0</td>\n",
       "      <td>ORIGINAL</td>\n",
       "      <td>PRIMARY</td>\n",
       "      <td>NaN</td>\n",
       "      <td>NaN</td>\n",
       "      <td>1.2.840.10008.5.1.4.1.1.1</td>\n",
       "      <td>NaN</td>\n",
       "      <td>NaN</td>\n",
       "      <td>...</td>\n",
       "      <td>NaN</td>\n",
       "      <td>NaN</td>\n",
       "      <td>NaN</td>\n",
       "      <td>NaN</td>\n",
       "      <td>NaN</td>\n",
       "      <td>NaN</td>\n",
       "      <td>NaN</td>\n",
       "      <td>NaN</td>\n",
       "      <td>NaN</td>\n",
       "      <td>./images/train/1.2.826.0.1.3680043.8.498.99979...</td>\n",
       "    </tr>\n",
       "  </tbody>\n",
       "</table>\n",
       "<p>1738 rows × 65 columns</p>\n",
       "</div>"
      ],
      "text/plain": [
       "                                         SOPInstanceUID Target  \\\n",
       "0     1.2.826.0.1.3680043.8.498.10025629581362719970...     0    \n",
       "1     1.2.826.0.1.3680043.8.498.10036150326276641158...    15    \n",
       "2     1.2.826.0.1.3680043.8.498.10038426859954986240...    12    \n",
       "3     1.2.826.0.1.3680043.8.498.10050991192143676483...    14    \n",
       "4     1.2.826.0.1.3680043.8.498.10053309524595490852...     3    \n",
       "...                                                 ...    ...   \n",
       "1733  1.2.826.0.1.3680043.8.498.99711016467406172920...    14    \n",
       "1734  1.2.826.0.1.3680043.8.498.99727280485333900933...    11    \n",
       "1735  1.2.826.0.1.3680043.8.498.99935008698914755885...     3    \n",
       "1736  1.2.826.0.1.3680043.8.498.99969671777553755311...     2    \n",
       "1737  1.2.826.0.1.3680043.8.498.99979421603039894766...     2    \n",
       "\n",
       "      MultiImageType ImageType ImageType1  InstanceCreationDate  \\\n",
       "0                1.0  ORIGINAL    PRIMARY                   NaN   \n",
       "1                1.0  ORIGINAL    PRIMARY                   NaN   \n",
       "2                1.0  ORIGINAL    PRIMARY                   NaN   \n",
       "3                NaN       NaN        NaN                   NaN   \n",
       "4                1.0  ORIGINAL    PRIMARY                   NaN   \n",
       "...              ...       ...        ...                   ...   \n",
       "1733             1.0  ORIGINAL    PRIMARY                   NaN   \n",
       "1734             1.0  ORIGINAL    PRIMARY                   NaN   \n",
       "1735             1.0  ORIGINAL    PRIMARY                   NaN   \n",
       "1736             1.0  ORIGINAL    PRIMARY                   NaN   \n",
       "1737             1.0  ORIGINAL    PRIMARY                   NaN   \n",
       "\n",
       "      InstanceCreationTime                SOPClassUID  StudyDate  SeriesDate  \\\n",
       "0                      NaN  1.2.840.10008.5.1.4.1.1.1        NaN         NaN   \n",
       "1                      NaN  1.2.840.10008.5.1.4.1.1.1        NaN         NaN   \n",
       "2                      NaN  1.2.840.10008.5.1.4.1.1.1        NaN         NaN   \n",
       "3                      NaN  1.2.840.10008.5.1.4.1.1.1        NaN         NaN   \n",
       "4                      NaN  1.2.840.10008.5.1.4.1.1.1        NaN         NaN   \n",
       "...                    ...                        ...        ...         ...   \n",
       "1733                   NaN  1.2.840.10008.5.1.4.1.1.1        NaN         NaN   \n",
       "1734                   NaN  1.2.840.10008.5.1.4.1.1.1        NaN         NaN   \n",
       "1735                   NaN  1.2.840.10008.5.1.4.1.1.1        NaN         NaN   \n",
       "1736                   NaN  1.2.840.10008.5.1.4.1.1.1        NaN         NaN   \n",
       "1737                   NaN  1.2.840.10008.5.1.4.1.1.1        NaN         NaN   \n",
       "\n",
       "      ...  WindowWidth  ImageType2  KVP  DistanceSourceToDetector  \\\n",
       "0     ...          NaN         NaN  NaN                       NaN   \n",
       "1     ...          NaN         NaN  NaN                       NaN   \n",
       "2     ...          NaN         NaN  NaN                       NaN   \n",
       "3     ...          NaN         NaN  NaN                       NaN   \n",
       "4     ...          NaN         NaN  NaN                       NaN   \n",
       "...   ...          ...         ...  ...                       ...   \n",
       "1733  ...          NaN         NaN  NaN                       NaN   \n",
       "1734  ...          NaN         NaN  NaN                       NaN   \n",
       "1735  ...          NaN         NaN  NaN                       NaN   \n",
       "1736  ...          NaN         NaN  NaN                       NaN   \n",
       "1737  ...          NaN         NaN  NaN                       NaN   \n",
       "\n",
       "     DistanceSourceToPatient  ExposureTime  XRayTubeCurrent  \\\n",
       "0                        NaN           NaN              NaN   \n",
       "1                        NaN           NaN              NaN   \n",
       "2                        NaN           NaN              NaN   \n",
       "3                        NaN           NaN              NaN   \n",
       "4                        NaN           NaN              NaN   \n",
       "...                      ...           ...              ...   \n",
       "1733                     NaN           NaN              NaN   \n",
       "1734                     NaN           NaN              NaN   \n",
       "1735                     NaN           NaN              NaN   \n",
       "1736                     NaN           NaN              NaN   \n",
       "1737                     NaN           NaN              NaN   \n",
       "\n",
       "      AcquisitionNumber ImageType3  \\\n",
       "0                   NaN        NaN   \n",
       "1                   NaN        NaN   \n",
       "2                   NaN        NaN   \n",
       "3                   NaN        NaN   \n",
       "4                   NaN        NaN   \n",
       "...                 ...        ...   \n",
       "1733                NaN        NaN   \n",
       "1734                NaN        NaN   \n",
       "1735                NaN        NaN   \n",
       "1736                NaN        NaN   \n",
       "1737                NaN        NaN   \n",
       "\n",
       "                                             image_path  \n",
       "0     ./images/train/1.2.826.0.1.3680043.8.498.10025...  \n",
       "1     ./images/train/1.2.826.0.1.3680043.8.498.10036...  \n",
       "2     ./images/train/1.2.826.0.1.3680043.8.498.10038...  \n",
       "3     ./images/train/1.2.826.0.1.3680043.8.498.10050...  \n",
       "4     ./images/train/1.2.826.0.1.3680043.8.498.10053...  \n",
       "...                                                 ...  \n",
       "1733  ./images/train/1.2.826.0.1.3680043.8.498.99711...  \n",
       "1734  ./images/train/1.2.826.0.1.3680043.8.498.99727...  \n",
       "1735  ./images/train/1.2.826.0.1.3680043.8.498.99935...  \n",
       "1736  ./images/train/1.2.826.0.1.3680043.8.498.99969...  \n",
       "1737  ./images/train/1.2.826.0.1.3680043.8.498.99979...  \n",
       "\n",
       "[1738 rows x 65 columns]"
      ]
     },
     "execution_count": 12,
     "metadata": {},
     "output_type": "execute_result"
    }
   ],
   "source": [
    "pd.read_csv('../input/xray-body-images-in-png-unifesp-competion/train_df.csv')"
   ]
  },
  {
   "cell_type": "code",
   "execution_count": 13,
   "id": "0ccc84d6",
   "metadata": {
    "execution": {
     "iopub.execute_input": "2022-06-14T02:46:21.473805Z",
     "iopub.status.busy": "2022-06-14T02:46:21.473309Z",
     "iopub.status.idle": "2022-06-14T02:46:21.514985Z",
     "shell.execute_reply": "2022-06-14T02:46:21.514178Z"
    },
    "papermill": {
     "duration": 0.097627,
     "end_time": "2022-06-14T02:46:21.517115",
     "exception": false,
     "start_time": "2022-06-14T02:46:21.419488",
     "status": "completed"
    },
    "tags": []
   },
   "outputs": [
    {
     "data": {
      "text/plain": [
       "Array([[35., 36., 32., ..., 33., 34., 37.],\n",
       "       [32., 33., 31., ..., 33., 32., 36.],\n",
       "       [34., 34., 34., ..., 34., 34., 36.],\n",
       "       ...,\n",
       "       [34., 31., 33., ..., 32., 30., 35.],\n",
       "       [33., 31., 34., ..., 32., 32., 35.],\n",
       "       [35., 32., 34., ..., 34., 32., 34.]])"
      ]
     },
     "execution_count": 13,
     "metadata": {},
     "output_type": "execute_result"
    }
   ],
   "source": [
    "imageio.imread('../input/xray-body-images-in-png-unifesp-competion/image_png.png').astype(float)"
   ]
  },
  {
   "cell_type": "code",
   "execution_count": 14,
   "id": "990b40a8",
   "metadata": {
    "execution": {
     "iopub.execute_input": "2022-06-14T02:46:21.624937Z",
     "iopub.status.busy": "2022-06-14T02:46:21.624642Z",
     "iopub.status.idle": "2022-06-14T02:46:21.633348Z",
     "shell.execute_reply": "2022-06-14T02:46:21.632300Z"
    },
    "papermill": {
     "duration": 0.065099,
     "end_time": "2022-06-14T02:46:21.635304",
     "exception": false,
     "start_time": "2022-06-14T02:46:21.570205",
     "status": "completed"
    },
    "tags": []
   },
   "outputs": [],
   "source": [
    "def pngtag2table(folder):\n",
    "    \"\"\"\n",
    "    Create a Pandas DataFrame with the <list_of_tags> DICOM tags\n",
    "    from the png files in <folder>\n",
    "    \n",
    "    Parameters:\n",
    "        folder (str): path for the folder to be recursively walked through looking for DICOM files\n",
    "        \n",
    "    Returns:\n",
    "        df (DataFrame): table of DICOM tags from the files in <folder>\n",
    "    \"\"\"\n",
    "    \n",
    "    IDlist = []\n",
    "    filelist = []\n",
    "    print(\"Listing files...\")\n",
    "    start = time.time()\n",
    "    for root, dirs, files in os.walk(folder, topdown=False):\n",
    "        for name in files:\n",
    "            if '-c.png' in name:\n",
    "                filelist.append(os.path.join(root,name)) #Get list of files that are present in the folder\n",
    "                IDlist.append(name.split('-c.png')[0])\n",
    "    \n",
    "    df = pd.DataFrame({\n",
    "        'Filename' : filelist,\n",
    "         'SOPInstanceUID': IDlist})\n",
    "    \n",
    "    print(\"Finished.\")\n",
    "    return df\n",
    "    "
   ]
  },
  {
   "cell_type": "code",
   "execution_count": 15,
   "id": "ed35652d",
   "metadata": {
    "execution": {
     "iopub.execute_input": "2022-06-14T02:46:21.743112Z",
     "iopub.status.busy": "2022-06-14T02:46:21.742813Z",
     "iopub.status.idle": "2022-06-14T02:46:21.746494Z",
     "shell.execute_reply": "2022-06-14T02:46:21.745892Z"
    },
    "papermill": {
     "duration": 0.059743,
     "end_time": "2022-06-14T02:46:21.748331",
     "exception": false,
     "start_time": "2022-06-14T02:46:21.688588",
     "status": "completed"
    },
    "tags": []
   },
   "outputs": [],
   "source": [
    "# image_prep('../input/xray-body-images-in-png-unifesp-competion/images/train/','../input/xray-body-images-in-png-unifesp-competion/train_df.csv').head(10)"
   ]
  },
  {
   "cell_type": "code",
   "execution_count": 16,
   "id": "c42d5bd8",
   "metadata": {
    "execution": {
     "iopub.execute_input": "2022-06-14T02:46:21.856416Z",
     "iopub.status.busy": "2022-06-14T02:46:21.855997Z",
     "iopub.status.idle": "2022-06-14T02:46:21.871577Z",
     "shell.execute_reply": "2022-06-14T02:46:21.870921Z"
    },
    "papermill": {
     "duration": 0.072481,
     "end_time": "2022-06-14T02:46:21.873911",
     "exception": false,
     "start_time": "2022-06-14T02:46:21.801430",
     "status": "completed"
    },
    "tags": []
   },
   "outputs": [],
   "source": [
    "def fill_targets(row):\n",
    "    bodyparts = {\n",
    "        0 :'Abdomen',\n",
    "        1 :'Ankle',\n",
    "        2 :'Cervical Spine',\n",
    "        3 :'Chest',\n",
    "        4 :'Clavicles',\n",
    "        5 :'Elbow',\n",
    "        6 :'Feet',\n",
    "        7 :'Finger',\n",
    "        8 :'Forearm',\n",
    "        9 :'Hand',\n",
    "        10 :'Hip',\n",
    "        11 :'Knee',\n",
    "        12 :'Lower Leg',\n",
    "        13 :'Lumbar Spine',\n",
    "        14 :'Others',\n",
    "        15 :'Pelvis',\n",
    "        16 :'Shoulder',\n",
    "        17 :'Sinus',\n",
    "        18 :'Skull',\n",
    "        19 :'Thigh' ,\n",
    "        20 :'Thoracic Spine',\n",
    "        21 :'Wrist',\n",
    "    }\n",
    "    \n",
    "    row.Target = np.array(row.Target.split(\" \"))\n",
    "    for num in row.Target:\n",
    "        if num != '':\n",
    "            name = bodyparts[int(num)]\n",
    "            row.loc[name]=1\n",
    "    return row\n",
    "\n",
    "\n",
    "def image_prep(in_dir, lab_f=False):\n",
    "    \"\"\"\n",
    "    Function to prepare the pandas table for use in the DataLoader\n",
    "    \n",
    "    inputs:\n",
    "        in_dir [path]: location of the input directory containing your data\n",
    "        lab_f [path]: location of the csv containing the training labels, set as False if using with testing data\n",
    "        \n",
    "    output:\n",
    "        img_tab [DataFrame]: Relevant information about the dataset being used\n",
    "    \"\"\"\n",
    "    \n",
    "    # Key for labels\n",
    "    bodyparts = {\n",
    "        0 :'Abdomen',\n",
    "        1 :'Ankle',\n",
    "        2 :'Cervical Spine',\n",
    "        3 :'Chest',\n",
    "        4 :'Clavicles',\n",
    "        5 :'Elbow',\n",
    "        6 :'Feet',\n",
    "        7 :'Finger',\n",
    "        8 :'Forearm',\n",
    "        9 :'Hand',\n",
    "        10 :'Hip',\n",
    "        11 :'Knee',\n",
    "        12 :'Lower Leg',\n",
    "        13 :'Lumbar Spine',\n",
    "        14 :'Others',\n",
    "        15 :'Pelvis',\n",
    "        16 :'Shoulder',\n",
    "        17 :'Sinus',\n",
    "        18 :'Skull',\n",
    "        19 :'Thigh' ,\n",
    "        20 :'Thoracic Spine',\n",
    "        21 :'Wrist',\n",
    "    }\n",
    "\n",
    "    reverse_train_labels = dict((v,k) for k,v in bodyparts.items())\n",
    "\n",
    "    dicom_tags =  pngtag2table(in_dir)\n",
    "    \n",
    "    # Load in the training labels if present:\n",
    "    if lab_f:\n",
    "        lab_df = pd.read_csv(lab_f)[['SOPInstanceUID','Target']]\n",
    "        for key in bodyparts.keys():\n",
    "            lab_df[bodyparts[key]] = 0\n",
    "            \n",
    "        dicom_labels = lab_df.apply(fill_targets, axis=1)\n",
    "\n",
    "        img_df = dicom_tags.merge(dicom_labels, on = 'SOPInstanceUID')\n",
    "    else:\n",
    "        img_df = dicom_tags\n",
    "    \n",
    "    return img_df"
   ]
  },
  {
   "cell_type": "code",
   "execution_count": 17,
   "id": "137120e7",
   "metadata": {
    "execution": {
     "iopub.execute_input": "2022-06-14T02:46:21.981648Z",
     "iopub.status.busy": "2022-06-14T02:46:21.981395Z",
     "iopub.status.idle": "2022-06-14T02:46:21.989686Z",
     "shell.execute_reply": "2022-06-14T02:46:21.988932Z"
    },
    "papermill": {
     "duration": 0.06532,
     "end_time": "2022-06-14T02:46:21.992531",
     "exception": false,
     "start_time": "2022-06-14T02:46:21.927211",
     "status": "completed"
    },
    "tags": []
   },
   "outputs": [],
   "source": [
    "## IMAGE DATASET FOR PNG DATA\n",
    "\n",
    "class img_dataset(torch.utils.data.Dataset): #torch....Dataset characterizes a dataset for Pytorch\n",
    "    def __init__(self, in_dir, lab_f):\n",
    "        # Make function incorporating dcmtag2table and the steps required to organize data\n",
    "        self.data = image_prep(in_dir, lab_f)\n",
    "        \n",
    "        self.preprocess = transforms.Compose([\n",
    "            transforms.Resize(256),\n",
    "            transforms.CenterCrop(224),\n",
    "            #transforms.ToTensor(),\n",
    "            transforms.Normalize(mean=[0.485, 0.456, 0.406], std=[0.229,0.234,0.225]),\n",
    "        ])\n",
    "            \n",
    "    def __len__(self):\n",
    "        return len(self.data.Filename)\n",
    "    \n",
    "    \n",
    "    def __getitem__(self, idx):\n",
    "        # 'Generates one sample of data'\n",
    "        \n",
    "        # This is where I get a filename and load it using: self.data.Filename[idx]\n",
    "        # Look at: https://pytorch.org/tutorials/beginner/basics/data_tutorial.html\n",
    "        f_path = self.data.Filename.iloc[idx]\n",
    "        \n",
    "        img = imageio.imread(f_path).astype('double')\n",
    "        \n",
    "        # randomize whether it is using Monochrome1 or Monochrome2\n",
    "        if np.random.choice([0,1]):\n",
    "            img = 255-img\n",
    "        \n",
    "        # TODO: Add some sort of normalization step aside from this?\n",
    "        img = img/img.max()\n",
    "        \n",
    "        img = torch.from_numpy(img)\n",
    "        #print(img.repeat(3,1,1).size())\n",
    "        X = self.preprocess(img.repeat(3,1,1))\n",
    "        # For some reason, ResNet only takes doubles\n",
    "        X = X.double()\n",
    "        \n",
    "        # Get the label information\n",
    "        Y = torch.tensor(self.data.iloc[idx,3:])\n",
    "        Y = Y.double()\n",
    "        \n",
    "        # returns <input> and <target>, so the image and the vector of classification\n",
    "        \n",
    "        return X, Y"
   ]
  },
  {
   "cell_type": "code",
   "execution_count": 18,
   "id": "092e24a7",
   "metadata": {
    "execution": {
     "iopub.execute_input": "2022-06-14T02:46:22.100636Z",
     "iopub.status.busy": "2022-06-14T02:46:22.100365Z",
     "iopub.status.idle": "2022-06-14T02:46:22.103711Z",
     "shell.execute_reply": "2022-06-14T02:46:22.103178Z"
    },
    "papermill": {
     "duration": 0.059168,
     "end_time": "2022-06-14T02:46:22.105430",
     "exception": false,
     "start_time": "2022-06-14T02:46:22.046262",
     "status": "completed"
    },
    "tags": []
   },
   "outputs": [],
   "source": [
    "from torch.utils.data import DataLoader\n",
    "\n",
    "# train_dataloader = DataLoader(\n",
    "#     img_dataset('../input/xray-body-images-in-png-unifesp-competion/images/train/','../input/xray-body-images-in-png-unifesp-competion/train_df.csv'),\n",
    "#     batch_size = 64,\n",
    "#     shuffle = True\n",
    "# )"
   ]
  },
  {
   "cell_type": "markdown",
   "id": "44e76657",
   "metadata": {
    "papermill": {
     "duration": 0.052745,
     "end_time": "2022-06-14T02:46:22.211148",
     "exception": false,
     "start_time": "2022-06-14T02:46:22.158403",
     "status": "completed"
    },
    "tags": []
   },
   "source": [
    "# Define the model\n",
    "Try a few different network models in order to figure out what works best"
   ]
  },
  {
   "cell_type": "code",
   "execution_count": 19,
   "id": "b43c4c2f",
   "metadata": {
    "execution": {
     "iopub.execute_input": "2022-06-14T02:46:22.319966Z",
     "iopub.status.busy": "2022-06-14T02:46:22.318966Z",
     "iopub.status.idle": "2022-06-14T02:46:27.267055Z",
     "shell.execute_reply": "2022-06-14T02:46:27.266306Z"
    },
    "papermill": {
     "duration": 5.004644,
     "end_time": "2022-06-14T02:46:27.269107",
     "exception": false,
     "start_time": "2022-06-14T02:46:22.264463",
     "status": "completed"
    },
    "tags": []
   },
   "outputs": [
    {
     "name": "stderr",
     "output_type": "stream",
     "text": [
      "Downloading: \"https://download.pytorch.org/models/resnext50_32x4d-7cdf4587.pth\" to /root/.cache/torch/hub/checkpoints/resnext50_32x4d-7cdf4587.pth\n"
     ]
    },
    {
     "data": {
      "application/vnd.jupyter.widget-view+json": {
       "model_id": "98cebd5ba26a40c8bde88b736d389adf",
       "version_major": 2,
       "version_minor": 0
      },
      "text/plain": [
       "  0%|          | 0.00/95.8M [00:00<?, ?B/s]"
      ]
     },
     "metadata": {},
     "output_type": "display_data"
    }
   ],
   "source": [
    "# Make simple ResNet\n",
    "\n",
    "class Model_v1(torch.nn.Module):\n",
    "    def __init__(self):\n",
    "        super().__init__()\n",
    "        # Define the different layers\n",
    "        resnet = models.resnext50_32x4d(pretrained=True)\n",
    "        resnet.fc = torch.nn.Sequential(\n",
    "            torch.nn.Dropout(p=0.2),\n",
    "            torch.nn.Linear(in_features=resnet.fc.in_features, out_features=22)\n",
    "        )\n",
    "        self.base_model = resnet\n",
    "        self.sigm = torch.nn.Sigmoid()\n",
    "    \n",
    "    def forward(self, x):\n",
    "        # Forward pass information\n",
    "        return self.sigm(self.base_model(x))\n",
    "\n",
    "# For some reason I need to set the weights of ResNet to double, even though they are originally float32\n",
    "model = Model_v1().double()"
   ]
  },
  {
   "cell_type": "code",
   "execution_count": 20,
   "id": "9e8528c9",
   "metadata": {
    "execution": {
     "iopub.execute_input": "2022-06-14T02:46:27.340914Z",
     "iopub.status.busy": "2022-06-14T02:46:27.340641Z",
     "iopub.status.idle": "2022-06-14T02:46:27.344570Z",
     "shell.execute_reply": "2022-06-14T02:46:27.343828Z"
    },
    "papermill": {
     "duration": 0.041374,
     "end_time": "2022-06-14T02:46:27.346333",
     "exception": false,
     "start_time": "2022-06-14T02:46:27.304959",
     "status": "completed"
    },
    "tags": []
   },
   "outputs": [],
   "source": [
    "# Make custom model:\n",
    "# Less time consuming than the ResNet\n",
    "\n",
    "# class Model_v2(torch.nn.Module):\n",
    "#     def __init__(self):\n",
    "#         super().__init__()\n",
    "#         pass\n",
    "    \n",
    "    \n",
    "#     def forward(self, x):\n",
    "#         # Returns a vector containing either 0 or 1 for each image type\n",
    "#         return self.sigm(self.base_model(x))\n",
    "        \n",
    "        "
   ]
  },
  {
   "cell_type": "code",
   "execution_count": 21,
   "id": "ddd1ad21",
   "metadata": {
    "execution": {
     "iopub.execute_input": "2022-06-14T02:46:27.456414Z",
     "iopub.status.busy": "2022-06-14T02:46:27.456150Z",
     "iopub.status.idle": "2022-06-14T02:46:27.459005Z",
     "shell.execute_reply": "2022-06-14T02:46:27.458423Z"
    },
    "papermill": {
     "duration": 0.060252,
     "end_time": "2022-06-14T02:46:27.460710",
     "exception": false,
     "start_time": "2022-06-14T02:46:27.400458",
     "status": "completed"
    },
    "tags": []
   },
   "outputs": [],
   "source": [
    "# for i in model.parameters():\n",
    "#     print(i.dtype)"
   ]
  },
  {
   "cell_type": "code",
   "execution_count": 22,
   "id": "f826a678",
   "metadata": {
    "execution": {
     "iopub.execute_input": "2022-06-14T02:46:27.570869Z",
     "iopub.status.busy": "2022-06-14T02:46:27.570582Z",
     "iopub.status.idle": "2022-06-14T02:46:27.573787Z",
     "shell.execute_reply": "2022-06-14T02:46:27.573089Z"
    },
    "papermill": {
     "duration": 0.060257,
     "end_time": "2022-06-14T02:46:27.575537",
     "exception": false,
     "start_time": "2022-06-14T02:46:27.515280",
     "status": "completed"
    },
    "tags": []
   },
   "outputs": [],
   "source": [
    "# image, label = [ x[0] for x in iter(train_dataloader).next() ]\n",
    "# image.double().dtype"
   ]
  },
  {
   "cell_type": "markdown",
   "id": "276472dc",
   "metadata": {
    "papermill": {
     "duration": 0.053881,
     "end_time": "2022-06-14T02:46:27.683693",
     "exception": false,
     "start_time": "2022-06-14T02:46:27.629812",
     "status": "completed"
    },
    "tags": []
   },
   "source": [
    "# Define the optimizer"
   ]
  },
  {
   "cell_type": "code",
   "execution_count": 23,
   "id": "6e8c1a82",
   "metadata": {
    "execution": {
     "iopub.execute_input": "2022-06-14T02:46:27.793353Z",
     "iopub.status.busy": "2022-06-14T02:46:27.793045Z",
     "iopub.status.idle": "2022-06-14T02:46:27.799098Z",
     "shell.execute_reply": "2022-06-14T02:46:27.798347Z"
    },
    "papermill": {
     "duration": 0.063484,
     "end_time": "2022-06-14T02:46:27.800968",
     "exception": false,
     "start_time": "2022-06-14T02:46:27.737484",
     "status": "completed"
    },
    "tags": []
   },
   "outputs": [],
   "source": [
    "criterion = torch.nn.BCELoss()\n",
    "\n",
    "optimizer = torch.optim.Adam(model.parameters(), lr=1e-3)"
   ]
  },
  {
   "cell_type": "markdown",
   "id": "f930dedd",
   "metadata": {
    "papermill": {
     "duration": 0.053886,
     "end_time": "2022-06-14T02:46:27.908965",
     "exception": false,
     "start_time": "2022-06-14T02:46:27.855079",
     "status": "completed"
    },
    "tags": []
   },
   "source": [
    "# Performance metrics"
   ]
  },
  {
   "cell_type": "code",
   "execution_count": 24,
   "id": "8e3289ba",
   "metadata": {
    "execution": {
     "iopub.execute_input": "2022-06-14T02:46:28.018176Z",
     "iopub.status.busy": "2022-06-14T02:46:28.017921Z",
     "iopub.status.idle": "2022-06-14T02:46:29.124434Z",
     "shell.execute_reply": "2022-06-14T02:46:29.123825Z"
    },
    "papermill": {
     "duration": 1.163636,
     "end_time": "2022-06-14T02:46:29.126678",
     "exception": false,
     "start_time": "2022-06-14T02:46:27.963042",
     "status": "completed"
    },
    "tags": []
   },
   "outputs": [],
   "source": [
    "from sklearn.metrics import precision_score, recall_score, f1_score\n",
    "\n",
    "def calculate_metrics(pred, target, threshold=0.5):\n",
    "    pred = np.array(pred > threshold, dtype=float)\n",
    "    return {'micro/precision': precision_score(y_true=target, y_pred=pred, average='micro'),\n",
    "            'micro/recall': recall_score(y_true=target, y_pred=pred, average='micro'),\n",
    "            'micro/f1': f1_score(y_true=target, y_pred=pred, average='micro'),\n",
    "            'macro/precision': precision_score(y_true=target, y_pred=pred, average='macro'),\n",
    "            'macro/recall': recall_score(y_true=target, y_pred=pred, average='macro'),\n",
    "            'macro/f1': f1_score(y_true=target, y_pred=pred, average='macro'),\n",
    "            'samples/precision': precision_score(y_true=target, y_pred=pred, average='samples'),\n",
    "            'samples/recall': recall_score(y_true=target, y_pred=pred, average='samples'),\n",
    "            'samples/f1': f1_score(y_true=target, y_pred=pred, average='samples'),\n",
    "            }"
   ]
  },
  {
   "cell_type": "markdown",
   "id": "6e95e675",
   "metadata": {
    "papermill": {
     "duration": 0.05372,
     "end_time": "2022-06-14T02:46:29.234228",
     "exception": false,
     "start_time": "2022-06-14T02:46:29.180508",
     "status": "completed"
    },
    "tags": []
   },
   "source": [
    "# Train the Network"
   ]
  },
  {
   "cell_type": "code",
   "execution_count": 25,
   "id": "44415c76",
   "metadata": {
    "execution": {
     "iopub.execute_input": "2022-06-14T02:46:29.344119Z",
     "iopub.status.busy": "2022-06-14T02:46:29.343700Z",
     "iopub.status.idle": "2022-06-14T02:46:30.698566Z",
     "shell.execute_reply": "2022-06-14T02:46:30.697491Z"
    },
    "papermill": {
     "duration": 1.412388,
     "end_time": "2022-06-14T02:46:30.700682",
     "exception": false,
     "start_time": "2022-06-14T02:46:29.288294",
     "status": "completed"
    },
    "tags": []
   },
   "outputs": [
    {
     "name": "stdout",
     "output_type": "stream",
     "text": [
      "Listing files...\n",
      "Finished.\n"
     ]
    }
   ],
   "source": [
    "# Split training data into training and validating subsets\n",
    "# full_dataset = img_dataset('../input/xray-body-images-in-png-unifesp-competion/images/train/','../input/xray-body-images-in-png-unifesp-competion/train_df.csv')\n",
    "# train_size = int(0.9 * len(full_dataset))\n",
    "# valid_size = len(full_dataset) - train_size\n",
    "# train_dataset, valid_dataset = torch.utils.data.random_split(full_dataset, [train_size, valid_size])\n",
    "\n",
    "train_dataloader = DataLoader(\n",
    "    img_dataset('../input/xray-body-images-in-png-unifesp-competion/images/train/','../input/xray-body-images-in-png-unifesp-competion/train_df.csv'),\n",
    "    batch_size = 60,\n",
    "    shuffle = True\n",
    ")\n",
    "\n",
    "# valid_dataloader = DataLoader(\n",
    "#     valid_dataset,\n",
    "#     batch_size = 30,\n",
    "#     shuffle = True\n",
    "# )"
   ]
  },
  {
   "cell_type": "code",
   "execution_count": 26,
   "id": "fa2376be",
   "metadata": {
    "execution": {
     "iopub.execute_input": "2022-06-14T02:46:30.774439Z",
     "iopub.status.busy": "2022-06-14T02:46:30.773993Z",
     "iopub.status.idle": "2022-06-14T10:03:59.865821Z",
     "shell.execute_reply": "2022-06-14T10:03:59.864216Z"
    },
    "papermill": {
     "duration": 26249.372814,
     "end_time": "2022-06-14T10:04:00.109569",
     "exception": false,
     "start_time": "2022-06-14T02:46:30.736755",
     "status": "completed"
    },
    "scrolled": true,
    "tags": []
   },
   "outputs": [
    {
     "name": "stderr",
     "output_type": "stream",
     "text": [
      "100%|██████████| 29/29 [21:11<00:00, 43.85s/it]\n"
     ]
    },
    {
     "name": "stdout",
     "output_type": "stream",
     "text": [
      "epoch: 0 iter:  0 train: loss:0.106\n"
     ]
    },
    {
     "name": "stderr",
     "output_type": "stream",
     "text": [
      "100%|██████████| 29/29 [20:54<00:00, 43.25s/it]\n"
     ]
    },
    {
     "name": "stdout",
     "output_type": "stream",
     "text": [
      "epoch: 1 iter:  0 train: loss:0.047\n"
     ]
    },
    {
     "name": "stderr",
     "output_type": "stream",
     "text": [
      "100%|██████████| 29/29 [20:46<00:00, 42.98s/it]\n"
     ]
    },
    {
     "name": "stdout",
     "output_type": "stream",
     "text": [
      "epoch: 2 iter:  0 train: loss:0.039\n"
     ]
    },
    {
     "name": "stderr",
     "output_type": "stream",
     "text": [
      "100%|██████████| 29/29 [20:49<00:00, 43.10s/it]\n"
     ]
    },
    {
     "name": "stdout",
     "output_type": "stream",
     "text": [
      "epoch: 3 iter:  0 train: loss:0.032\n"
     ]
    },
    {
     "name": "stderr",
     "output_type": "stream",
     "text": [
      "100%|██████████| 29/29 [20:41<00:00, 42.80s/it]\n"
     ]
    },
    {
     "name": "stdout",
     "output_type": "stream",
     "text": [
      "epoch: 4 iter:  0 train: loss:0.027\n"
     ]
    },
    {
     "name": "stderr",
     "output_type": "stream",
     "text": [
      "100%|██████████| 29/29 [20:47<00:00, 43.02s/it]\n"
     ]
    },
    {
     "name": "stdout",
     "output_type": "stream",
     "text": [
      "epoch: 5 iter:  0 train: loss:0.025\n"
     ]
    },
    {
     "name": "stderr",
     "output_type": "stream",
     "text": [
      "100%|██████████| 29/29 [20:48<00:00, 43.04s/it]\n"
     ]
    },
    {
     "name": "stdout",
     "output_type": "stream",
     "text": [
      "epoch: 6 iter:  0 train: loss:0.020\n"
     ]
    },
    {
     "name": "stderr",
     "output_type": "stream",
     "text": [
      "100%|██████████| 29/29 [20:57<00:00, 43.38s/it]\n"
     ]
    },
    {
     "name": "stdout",
     "output_type": "stream",
     "text": [
      "epoch: 7 iter:  0 train: loss:0.018\n"
     ]
    },
    {
     "name": "stderr",
     "output_type": "stream",
     "text": [
      "100%|██████████| 29/29 [20:54<00:00, 43.24s/it]\n"
     ]
    },
    {
     "name": "stdout",
     "output_type": "stream",
     "text": [
      "epoch: 8 iter:  0 train: loss:0.017\n"
     ]
    },
    {
     "name": "stderr",
     "output_type": "stream",
     "text": [
      "100%|██████████| 29/29 [20:55<00:00, 43.28s/it]\n"
     ]
    },
    {
     "name": "stdout",
     "output_type": "stream",
     "text": [
      "epoch: 9 iter:  0 train: loss:0.015\n"
     ]
    },
    {
     "name": "stderr",
     "output_type": "stream",
     "text": [
      "100%|██████████| 29/29 [20:51<00:00, 43.15s/it]\n"
     ]
    },
    {
     "name": "stdout",
     "output_type": "stream",
     "text": [
      "epoch:10 iter:  0 train: loss:0.014\n"
     ]
    },
    {
     "name": "stderr",
     "output_type": "stream",
     "text": [
      "100%|██████████| 29/29 [20:50<00:00, 43.11s/it]\n"
     ]
    },
    {
     "name": "stdout",
     "output_type": "stream",
     "text": [
      "epoch:11 iter:  0 train: loss:0.012\n"
     ]
    },
    {
     "name": "stderr",
     "output_type": "stream",
     "text": [
      "100%|██████████| 29/29 [20:43<00:00, 42.86s/it]\n"
     ]
    },
    {
     "name": "stdout",
     "output_type": "stream",
     "text": [
      "epoch:12 iter:  0 train: loss:0.010\n"
     ]
    },
    {
     "name": "stderr",
     "output_type": "stream",
     "text": [
      "100%|██████████| 29/29 [20:43<00:00, 42.89s/it]\n"
     ]
    },
    {
     "name": "stdout",
     "output_type": "stream",
     "text": [
      "epoch:13 iter:  0 train: loss:0.008\n"
     ]
    },
    {
     "name": "stderr",
     "output_type": "stream",
     "text": [
      "100%|██████████| 29/29 [20:42<00:00, 42.85s/it]\n"
     ]
    },
    {
     "name": "stdout",
     "output_type": "stream",
     "text": [
      "epoch:14 iter:  0 train: loss:0.007\n"
     ]
    },
    {
     "name": "stderr",
     "output_type": "stream",
     "text": [
      "100%|██████████| 29/29 [20:43<00:00, 42.87s/it]\n"
     ]
    },
    {
     "name": "stdout",
     "output_type": "stream",
     "text": [
      "epoch:15 iter:  0 train: loss:0.007\n"
     ]
    },
    {
     "name": "stderr",
     "output_type": "stream",
     "text": [
      "100%|██████████| 29/29 [20:41<00:00, 42.82s/it]\n"
     ]
    },
    {
     "name": "stdout",
     "output_type": "stream",
     "text": [
      "epoch:16 iter:  0 train: loss:0.008\n"
     ]
    },
    {
     "name": "stderr",
     "output_type": "stream",
     "text": [
      "100%|██████████| 29/29 [20:47<00:00, 43.02s/it]\n"
     ]
    },
    {
     "name": "stdout",
     "output_type": "stream",
     "text": [
      "epoch:17 iter:  0 train: loss:0.007\n"
     ]
    },
    {
     "name": "stderr",
     "output_type": "stream",
     "text": [
      "100%|██████████| 29/29 [20:56<00:00, 43.34s/it]\n"
     ]
    },
    {
     "name": "stdout",
     "output_type": "stream",
     "text": [
      "epoch:18 iter:  0 train: loss:0.008\n"
     ]
    },
    {
     "name": "stderr",
     "output_type": "stream",
     "text": [
      "100%|██████████| 29/29 [20:51<00:00, 43.17s/it]\n"
     ]
    },
    {
     "name": "stdout",
     "output_type": "stream",
     "text": [
      "epoch:19 iter:  0 train: loss:0.006\n"
     ]
    },
    {
     "name": "stderr",
     "output_type": "stream",
     "text": [
      "100%|██████████| 29/29 [20:50<00:00, 43.11s/it]"
     ]
    },
    {
     "name": "stdout",
     "output_type": "stream",
     "text": [
      "epoch:20 iter:  0 train: loss:0.005\n"
     ]
    },
    {
     "name": "stderr",
     "output_type": "stream",
     "text": [
      "\n"
     ]
    }
   ],
   "source": [
    "epoch = 0\n",
    "max_epoch_number = 20\n",
    "iteration = 0\n",
    "test_freq = 60 #how often to print status reports\n",
    "\n",
    "while True:\n",
    "    batch_losses = []\n",
    "    for imgs, targets in tqdm(train_dataloader):\n",
    "        #imgs, targets = imgs.to(device), targets.to(device)\n",
    "        \n",
    "        optimizer.zero_grad()\n",
    "        \n",
    "        model_result = model(imgs)\n",
    "        loss = criterion(model_result, targets)#.type(torch.float))\n",
    "        \n",
    "        batch_loss_value = loss.item()\n",
    "        loss.backward()\n",
    "        optimizer.step()\n",
    "        \n",
    "        batch_losses.append(batch_loss_value)\n",
    "        \n",
    "#         if iteration % test_freq == 0:\n",
    "#             model.eval()\n",
    "#             with torch.no_grad():\n",
    "#                 model_result = []\n",
    "#                 targets = []\n",
    "#                 for imgs, batch_targets in valid_dataloader:\n",
    "# #                     imgs = imgs.to(device)\n",
    "#                     model_batch_result = model(imgs)\n",
    "#                     model_result.extend(model_batch_result.numpy())\n",
    "#                     targets.extend(batch_targets.numpy())\n",
    "\n",
    "#             result = calculate_metrics(np.array(model_result), np.array(targets))\n",
    "#             print(\"epoch:{:2d} iter:{:3d} test: \"\n",
    "#                   \"micro f1: {:.3f} \"\n",
    "#                   \"macro f1: {:.3f} \"\n",
    "#                   \"samples f1: {:.3f}\".format(epoch, iteration,\n",
    "#                                               result['micro/f1'],\n",
    "#                                               result['macro/f1'],\n",
    "#                                               result['samples/f1']))\n",
    "\n",
    "#             model.train()\n",
    "#         iteration += 1\n",
    "\n",
    "    loss_value = np.mean(batch_losses)\n",
    "    print(\"epoch:{:2d} iter:{:3d} train: loss:{:.3f}\".format(epoch, iteration, loss_value))\n",
    "#     if epoch % save_freq == 0:\n",
    "#         checkpoint_save(model, save_path, epoch)\n",
    "    epoch += 1\n",
    "    if max_epoch_number < epoch:\n",
    "        break"
   ]
  },
  {
   "cell_type": "markdown",
   "id": "0254f2b3",
   "metadata": {
    "papermill": {
     "duration": 0.24328,
     "end_time": "2022-06-14T10:04:00.602957",
     "exception": false,
     "start_time": "2022-06-14T10:04:00.359677",
     "status": "completed"
    },
    "tags": []
   },
   "source": [
    "# Test the Network"
   ]
  },
  {
   "cell_type": "code",
   "execution_count": 27,
   "id": "6cfa078c",
   "metadata": {
    "execution": {
     "iopub.execute_input": "2022-06-14T10:04:01.105321Z",
     "iopub.status.busy": "2022-06-14T10:04:01.104688Z",
     "iopub.status.idle": "2022-06-14T10:04:03.500718Z",
     "shell.execute_reply": "2022-06-14T10:04:03.499837Z"
    },
    "papermill": {
     "duration": 2.649379,
     "end_time": "2022-06-14T10:04:03.503409",
     "exception": false,
     "start_time": "2022-06-14T10:04:00.854030",
     "status": "completed"
    },
    "tags": []
   },
   "outputs": [
    {
     "name": "stdout",
     "output_type": "stream",
     "text": [
      "Listing files...\n",
      "Finished.\n"
     ]
    }
   ],
   "source": [
    "# Load test dataset\n",
    "test_dataset = img_dataset('../input/xray-body-images-in-png-unifesp-competion/images/test/','../input/xray-body-images-in-png-unifesp-competion/test_df.csv')\n",
    "\n",
    "# Make dataloader for test data, no reason to make the batches large if it's not being used for training\n",
    "test_dataloader = DataLoader(\n",
    "    test_dataset,\n",
    "    batch_size = 30,\n",
    "    shuffle = False\n",
    ")"
   ]
  },
  {
   "cell_type": "code",
   "execution_count": 28,
   "id": "72998b24",
   "metadata": {
    "execution": {
     "iopub.execute_input": "2022-06-14T10:04:04.313982Z",
     "iopub.status.busy": "2022-06-14T10:04:04.313685Z",
     "iopub.status.idle": "2022-06-14T10:06:36.858217Z",
     "shell.execute_reply": "2022-06-14T10:06:36.857408Z"
    },
    "papermill": {
     "duration": 152.960349,
     "end_time": "2022-06-14T10:06:36.860656",
     "exception": false,
     "start_time": "2022-06-14T10:04:03.900307",
     "status": "completed"
    },
    "tags": []
   },
   "outputs": [],
   "source": [
    "model.eval()\n",
    "with torch.no_grad():\n",
    "    model_result = []\n",
    "    for imgs, batch_targets in test_dataloader:\n",
    "        model_batch_result = model(imgs)\n",
    "        model_result.extend(model_batch_result.numpy())\n",
    "\n",
    "# Convert predictions into binary\n",
    "predicts = np.array(np.array(model_result)>0.5, dtype=float)"
   ]
  },
  {
   "cell_type": "code",
   "execution_count": 29,
   "id": "863cb26e",
   "metadata": {
    "execution": {
     "iopub.execute_input": "2022-06-14T10:06:37.650379Z",
     "iopub.status.busy": "2022-06-14T10:06:37.649627Z",
     "iopub.status.idle": "2022-06-14T10:06:37.855420Z",
     "shell.execute_reply": "2022-06-14T10:06:37.854667Z"
    },
    "papermill": {
     "duration": 0.601976,
     "end_time": "2022-06-14T10:06:37.857521",
     "exception": false,
     "start_time": "2022-06-14T10:06:37.255545",
     "status": "completed"
    },
    "tags": []
   },
   "outputs": [
    {
     "name": "stdout",
     "output_type": "stream",
     "text": [
      "Listing files...\n",
      "Finished.\n"
     ]
    }
   ],
   "source": [
    "# Convert predictions into table and save as csv file\n",
    "\n",
    "#q = image_prep('../input/xray-body-images-in-png-unifesp-competion/images/test/')\n",
    "\n",
    "tags = []\n",
    "for idx, pred in enumerate(predicts):\n",
    "    _ = np.where(pred==1)[0]\n",
    "    if _.size == 0:\n",
    "        # If there is not prediction above 50%, then just take the highest perdiction\n",
    "        _ = np.array(np.array(model_result[idx])==np.array(model_result[idx]).max(), dtype = float)\n",
    "        tags.append(np.where(_==1)[0])\n",
    "    else:\n",
    "        tags.append(_)\n",
    "        \n",
    "results = image_prep('../input/xray-body-images-in-png-unifesp-competion/images/test/')\n",
    "\n",
    "results['Target'] = tags\n"
   ]
  },
  {
   "cell_type": "code",
   "execution_count": 30,
   "id": "f129a063",
   "metadata": {
    "execution": {
     "iopub.execute_input": "2022-06-14T10:06:38.655478Z",
     "iopub.status.busy": "2022-06-14T10:06:38.655075Z",
     "iopub.status.idle": "2022-06-14T10:06:38.707625Z",
     "shell.execute_reply": "2022-06-14T10:06:38.706820Z"
    },
    "papermill": {
     "duration": 0.448262,
     "end_time": "2022-06-14T10:06:38.710244",
     "exception": false,
     "start_time": "2022-06-14T10:06:38.261982",
     "status": "completed"
    },
    "tags": []
   },
   "outputs": [],
   "source": [
    "submission_df = results[['SOPInstanceUID','Target']]\n",
    "submission_df.to_csv('submission.csv',header=True, index=False)"
   ]
  },
  {
   "cell_type": "code",
   "execution_count": 31,
   "id": "de726515",
   "metadata": {
    "execution": {
     "iopub.execute_input": "2022-06-14T10:06:39.500996Z",
     "iopub.status.busy": "2022-06-14T10:06:39.500694Z",
     "iopub.status.idle": "2022-06-14T10:06:39.521746Z",
     "shell.execute_reply": "2022-06-14T10:06:39.520826Z"
    },
    "papermill": {
     "duration": 0.418638,
     "end_time": "2022-06-14T10:06:39.524367",
     "exception": false,
     "start_time": "2022-06-14T10:06:39.105729",
     "status": "completed"
    },
    "tags": []
   },
   "outputs": [
    {
     "data": {
      "text/html": [
       "<div>\n",
       "<style scoped>\n",
       "    .dataframe tbody tr th:only-of-type {\n",
       "        vertical-align: middle;\n",
       "    }\n",
       "\n",
       "    .dataframe tbody tr th {\n",
       "        vertical-align: top;\n",
       "    }\n",
       "\n",
       "    .dataframe thead th {\n",
       "        text-align: right;\n",
       "    }\n",
       "</style>\n",
       "<table border=\"1\" class=\"dataframe\">\n",
       "  <thead>\n",
       "    <tr style=\"text-align: right;\">\n",
       "      <th></th>\n",
       "      <th>SOPInstanceUID</th>\n",
       "      <th>Target</th>\n",
       "    </tr>\n",
       "  </thead>\n",
       "  <tbody>\n",
       "    <tr>\n",
       "      <th>0</th>\n",
       "      <td>1.2.826.0.1.3680043.8.498.26320830403996890405...</td>\n",
       "      <td>[3]</td>\n",
       "    </tr>\n",
       "    <tr>\n",
       "      <th>1</th>\n",
       "      <td>1.2.826.0.1.3680043.8.498.68937905807253381993...</td>\n",
       "      <td>[13, 20]</td>\n",
       "    </tr>\n",
       "    <tr>\n",
       "      <th>2</th>\n",
       "      <td>1.2.826.0.1.3680043.8.498.66266093725587193363...</td>\n",
       "      <td>[3]</td>\n",
       "    </tr>\n",
       "    <tr>\n",
       "      <th>3</th>\n",
       "      <td>1.2.826.0.1.3680043.8.498.50797364402056824587...</td>\n",
       "      <td>[14]</td>\n",
       "    </tr>\n",
       "    <tr>\n",
       "      <th>4</th>\n",
       "      <td>1.2.826.0.1.3680043.8.498.78821712082546284288...</td>\n",
       "      <td>[9]</td>\n",
       "    </tr>\n",
       "    <tr>\n",
       "      <th>...</th>\n",
       "      <td>...</td>\n",
       "      <td>...</td>\n",
       "    </tr>\n",
       "    <tr>\n",
       "      <th>738</th>\n",
       "      <td>1.2.826.0.1.3680043.8.498.78086026280182392419...</td>\n",
       "      <td>[3]</td>\n",
       "    </tr>\n",
       "    <tr>\n",
       "      <th>739</th>\n",
       "      <td>1.2.826.0.1.3680043.8.498.13038526348243066795...</td>\n",
       "      <td>[3]</td>\n",
       "    </tr>\n",
       "    <tr>\n",
       "      <th>740</th>\n",
       "      <td>1.2.826.0.1.3680043.8.498.90407372373988229364...</td>\n",
       "      <td>[11]</td>\n",
       "    </tr>\n",
       "    <tr>\n",
       "      <th>741</th>\n",
       "      <td>1.2.826.0.1.3680043.8.498.13711169384777081133...</td>\n",
       "      <td>[3]</td>\n",
       "    </tr>\n",
       "    <tr>\n",
       "      <th>742</th>\n",
       "      <td>1.2.826.0.1.3680043.8.498.12648512742164262305...</td>\n",
       "      <td>[21]</td>\n",
       "    </tr>\n",
       "  </tbody>\n",
       "</table>\n",
       "<p>743 rows × 2 columns</p>\n",
       "</div>"
      ],
      "text/plain": [
       "                                        SOPInstanceUID    Target\n",
       "0    1.2.826.0.1.3680043.8.498.26320830403996890405...       [3]\n",
       "1    1.2.826.0.1.3680043.8.498.68937905807253381993...  [13, 20]\n",
       "2    1.2.826.0.1.3680043.8.498.66266093725587193363...       [3]\n",
       "3    1.2.826.0.1.3680043.8.498.50797364402056824587...      [14]\n",
       "4    1.2.826.0.1.3680043.8.498.78821712082546284288...       [9]\n",
       "..                                                 ...       ...\n",
       "738  1.2.826.0.1.3680043.8.498.78086026280182392419...       [3]\n",
       "739  1.2.826.0.1.3680043.8.498.13038526348243066795...       [3]\n",
       "740  1.2.826.0.1.3680043.8.498.90407372373988229364...      [11]\n",
       "741  1.2.826.0.1.3680043.8.498.13711169384777081133...       [3]\n",
       "742  1.2.826.0.1.3680043.8.498.12648512742164262305...      [21]\n",
       "\n",
       "[743 rows x 2 columns]"
      ]
     },
     "execution_count": 31,
     "metadata": {},
     "output_type": "execute_result"
    }
   ],
   "source": [
    "submission_df"
   ]
  },
  {
   "cell_type": "code",
   "execution_count": 32,
   "id": "d6a86455",
   "metadata": {
    "execution": {
     "iopub.execute_input": "2022-06-14T10:06:40.309843Z",
     "iopub.status.busy": "2022-06-14T10:06:40.309541Z",
     "iopub.status.idle": "2022-06-14T10:06:40.313091Z",
     "shell.execute_reply": "2022-06-14T10:06:40.312531Z"
    },
    "papermill": {
     "duration": 0.39946,
     "end_time": "2022-06-14T10:06:40.314831",
     "exception": false,
     "start_time": "2022-06-14T10:06:39.915371",
     "status": "completed"
    },
    "tags": []
   },
   "outputs": [],
   "source": [
    "#pd.read_csv('submission.csv')"
   ]
  },
  {
   "cell_type": "code",
   "execution_count": null,
   "id": "4dfddc69",
   "metadata": {
    "papermill": {
     "duration": 0.394041,
     "end_time": "2022-06-14T10:06:41.102935",
     "exception": false,
     "start_time": "2022-06-14T10:06:40.708894",
     "status": "completed"
    },
    "tags": []
   },
   "outputs": [],
   "source": []
  }
 ],
 "metadata": {
  "kernelspec": {
   "display_name": "Python 3",
   "language": "python",
   "name": "python3"
  },
  "language_info": {
   "codemirror_mode": {
    "name": "ipython",
    "version": 3
   },
   "file_extension": ".py",
   "mimetype": "text/x-python",
   "name": "python",
   "nbconvert_exporter": "python",
   "pygments_lexer": "ipython3",
   "version": "3.7.12"
  },
  "papermill": {
   "default_parameters": {},
   "duration": 26437.636611,
   "end_time": "2022-06-14T10:06:44.408737",
   "environment_variables": {},
   "exception": null,
   "input_path": "__notebook__.ipynb",
   "output_path": "__notebook__.ipynb",
   "parameters": {},
   "start_time": "2022-06-14T02:46:06.772126",
   "version": "2.3.4"
  },
  "widgets": {
   "application/vnd.jupyter.widget-state+json": {
    "state": {
     "06d5c41cbfe447bd8d12cbca325fe4bc": {
      "model_module": "@jupyter-widgets/base",
      "model_module_version": "1.2.0",
      "model_name": "LayoutModel",
      "state": {
       "_model_module": "@jupyter-widgets/base",
       "_model_module_version": "1.2.0",
       "_model_name": "LayoutModel",
       "_view_count": null,
       "_view_module": "@jupyter-widgets/base",
       "_view_module_version": "1.2.0",
       "_view_name": "LayoutView",
       "align_content": null,
       "align_items": null,
       "align_self": null,
       "border": null,
       "bottom": null,
       "display": null,
       "flex": null,
       "flex_flow": null,
       "grid_area": null,
       "grid_auto_columns": null,
       "grid_auto_flow": null,
       "grid_auto_rows": null,
       "grid_column": null,
       "grid_gap": null,
       "grid_row": null,
       "grid_template_areas": null,
       "grid_template_columns": null,
       "grid_template_rows": null,
       "height": null,
       "justify_content": null,
       "justify_items": null,
       "left": null,
       "margin": null,
       "max_height": null,
       "max_width": null,
       "min_height": null,
       "min_width": null,
       "object_fit": null,
       "object_position": null,
       "order": null,
       "overflow": null,
       "overflow_x": null,
       "overflow_y": null,
       "padding": null,
       "right": null,
       "top": null,
       "visibility": null,
       "width": null
      }
     },
     "0eb5d028cb294441be0b5347ecdefb76": {
      "model_module": "@jupyter-widgets/base",
      "model_module_version": "1.2.0",
      "model_name": "LayoutModel",
      "state": {
       "_model_module": "@jupyter-widgets/base",
       "_model_module_version": "1.2.0",
       "_model_name": "LayoutModel",
       "_view_count": null,
       "_view_module": "@jupyter-widgets/base",
       "_view_module_version": "1.2.0",
       "_view_name": "LayoutView",
       "align_content": null,
       "align_items": null,
       "align_self": null,
       "border": null,
       "bottom": null,
       "display": null,
       "flex": null,
       "flex_flow": null,
       "grid_area": null,
       "grid_auto_columns": null,
       "grid_auto_flow": null,
       "grid_auto_rows": null,
       "grid_column": null,
       "grid_gap": null,
       "grid_row": null,
       "grid_template_areas": null,
       "grid_template_columns": null,
       "grid_template_rows": null,
       "height": null,
       "justify_content": null,
       "justify_items": null,
       "left": null,
       "margin": null,
       "max_height": null,
       "max_width": null,
       "min_height": null,
       "min_width": null,
       "object_fit": null,
       "object_position": null,
       "order": null,
       "overflow": null,
       "overflow_x": null,
       "overflow_y": null,
       "padding": null,
       "right": null,
       "top": null,
       "visibility": null,
       "width": null
      }
     },
     "1ebeb3b1d2dc4543b4f77998afbc1736": {
      "model_module": "@jupyter-widgets/base",
      "model_module_version": "1.2.0",
      "model_name": "LayoutModel",
      "state": {
       "_model_module": "@jupyter-widgets/base",
       "_model_module_version": "1.2.0",
       "_model_name": "LayoutModel",
       "_view_count": null,
       "_view_module": "@jupyter-widgets/base",
       "_view_module_version": "1.2.0",
       "_view_name": "LayoutView",
       "align_content": null,
       "align_items": null,
       "align_self": null,
       "border": null,
       "bottom": null,
       "display": null,
       "flex": null,
       "flex_flow": null,
       "grid_area": null,
       "grid_auto_columns": null,
       "grid_auto_flow": null,
       "grid_auto_rows": null,
       "grid_column": null,
       "grid_gap": null,
       "grid_row": null,
       "grid_template_areas": null,
       "grid_template_columns": null,
       "grid_template_rows": null,
       "height": null,
       "justify_content": null,
       "justify_items": null,
       "left": null,
       "margin": null,
       "max_height": null,
       "max_width": null,
       "min_height": null,
       "min_width": null,
       "object_fit": null,
       "object_position": null,
       "order": null,
       "overflow": null,
       "overflow_x": null,
       "overflow_y": null,
       "padding": null,
       "right": null,
       "top": null,
       "visibility": null,
       "width": null
      }
     },
     "1f7102cb3de3404693242ee44b1c21e8": {
      "model_module": "@jupyter-widgets/controls",
      "model_module_version": "1.5.0",
      "model_name": "FloatProgressModel",
      "state": {
       "_dom_classes": [],
       "_model_module": "@jupyter-widgets/controls",
       "_model_module_version": "1.5.0",
       "_model_name": "FloatProgressModel",
       "_view_count": null,
       "_view_module": "@jupyter-widgets/controls",
       "_view_module_version": "1.5.0",
       "_view_name": "ProgressView",
       "bar_style": "success",
       "description": "",
       "description_tooltip": null,
       "layout": "IPY_MODEL_06d5c41cbfe447bd8d12cbca325fe4bc",
       "max": 100441675.0,
       "min": 0.0,
       "orientation": "horizontal",
       "style": "IPY_MODEL_5aeb69901d1a4e7197ee944749d3d6a5",
       "value": 100441675.0
      }
     },
     "5aeb69901d1a4e7197ee944749d3d6a5": {
      "model_module": "@jupyter-widgets/controls",
      "model_module_version": "1.5.0",
      "model_name": "ProgressStyleModel",
      "state": {
       "_model_module": "@jupyter-widgets/controls",
       "_model_module_version": "1.5.0",
       "_model_name": "ProgressStyleModel",
       "_view_count": null,
       "_view_module": "@jupyter-widgets/base",
       "_view_module_version": "1.2.0",
       "_view_name": "StyleView",
       "bar_color": null,
       "description_width": ""
      }
     },
     "725968753c994917a494acbcdff897a0": {
      "model_module": "@jupyter-widgets/base",
      "model_module_version": "1.2.0",
      "model_name": "LayoutModel",
      "state": {
       "_model_module": "@jupyter-widgets/base",
       "_model_module_version": "1.2.0",
       "_model_name": "LayoutModel",
       "_view_count": null,
       "_view_module": "@jupyter-widgets/base",
       "_view_module_version": "1.2.0",
       "_view_name": "LayoutView",
       "align_content": null,
       "align_items": null,
       "align_self": null,
       "border": null,
       "bottom": null,
       "display": null,
       "flex": null,
       "flex_flow": null,
       "grid_area": null,
       "grid_auto_columns": null,
       "grid_auto_flow": null,
       "grid_auto_rows": null,
       "grid_column": null,
       "grid_gap": null,
       "grid_row": null,
       "grid_template_areas": null,
       "grid_template_columns": null,
       "grid_template_rows": null,
       "height": null,
       "justify_content": null,
       "justify_items": null,
       "left": null,
       "margin": null,
       "max_height": null,
       "max_width": null,
       "min_height": null,
       "min_width": null,
       "object_fit": null,
       "object_position": null,
       "order": null,
       "overflow": null,
       "overflow_x": null,
       "overflow_y": null,
       "padding": null,
       "right": null,
       "top": null,
       "visibility": null,
       "width": null
      }
     },
     "78f06eb1f14c43f9b507c5035e12ca6f": {
      "model_module": "@jupyter-widgets/controls",
      "model_module_version": "1.5.0",
      "model_name": "DescriptionStyleModel",
      "state": {
       "_model_module": "@jupyter-widgets/controls",
       "_model_module_version": "1.5.0",
       "_model_name": "DescriptionStyleModel",
       "_view_count": null,
       "_view_module": "@jupyter-widgets/base",
       "_view_module_version": "1.2.0",
       "_view_name": "StyleView",
       "description_width": ""
      }
     },
     "98cebd5ba26a40c8bde88b736d389adf": {
      "model_module": "@jupyter-widgets/controls",
      "model_module_version": "1.5.0",
      "model_name": "HBoxModel",
      "state": {
       "_dom_classes": [],
       "_model_module": "@jupyter-widgets/controls",
       "_model_module_version": "1.5.0",
       "_model_name": "HBoxModel",
       "_view_count": null,
       "_view_module": "@jupyter-widgets/controls",
       "_view_module_version": "1.5.0",
       "_view_name": "HBoxView",
       "box_style": "",
       "children": [
        "IPY_MODEL_eb54c11aad374bec8f4d1aa2b5a61d86",
        "IPY_MODEL_1f7102cb3de3404693242ee44b1c21e8",
        "IPY_MODEL_9dc09c32133b47e4b397825eacdb09d8"
       ],
       "layout": "IPY_MODEL_0eb5d028cb294441be0b5347ecdefb76"
      }
     },
     "9dc09c32133b47e4b397825eacdb09d8": {
      "model_module": "@jupyter-widgets/controls",
      "model_module_version": "1.5.0",
      "model_name": "HTMLModel",
      "state": {
       "_dom_classes": [],
       "_model_module": "@jupyter-widgets/controls",
       "_model_module_version": "1.5.0",
       "_model_name": "HTMLModel",
       "_view_count": null,
       "_view_module": "@jupyter-widgets/controls",
       "_view_module_version": "1.5.0",
       "_view_name": "HTMLView",
       "description": "",
       "description_tooltip": null,
       "layout": "IPY_MODEL_1ebeb3b1d2dc4543b4f77998afbc1736",
       "placeholder": "​",
       "style": "IPY_MODEL_d4be7378b8cb4045b7631cc751b03ede",
       "value": " 95.8M/95.8M [00:03&lt;00:00, 34.1MB/s]"
      }
     },
     "d4be7378b8cb4045b7631cc751b03ede": {
      "model_module": "@jupyter-widgets/controls",
      "model_module_version": "1.5.0",
      "model_name": "DescriptionStyleModel",
      "state": {
       "_model_module": "@jupyter-widgets/controls",
       "_model_module_version": "1.5.0",
       "_model_name": "DescriptionStyleModel",
       "_view_count": null,
       "_view_module": "@jupyter-widgets/base",
       "_view_module_version": "1.2.0",
       "_view_name": "StyleView",
       "description_width": ""
      }
     },
     "eb54c11aad374bec8f4d1aa2b5a61d86": {
      "model_module": "@jupyter-widgets/controls",
      "model_module_version": "1.5.0",
      "model_name": "HTMLModel",
      "state": {
       "_dom_classes": [],
       "_model_module": "@jupyter-widgets/controls",
       "_model_module_version": "1.5.0",
       "_model_name": "HTMLModel",
       "_view_count": null,
       "_view_module": "@jupyter-widgets/controls",
       "_view_module_version": "1.5.0",
       "_view_name": "HTMLView",
       "description": "",
       "description_tooltip": null,
       "layout": "IPY_MODEL_725968753c994917a494acbcdff897a0",
       "placeholder": "​",
       "style": "IPY_MODEL_78f06eb1f14c43f9b507c5035e12ca6f",
       "value": "100%"
      }
     }
    },
    "version_major": 2,
    "version_minor": 0
   }
  }
 },
 "nbformat": 4,
 "nbformat_minor": 5
}
